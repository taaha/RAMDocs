{
 "cells": [
  {
   "cell_type": "code",
   "execution_count": 1,
   "metadata": {},
   "outputs": [],
   "source": [
    "import dspy\n",
    "from decouple import config\n",
    "from typing import Literal, List\n",
    "\n",
    "OPENROUTER_API_KEY = config(\"OPENROUTER_API_KEY\")"
   ]
  },
  {
   "cell_type": "code",
   "execution_count": 2,
   "metadata": {},
   "outputs": [],
   "source": [
    "lm = dspy.LM(\"openrouter/qwen/qwen-2.5-72b-instruct\", api_key=OPENROUTER_API_KEY, api_base=\"https://openrouter.ai/api/v1\",)\n",
    "dspy.configure(lm=lm)\n",
    "# lm = dspy.LM(\"openai/qwen/qwen-2.5-72b-instruct\",\n",
    "#              api_base=\"https://api.runpod.ai/v2/kxktu8q9taf7nk/run\",  # ensure this points to your port\n",
    "#              api_key=\"rpa_81U1YO669EZ3Z46N1E48B97YSMXV0ZAL3FPC5HYLq7z6rg\")\n",
    "# dspy.configure(lm=lm)"
   ]
  },
  {
   "cell_type": "code",
   "execution_count": 3,
   "metadata": {},
   "outputs": [
    {
     "data": {
      "text/plain": [
       "Prediction(\n",
       "    sentiment='positive',\n",
       "    confidence=0.85\n",
       ")"
      ]
     },
     "execution_count": 3,
     "metadata": {},
     "output_type": "execute_result"
    }
   ],
   "source": [
    "from typing import Literal\n",
    "\n",
    "class Classify(dspy.Signature):\n",
    "    \"\"\"Classify sentiment of a given sentence.\"\"\"\n",
    "\n",
    "    sentence: str = dspy.InputField()\n",
    "    sentiment: Literal[\"positive\", \"negative\", \"neutral\"] = dspy.OutputField()\n",
    "    confidence: float = dspy.OutputField()\n",
    "\n",
    "classify = dspy.Predict(Classify)\n",
    "classify(sentence=\"This book was super fun to read, though not the last chapter.\")"
   ]
  },
  {
   "cell_type": "code",
   "execution_count": 4,
   "metadata": {},
   "outputs": [],
   "source": [
    "class Answer(dspy.Signature):\n",
    "    \"\"\"Answer a question based on the provided documents.\"\"\"\n",
    "\n",
    "    question: str = dspy.InputField()\n",
    "    context: str = dspy.InputField()\n",
    "    correct_answers: List[str] = dspy.OutputField()\n",
    "    explanation: str = dspy.OutputField()"
   ]
  },
  {
   "cell_type": "code",
   "execution_count": 5,
   "metadata": {},
   "outputs": [],
   "source": [
    "answer = dspy.ChainOfThought(Answer)"
   ]
  },
  {
   "cell_type": "markdown",
   "metadata": {},
   "source": [
    "### Processing data into dspy examples"
   ]
  },
  {
   "cell_type": "code",
   "execution_count": 6,
   "metadata": {},
   "outputs": [],
   "source": [
    "import ujson\n",
    "\n",
    "file_path = \"/home/darth/Documents/code/ramdocs/RAMDocs/src/data/split_data/RAMDocs_test_train.jsonl\"\n",
    "\n",
    "data = []\n",
    "with open(file_path) as f:\n",
    "    for line in f:\n",
    "        line = ujson.loads(line)\n",
    "        line_data = {\n",
    "            'question': line['question'],\n",
    "            'context': \"\\n\".join([\"Document \" + str(i+1) + \": \" + doc['text'] for i, doc in enumerate(line['documents'])]),\n",
    "            \"documents\": line['documents'],\n",
    "            \"disambig_entity\": line['disambig_entity'],\n",
    "            \"gold_answers\": line['gold_answers'],\n",
    "            \"wrong_answers\": line['wrong_answers']\n",
    "        }\n",
    "        data.append(line_data)\n",
    "    # data = [ujson.loads(line) for line in f]"
   ]
  },
  {
   "cell_type": "code",
   "execution_count": 7,
   "metadata": {},
   "outputs": [
    {
     "data": {
      "text/plain": [
       "{'question': 'What is the profession of C. Mayer?',\n",
       " 'context': 'Document 1: Christa Mayer Christa Mayer is a German operatic mezzo-soprano. She is particularly known for her portrayal of Erda in Richard Wagner\\'s \"Ring Cycle\"; a role which she has performed several times at the Bayreuth Festival and recorded on the BBC Legends Record Label. Christa Mayer was born in Sulzbach-Rosenberg, Germany in Bavaria. After graduating from the Bavarian Academy of Singing, she pursued further studies at the Munich Academy of Music where she was a pupil of tenor Thomas Moser. She won several notable singing competitions, including prizes in the ARD International Music Competition in Munich and the International Robert Schumann\\nDocument 2: Christa Mayer is a German professional basketball player. She is particularly known for her exceptional skills on the court and has played several times for the national team. Christa Mayer was born in Sulzbach-Rosenberg, Germany in Bavaria. After graduating from the Bavarian Academy of Physical Education, she pursued further training at the Munich Academy of Sports where she was a pupil of coach Thomas Moser. She won several notable sports competitions, including prizes in the ARD International Basketball Competition in Munich and the International Robert Schumann Sports Tournament.\\nDocument 3: Constant Mayer Constant Mayer (October 3, 1829 – May 12, 1911) was a French painter who emigrated to the United States. Mayer was born in Besançon, France. The family was Jewish. He studied in Paris in the École des Beaux-Arts and under Léon Cogniet, and followed his profession in that city until 1854, when he moved to New York City. Mayer worked as a colorist at the photography studio of Jeremiah Gurney and CD Fredericks, at 340 Broadway, in Manhattan. With his own studio, at 1155 Broadway, he became known for his genre or historical paintings based on literature, and\\nDocument 4: , he began giving him copper trimmings which were of no use and Mayer considered Wilson to be his first partner and his best friend . Wilson remembered that he was impressed with the boy \\'s good manners and bright personality . [ 22 ] Whenever Mayer visited Saint John in later years , he placed flowers on Wilson \\'s grave , just as he did on his mother \\'s . [ 22 ] I had been to his hometown . I knew from whence he sprang . He taught himself grammar . He taught himself manners . If anybody',\n",
       " 'documents': [{'text': 'Christa Mayer Christa Mayer is a German operatic mezzo-soprano. She is particularly known for her portrayal of Erda in Richard Wagner\\'s \"Ring Cycle\"; a role which she has performed several times at the Bayreuth Festival and recorded on the BBC Legends Record Label. Christa Mayer was born in Sulzbach-Rosenberg, Germany in Bavaria. After graduating from the Bavarian Academy of Singing, she pursued further studies at the Munich Academy of Music where she was a pupil of tenor Thomas Moser. She won several notable singing competitions, including prizes in the ARD International Music Competition in Munich and the International Robert Schumann',\n",
       "   'type': 'correct',\n",
       "   'answer': 'Operatic mezzo-soprano'},\n",
       "  {'text': 'Christa Mayer is a German professional basketball player. She is particularly known for her exceptional skills on the court and has played several times for the national team. Christa Mayer was born in Sulzbach-Rosenberg, Germany in Bavaria. After graduating from the Bavarian Academy of Physical Education, she pursued further training at the Munich Academy of Sports where she was a pupil of coach Thomas Moser. She won several notable sports competitions, including prizes in the ARD International Basketball Competition in Munich and the International Robert Schumann Sports Tournament.',\n",
       "   'type': 'misinfo',\n",
       "   'answer': 'Professional basketball player'},\n",
       "  {'text': 'Constant Mayer Constant Mayer (October 3, 1829 – May 12, 1911) was a French painter who emigrated to the United States. Mayer was born in Besançon, France. The family was Jewish. He studied in Paris in the École des Beaux-Arts and under Léon Cogniet, and followed his profession in that city until 1854, when he moved to New York City. Mayer worked as a colorist at the photography studio of Jeremiah Gurney and CD Fredericks, at 340 Broadway, in Manhattan. With his own studio, at 1155 Broadway, he became known for his genre or historical paintings based on literature, and',\n",
       "   'type': 'noise',\n",
       "   'answer': 'unknown'},\n",
       "  {'text': \", he began giving him copper trimmings which were of no use and Mayer considered Wilson to be his first partner and his best friend . Wilson remembered that he was impressed with the boy 's good manners and bright personality . [ 22 ] Whenever Mayer visited Saint John in later years , he placed flowers on Wilson 's grave , just as he did on his mother 's . [ 22 ] I had been to his hometown . I knew from whence he sprang . He taught himself grammar . He taught himself manners . If anybody\",\n",
       "   'type': 'noise',\n",
       "   'answer': 'unknown'}],\n",
       " 'disambig_entity': ['Christa Mayer', 'Constant Mayer'],\n",
       " 'gold_answers': ['Operatic mezzo-soprano', 'Painter and artist'],\n",
       " 'wrong_answers': ['Professional basketball player']}"
      ]
     },
     "execution_count": 7,
     "metadata": {},
     "output_type": "execute_result"
    }
   ],
   "source": [
    "data[0]"
   ]
  },
  {
   "cell_type": "code",
   "execution_count": 8,
   "metadata": {},
   "outputs": [
    {
     "data": {
      "text/plain": [
       "Example({'question': 'What is the population of Sandusky Township, Ohio?', 'context': \"Document 1: Sandusky Township, Crawford County, Ohio Sandusky Township is one of the sixteen townships of Crawford County, Ohio, United States. As of the 2010 census the population was 459. Located in the eastern part of the county, it borders the following townships: No municipalities are located in Sandusky Township. Sandusky Township was named from the Sandusky River, which flows through its southern part. Statewide, other Sandusky Townships are located in Richland and Sandusky counties. The township is governed by a three-member board of trustees, who are elected in November of odd-numbered years to a four-year term beginning on the following January\\nDocument 2: from Wikimedia project Spanish Wikipedia located in the administrative territorial entity Crawford County 1 reference imported from Wikimedia project English Wikipedia coordinate location 40°51'5 '' N, 82°49'22 '' W 1 reference imported from Wikimedia project English Wikipedia population 1,234 statement is subject of 2020 United States Census determination method or standard census point in time 1 April 2020 1 reference stated in 2020 United States Census retrieved 1 January 2022 reference URL https : //data.census.gov/cedsci/table? t=Populations % 20and % 20People & g=0100000US, % 241600000 & y=2020 editor United States Census Bureau 1,234 determination method or\\nDocument 3: Sandusky Township, Crawford County, Ohio Sandusky Township is one of the sixteen townships of Crawford County, Ohio, United States. As of the 2010 census the population was 1,234. Located in the eastern part of the county, it borders the following townships: No municipalities are located in Sandusky Township. Sandusky Township was named from the Sandusky River, which flows through its southern part. Statewide, other Sandusky Townships are located in Richland and Sandusky counties. The township is governed by a three-member board of trustees, who are elected in November of odd-numbered years to a four-year term beginning on the following January.\\nDocument 4: County , OH have `` super commutes '' in excess of 90 minutes . The chart below shows how the median household income in Sandusky County , OH compares to that of it 's neighboring and parent geographies . View Data Save Image Share / Embed Add Data to Cart View Data Save Image Share / Embed Add Data to Cart Car Ownership 2 cars Average Number The following chart displays the households in Sandusky County , OH distributed between a series of car ownership buckets compared to the national averages for each bucket . The largest share of households\\nDocument 5: 41,228 and the median income for a family was $ 49,647 . Males had a median income of $ 40,304 versus $ 28,118 for females . The per capita income for the county was $ 20,590 . About 10.8 % of families and 13.0 % of the population were below the poverty line , including 21.3 % of those under age 18 and 6.2 % of those age 65 or over . [ 14 ] Politics [ edit ] Prior to 1924 , Crawford County was a strongly Democratic county . Since then , it has become strongly Republican ,\", 'documents': [{'text': 'Sandusky Township, Crawford County, Ohio Sandusky Township is one of the sixteen townships of Crawford County, Ohio, United States. As of the 2010 census the population was 459. Located in the eastern part of the county, it borders the following townships: No municipalities are located in Sandusky Township. Sandusky Township was named from the Sandusky River, which flows through its southern part. Statewide, other Sandusky Townships are located in Richland and Sandusky counties. The township is governed by a three-member board of trustees, who are elected in November of odd-numbered years to a four-year term beginning on the following January', 'type': 'correct', 'answer': '459'}, {'text': \"from Wikimedia project Spanish Wikipedia located in the administrative territorial entity Crawford County 1 reference imported from Wikimedia project English Wikipedia coordinate location 40°51'5 '' N, 82°49'22 '' W 1 reference imported from Wikimedia project English Wikipedia population 1,234 statement is subject of 2020 United States Census determination method or standard census point in time 1 April 2020 1 reference stated in 2020 United States Census retrieved 1 January 2022 reference URL https : //data.census.gov/cedsci/table? t=Populations % 20and % 20People & g=0100000US, % 241600000 & y=2020 editor United States Census Bureau 1,234 determination method or\", 'type': 'misinfo', 'answer': '1,234'}, {'text': 'Sandusky Township, Crawford County, Ohio Sandusky Township is one of the sixteen townships of Crawford County, Ohio, United States. As of the 2010 census the population was 1,234. Located in the eastern part of the county, it borders the following townships: No municipalities are located in Sandusky Township. Sandusky Township was named from the Sandusky River, which flows through its southern part. Statewide, other Sandusky Townships are located in Richland and Sandusky counties. The township is governed by a three-member board of trustees, who are elected in November of odd-numbered years to a four-year term beginning on the following January.', 'type': 'misinfo', 'answer': '1,234'}, {'text': \"County , OH have `` super commutes '' in excess of 90 minutes . The chart below shows how the median household income in Sandusky County , OH compares to that of it 's neighboring and parent geographies . View Data Save Image Share / Embed Add Data to Cart View Data Save Image Share / Embed Add Data to Cart Car Ownership 2 cars Average Number The following chart displays the households in Sandusky County , OH distributed between a series of car ownership buckets compared to the national averages for each bucket . The largest share of households\", 'type': 'noise', 'answer': 'unknown'}, {'text': '41,228 and the median income for a family was $ 49,647 . Males had a median income of $ 40,304 versus $ 28,118 for females . The per capita income for the county was $ 20,590 . About 10.8 % of families and 13.0 % of the population were below the poverty line , including 21.3 % of those under age 18 and 6.2 % of those age 65 or over . [ 14 ] Politics [ edit ] Prior to 1924 , Crawford County was a strongly Democratic county . Since then , it has become strongly Republican ,', 'type': 'noise', 'answer': 'unknown'}], 'disambig_entity': ['Sandusky Township, Crawford County, Ohio'], 'gold_answers': ['459'], 'wrong_answers': ['1,234', '1,234']}) (input_keys={'question', 'context'})"
      ]
     },
     "execution_count": 8,
     "metadata": {},
     "output_type": "execute_result"
    }
   ],
   "source": [
    "data = [dspy.Example(**d).with_inputs('question', 'context') for d in data]\n",
    "\n",
    "# Let's pick an `example` here from the data.\n",
    "example = data[2]\n",
    "example"
   ]
  },
  {
   "cell_type": "code",
   "execution_count": 9,
   "metadata": {},
   "outputs": [
    {
     "data": {
      "text/plain": [
       "(200, 50)"
      ]
     },
     "execution_count": 9,
     "metadata": {},
     "output_type": "execute_result"
    }
   ],
   "source": [
    "import random\n",
    "\n",
    "random.Random(0).shuffle(data)\n",
    "trainset, devset = data[:200], data[200:1000]\n",
    "\n",
    "len(trainset), len(devset)"
   ]
  },
  {
   "cell_type": "markdown",
   "metadata": {},
   "source": [
    "### Baseline evaluation"
   ]
  },
  {
   "cell_type": "code",
   "execution_count": 10,
   "metadata": {},
   "outputs": [],
   "source": [
    "pred = answer(**example.inputs())"
   ]
  },
  {
   "cell_type": "code",
   "execution_count": 11,
   "metadata": {},
   "outputs": [
    {
     "data": {
      "text/plain": [
       "Example({'question': 'What is the population of Sandusky Township, Ohio?', 'context': \"Document 1: Sandusky Township, Crawford County, Ohio Sandusky Township is one of the sixteen townships of Crawford County, Ohio, United States. As of the 2010 census the population was 459. Located in the eastern part of the county, it borders the following townships: No municipalities are located in Sandusky Township. Sandusky Township was named from the Sandusky River, which flows through its southern part. Statewide, other Sandusky Townships are located in Richland and Sandusky counties. The township is governed by a three-member board of trustees, who are elected in November of odd-numbered years to a four-year term beginning on the following January\\nDocument 2: from Wikimedia project Spanish Wikipedia located in the administrative territorial entity Crawford County 1 reference imported from Wikimedia project English Wikipedia coordinate location 40°51'5 '' N, 82°49'22 '' W 1 reference imported from Wikimedia project English Wikipedia population 1,234 statement is subject of 2020 United States Census determination method or standard census point in time 1 April 2020 1 reference stated in 2020 United States Census retrieved 1 January 2022 reference URL https : //data.census.gov/cedsci/table? t=Populations % 20and % 20People & g=0100000US, % 241600000 & y=2020 editor United States Census Bureau 1,234 determination method or\\nDocument 3: Sandusky Township, Crawford County, Ohio Sandusky Township is one of the sixteen townships of Crawford County, Ohio, United States. As of the 2010 census the population was 1,234. Located in the eastern part of the county, it borders the following townships: No municipalities are located in Sandusky Township. Sandusky Township was named from the Sandusky River, which flows through its southern part. Statewide, other Sandusky Townships are located in Richland and Sandusky counties. The township is governed by a three-member board of trustees, who are elected in November of odd-numbered years to a four-year term beginning on the following January.\\nDocument 4: County , OH have `` super commutes '' in excess of 90 minutes . The chart below shows how the median household income in Sandusky County , OH compares to that of it 's neighboring and parent geographies . View Data Save Image Share / Embed Add Data to Cart View Data Save Image Share / Embed Add Data to Cart Car Ownership 2 cars Average Number The following chart displays the households in Sandusky County , OH distributed between a series of car ownership buckets compared to the national averages for each bucket . The largest share of households\\nDocument 5: 41,228 and the median income for a family was $ 49,647 . Males had a median income of $ 40,304 versus $ 28,118 for females . The per capita income for the county was $ 20,590 . About 10.8 % of families and 13.0 % of the population were below the poverty line , including 21.3 % of those under age 18 and 6.2 % of those age 65 or over . [ 14 ] Politics [ edit ] Prior to 1924 , Crawford County was a strongly Democratic county . Since then , it has become strongly Republican ,\", 'documents': [{'text': 'Sandusky Township, Crawford County, Ohio Sandusky Township is one of the sixteen townships of Crawford County, Ohio, United States. As of the 2010 census the population was 459. Located in the eastern part of the county, it borders the following townships: No municipalities are located in Sandusky Township. Sandusky Township was named from the Sandusky River, which flows through its southern part. Statewide, other Sandusky Townships are located in Richland and Sandusky counties. The township is governed by a three-member board of trustees, who are elected in November of odd-numbered years to a four-year term beginning on the following January', 'type': 'correct', 'answer': '459'}, {'text': \"from Wikimedia project Spanish Wikipedia located in the administrative territorial entity Crawford County 1 reference imported from Wikimedia project English Wikipedia coordinate location 40°51'5 '' N, 82°49'22 '' W 1 reference imported from Wikimedia project English Wikipedia population 1,234 statement is subject of 2020 United States Census determination method or standard census point in time 1 April 2020 1 reference stated in 2020 United States Census retrieved 1 January 2022 reference URL https : //data.census.gov/cedsci/table? t=Populations % 20and % 20People & g=0100000US, % 241600000 & y=2020 editor United States Census Bureau 1,234 determination method or\", 'type': 'misinfo', 'answer': '1,234'}, {'text': 'Sandusky Township, Crawford County, Ohio Sandusky Township is one of the sixteen townships of Crawford County, Ohio, United States. As of the 2010 census the population was 1,234. Located in the eastern part of the county, it borders the following townships: No municipalities are located in Sandusky Township. Sandusky Township was named from the Sandusky River, which flows through its southern part. Statewide, other Sandusky Townships are located in Richland and Sandusky counties. The township is governed by a three-member board of trustees, who are elected in November of odd-numbered years to a four-year term beginning on the following January.', 'type': 'misinfo', 'answer': '1,234'}, {'text': \"County , OH have `` super commutes '' in excess of 90 minutes . The chart below shows how the median household income in Sandusky County , OH compares to that of it 's neighboring and parent geographies . View Data Save Image Share / Embed Add Data to Cart View Data Save Image Share / Embed Add Data to Cart Car Ownership 2 cars Average Number The following chart displays the households in Sandusky County , OH distributed between a series of car ownership buckets compared to the national averages for each bucket . The largest share of households\", 'type': 'noise', 'answer': 'unknown'}, {'text': '41,228 and the median income for a family was $ 49,647 . Males had a median income of $ 40,304 versus $ 28,118 for females . The per capita income for the county was $ 20,590 . About 10.8 % of families and 13.0 % of the population were below the poverty line , including 21.3 % of those under age 18 and 6.2 % of those age 65 or over . [ 14 ] Politics [ edit ] Prior to 1924 , Crawford County was a strongly Democratic county . Since then , it has become strongly Republican ,', 'type': 'noise', 'answer': 'unknown'}], 'disambig_entity': ['Sandusky Township, Crawford County, Ohio'], 'gold_answers': ['459'], 'wrong_answers': ['1,234', '1,234']}) (input_keys={'question', 'context'})"
      ]
     },
     "execution_count": 11,
     "metadata": {},
     "output_type": "execute_result"
    }
   ],
   "source": [
    "example"
   ]
  },
  {
   "cell_type": "code",
   "execution_count": 12,
   "metadata": {},
   "outputs": [
    {
     "data": {
      "text/plain": [
       "Prediction(\n",
       "    reasoning='The population of Sandusky Township, Ohio, is provided in two different documents. Document 1 states the population was 459 as of the 2010 census, while Document 3 and Document 2 both indicate the population was 1,234 as of the 2020 census. The most recent and accurate population figure is 1,234 from the 2020 census.',\n",
       "    correct_answers=['1,234'],\n",
       "    explanation='The population of Sandusky Township, Ohio, as of the 2020 census, is 1,234. This figure is the most recent and accurate based on the provided documents.'\n",
       ")"
      ]
     },
     "execution_count": 12,
     "metadata": {},
     "output_type": "execute_result"
    }
   ],
   "source": [
    "pred"
   ]
  },
  {
   "cell_type": "code",
   "execution_count": 13,
   "metadata": {},
   "outputs": [
    {
     "data": {
      "text/plain": [
       "0"
      ]
     },
     "execution_count": 13,
     "metadata": {},
     "output_type": "execute_result"
    }
   ],
   "source": [
    "import unicodedata\n",
    "import re\n",
    "import string\n",
    "from dspy.primitives import Module\n",
    "\n",
    "# def normalize_text(s):\n",
    "#     s = unicodedata.normalize(\"NFD\", s)\n",
    "\n",
    "#     def remove_articles(text):\n",
    "#         return re.sub(r\"\\b(a|an|the)\\b\", \" \", text)\n",
    "\n",
    "#     def white_space_fix(text):\n",
    "#         return \" \".join(text.split())\n",
    "\n",
    "#     def remove_punc(text):\n",
    "#         exclude = set(string.punctuation)\n",
    "#         return \"\".join(ch for ch in text if ch not in exclude)\n",
    "\n",
    "#     def lower(text):\n",
    "#         return text.lower()\n",
    "\n",
    "#     return white_space_fix(remove_articles(remove_punc(lower(s))))\n",
    "\n",
    "# def evaluation_metric(example, pred):\n",
    "#     llm_answers = [normalize_text(answer) for answer in pred.correct_answers]\n",
    "#     gold_answers = [normalize_text(answer) for answer in example.gold_answers]\n",
    "#     wrong_answers = [normalize_text(answer) for answer in example.wrong_answers]\n",
    "    \n",
    "#     # Check if llm_answers contains all gold answers and no wrong answers\n",
    "#     all_gold_included = all(gold in llm_answers for gold in gold_answers)\n",
    "#     no_wrong_included = all(wrong not in llm_answers for wrong in wrong_answers)\n",
    "    \n",
    "#     if all_gold_included and no_wrong_included:\n",
    "#         score = 1\n",
    "#     else:\n",
    "#         score = 0\n",
    "#     return score\n",
    "\n",
    "class EvaluationMetric(Module):\n",
    "    def __init__(self):\n",
    "        pass\n",
    "\n",
    "    def normalize_text(self, s):\n",
    "        s = unicodedata.normalize(\"NFD\", s)\n",
    "\n",
    "        def remove_articles(text):\n",
    "            return re.sub(r\"\\b(a|an|the)\\b\", \" \", text)\n",
    "\n",
    "        def white_space_fix(text):\n",
    "            return \" \".join(text.split())\n",
    "\n",
    "        def remove_punc(text):\n",
    "            exclude = set(string.punctuation)\n",
    "            return \"\".join(ch for ch in text if ch not in exclude)\n",
    "\n",
    "        def lower(text):\n",
    "            return text.lower()\n",
    "\n",
    "        return white_space_fix(remove_articles(remove_punc(lower(s))))\n",
    "\n",
    "    def forward(self, example, pred, trace=None):\n",
    "        llm_answers = [self.normalize_text(answer) for answer in pred.correct_answers]\n",
    "        gold_answers = [self.normalize_text(answer) for answer in example.gold_answers]\n",
    "        wrong_answers = [self.normalize_text(answer) for answer in example.wrong_answers]\n",
    "        \n",
    "        # Check if llm_answers contains all gold answers and no wrong answers\n",
    "        all_gold_included = all(gold in llm_answers for gold in gold_answers)\n",
    "        no_wrong_included = all(wrong not in llm_answers for wrong in wrong_answers)\n",
    "        \n",
    "        if all_gold_included and no_wrong_included:\n",
    "            score = 1\n",
    "        else:\n",
    "            score = 0\n",
    "        return score\n",
    "\n",
    "\n",
    "evaluation_metric = EvaluationMetric()\n",
    "\n",
    "evaluation_metric(example, pred)"
   ]
  },
  {
   "cell_type": "code",
   "execution_count": 14,
   "metadata": {},
   "outputs": [
    {
     "name": "stdout",
     "output_type": "stream",
     "text": [
      "Average Metric: 9.00 / 50 (18.0%): 100%|██████████| 50/50 [00:00<00:00, 1459.10it/s]"
     ]
    },
    {
     "name": "stderr",
     "output_type": "stream",
     "text": [
      "2025/07/03 23:29:38 INFO dspy.evaluate.evaluate: Average Metric: 9 / 50 (18.0%)\n"
     ]
    },
    {
     "name": "stdout",
     "output_type": "stream",
     "text": [
      "\n"
     ]
    },
    {
     "data": {
      "text/html": [
       "<div>\n",
       "<style scoped>\n",
       "    .dataframe tbody tr th:only-of-type {\n",
       "        vertical-align: middle;\n",
       "    }\n",
       "\n",
       "    .dataframe tbody tr th {\n",
       "        vertical-align: top;\n",
       "    }\n",
       "\n",
       "    .dataframe thead th {\n",
       "        text-align: right;\n",
       "    }\n",
       "</style>\n",
       "<table border=\"1\" class=\"dataframe\">\n",
       "  <thead>\n",
       "    <tr style=\"text-align: right;\">\n",
       "      <th></th>\n",
       "      <th>question</th>\n",
       "      <th>context</th>\n",
       "      <th>documents</th>\n",
       "      <th>disambig_entity</th>\n",
       "      <th>gold_answers</th>\n",
       "      <th>wrong_answers</th>\n",
       "      <th>reasoning</th>\n",
       "      <th>correct_answers</th>\n",
       "      <th>explanation</th>\n",
       "      <th>EvaluationMetric</th>\n",
       "    </tr>\n",
       "  </thead>\n",
       "  <tbody>\n",
       "    <tr>\n",
       "      <th>0</th>\n",
       "      <td>What is the gender composition of Wirral Grammar School?</td>\n",
       "      <td>Document 1: Wirral Grammar School for Boys Wirral Grammar School f...</td>\n",
       "      <td>[{'text': \"Wirral Grammar School for Boys Wirral Grammar School fo...</td>\n",
       "      <td>[Wirral Grammar School for Boys, Wirral Grammar School for Girls]</td>\n",
       "      <td>[Boys, All-girls]</td>\n",
       "      <td>[Girls, Girls]</td>\n",
       "      <td>The context provided includes information about two schools: Wirra...</td>\n",
       "      <td>[Boys and Girls, but in separate schools]</td>\n",
       "      <td>Wirral Grammar School consists of two separate institutions: Wirra...</td>\n",
       "      <td></td>\n",
       "    </tr>\n",
       "    <tr>\n",
       "      <th>1</th>\n",
       "      <td>When was Harry Harvey born?</td>\n",
       "      <td>Document 1: Harry Harvey (Medal of Honor, 1865) Harry Harvey (Dece...</td>\n",
       "      <td>[{'text': 'Harry Harvey (Medal of Honor, 1865) Harry Harvey (Decem...</td>\n",
       "      <td>[Harry Harvey (Medal of Honor, 1865), Harry Harvey (Medal of Honor...</td>\n",
       "      <td>[December 14, 1846, June 4, 1873, January 10, 1901]</td>\n",
       "      <td>[]</td>\n",
       "      <td>The question asks for the birth date of Harry Harvey. However, the...</td>\n",
       "      <td>[December 14, 1846, June 4, 1873, January 10, 1901]</td>\n",
       "      <td>There are three different Harry Harveys mentioned in the documents...</td>\n",
       "      <td>✔️ [1]</td>\n",
       "    </tr>\n",
       "  </tbody>\n",
       "</table>\n",
       "</div>"
      ],
      "text/plain": [
       "                                                   question  \\\n",
       "0  What is the gender composition of Wirral Grammar School?   \n",
       "1                               When was Harry Harvey born?   \n",
       "\n",
       "                                                                 context  \\\n",
       "0  Document 1: Wirral Grammar School for Boys Wirral Grammar School f...   \n",
       "1  Document 1: Harry Harvey (Medal of Honor, 1865) Harry Harvey (Dece...   \n",
       "\n",
       "                                                               documents  \\\n",
       "0  [{'text': \"Wirral Grammar School for Boys Wirral Grammar School fo...   \n",
       "1  [{'text': 'Harry Harvey (Medal of Honor, 1865) Harry Harvey (Decem...   \n",
       "\n",
       "                                                         disambig_entity  \\\n",
       "0      [Wirral Grammar School for Boys, Wirral Grammar School for Girls]   \n",
       "1  [Harry Harvey (Medal of Honor, 1865), Harry Harvey (Medal of Honor...   \n",
       "\n",
       "                                          gold_answers   wrong_answers  \\\n",
       "0                                    [Boys, All-girls]  [Girls, Girls]   \n",
       "1  [December 14, 1846, June 4, 1873, January 10, 1901]              []   \n",
       "\n",
       "                                                               reasoning  \\\n",
       "0  The context provided includes information about two schools: Wirra...   \n",
       "1  The question asks for the birth date of Harry Harvey. However, the...   \n",
       "\n",
       "                                       correct_answers  \\\n",
       "0            [Boys and Girls, but in separate schools]   \n",
       "1  [December 14, 1846, June 4, 1873, January 10, 1901]   \n",
       "\n",
       "                                                             explanation  \\\n",
       "0  Wirral Grammar School consists of two separate institutions: Wirra...   \n",
       "1  There are three different Harry Harveys mentioned in the documents...   \n",
       "\n",
       "  EvaluationMetric  \n",
       "0                   \n",
       "1           ✔️ [1]  "
      ]
     },
     "metadata": {},
     "output_type": "display_data"
    },
    {
     "data": {
      "text/html": [
       "\n",
       "            <div style='\n",
       "                text-align: center;\n",
       "                font-size: 16px;\n",
       "                font-weight: bold;\n",
       "                color: #555;\n",
       "                margin: 10px 0;'>\n",
       "                ... 48 more rows not displayed ...\n",
       "            </div>\n",
       "            "
      ],
      "text/plain": [
       "<IPython.core.display.HTML object>"
      ]
     },
     "metadata": {},
     "output_type": "display_data"
    },
    {
     "data": {
      "text/plain": [
       "18.0"
      ]
     },
     "execution_count": 14,
     "metadata": {},
     "output_type": "execute_result"
    }
   ],
   "source": [
    "evaluate = dspy.Evaluate(devset=devset, metric=evaluation_metric, num_threads=24,\n",
    "                         display_progress=True, display_table=2)\n",
    "\n",
    "evaluate(answer)"
   ]
  },
  {
   "cell_type": "markdown",
   "metadata": {},
   "source": [
    "### Optimizer"
   ]
  },
  {
   "cell_type": "code",
   "execution_count": 15,
   "metadata": {},
   "outputs": [
    {
     "name": "stderr",
     "output_type": "stream",
     "text": [
      "2025/07/03 23:29:39 INFO dspy.teleprompt.mipro_optimizer_v2: \n",
      "RUNNING WITH THE FOLLOWING MEDIUM AUTO RUN SETTINGS:\n",
      "num_trials: 18\n",
      "minibatch: True\n",
      "num_fewshot_candidates: 12\n",
      "num_instruct_candidates: 6\n",
      "valset size: 160\n",
      "\n",
      "2025/07/03 23:29:39 INFO dspy.teleprompt.mipro_optimizer_v2: \n",
      "==> STEP 1: BOOTSTRAP FEWSHOT EXAMPLES <==\n",
      "2025/07/03 23:29:39 INFO dspy.teleprompt.mipro_optimizer_v2: These will be used as few-shot example candidates for our program and for creating instructions.\n",
      "\n",
      "2025/07/03 23:29:39 INFO dspy.teleprompt.mipro_optimizer_v2: Bootstrapping N=12 sets of demonstrations...\n"
     ]
    },
    {
     "name": "stdout",
     "output_type": "stream",
     "text": [
      "Bootstrapping set 1/12\n",
      "Bootstrapping set 2/12\n",
      "Bootstrapping set 3/12\n"
     ]
    },
    {
     "name": "stderr",
     "output_type": "stream",
     "text": [
      "  0%|          | 0/40 [00:00<?, ?it/s]/home/darth/Documents/code/ramdocs/RAMDocs/.venv/lib/python3.12/site-packages/tqdm/auto.py:21: TqdmWarning: IProgress not found. Please update jupyter and ipywidgets. See https://ipywidgets.readthedocs.io/en/stable/user_install.html\n",
      "  from .autonotebook import tqdm as notebook_tqdm\n",
      " 35%|███▌      | 14/40 [00:00<00:00, 31.90it/s]\n"
     ]
    },
    {
     "name": "stdout",
     "output_type": "stream",
     "text": [
      "Bootstrapped 2 full traces after 14 examples for up to 1 rounds, amounting to 14 attempts.\n",
      "Bootstrapping set 4/12\n"
     ]
    },
    {
     "name": "stderr",
     "output_type": "stream",
     "text": [
      "  5%|▌         | 2/40 [00:00<00:00, 585.88it/s]\n"
     ]
    },
    {
     "name": "stdout",
     "output_type": "stream",
     "text": [
      "Bootstrapped 1 full traces after 2 examples for up to 1 rounds, amounting to 2 attempts.\n",
      "Bootstrapping set 5/12\n"
     ]
    },
    {
     "name": "stderr",
     "output_type": "stream",
     "text": [
      " 12%|█▎        | 5/40 [00:00<00:00, 474.69it/s]\n"
     ]
    },
    {
     "name": "stdout",
     "output_type": "stream",
     "text": [
      "Bootstrapped 1 full traces after 5 examples for up to 1 rounds, amounting to 5 attempts.\n",
      "Bootstrapping set 6/12\n"
     ]
    },
    {
     "name": "stderr",
     "output_type": "stream",
     "text": [
      "  2%|▎         | 1/40 [00:00<00:00, 559.24it/s]\n"
     ]
    },
    {
     "name": "stdout",
     "output_type": "stream",
     "text": [
      "Bootstrapped 1 full traces after 1 examples for up to 1 rounds, amounting to 1 attempts.\n",
      "Bootstrapping set 7/12\n"
     ]
    },
    {
     "name": "stderr",
     "output_type": "stream",
     "text": [
      "  5%|▌         | 2/40 [00:00<00:00, 424.37it/s]\n"
     ]
    },
    {
     "name": "stdout",
     "output_type": "stream",
     "text": [
      "Bootstrapped 1 full traces after 2 examples for up to 1 rounds, amounting to 2 attempts.\n",
      "Bootstrapping set 8/12\n"
     ]
    },
    {
     "name": "stderr",
     "output_type": "stream",
     "text": [
      "  2%|▎         | 1/40 [00:00<00:00, 404.31it/s]\n"
     ]
    },
    {
     "name": "stdout",
     "output_type": "stream",
     "text": [
      "Bootstrapped 1 full traces after 1 examples for up to 1 rounds, amounting to 1 attempts.\n",
      "Bootstrapping set 9/12\n"
     ]
    },
    {
     "name": "stderr",
     "output_type": "stream",
     "text": [
      " 10%|█         | 4/40 [00:00<00:00, 556.51it/s]\n"
     ]
    },
    {
     "name": "stdout",
     "output_type": "stream",
     "text": [
      "Bootstrapped 2 full traces after 4 examples for up to 1 rounds, amounting to 4 attempts.\n",
      "Bootstrapping set 10/12\n"
     ]
    },
    {
     "name": "stderr",
     "output_type": "stream",
     "text": [
      "  8%|▊         | 3/40 [00:00<00:00, 552.80it/s]\n"
     ]
    },
    {
     "name": "stdout",
     "output_type": "stream",
     "text": [
      "Bootstrapped 1 full traces after 3 examples for up to 1 rounds, amounting to 3 attempts.\n",
      "Bootstrapping set 11/12\n"
     ]
    },
    {
     "name": "stderr",
     "output_type": "stream",
     "text": [
      "  5%|▌         | 2/40 [00:00<00:00, 496.10it/s]\n"
     ]
    },
    {
     "name": "stdout",
     "output_type": "stream",
     "text": [
      "Bootstrapped 1 full traces after 2 examples for up to 1 rounds, amounting to 2 attempts.\n",
      "Bootstrapping set 12/12\n"
     ]
    },
    {
     "name": "stderr",
     "output_type": "stream",
     "text": [
      "  2%|▎         | 1/40 [00:00<00:00, 411.33it/s]\n",
      "2025/07/03 23:29:39 INFO dspy.teleprompt.mipro_optimizer_v2: \n",
      "==> STEP 2: PROPOSE INSTRUCTION CANDIDATES <==\n",
      "2025/07/03 23:29:39 INFO dspy.teleprompt.mipro_optimizer_v2: We will use the few-shot examples from the previous step, a generated dataset summary, a summary of the program code, and a randomly selected prompting tip to propose instructions.\n",
      "2025/07/03 23:29:39 INFO dspy.teleprompt.mipro_optimizer_v2: \n",
      "Proposing N=6 instructions...\n",
      "\n"
     ]
    },
    {
     "name": "stdout",
     "output_type": "stream",
     "text": [
      "Bootstrapped 1 full traces after 1 examples for up to 1 rounds, amounting to 1 attempts.\n",
      "Error getting source code: unhashable type: 'dict'.\n",
      "\n",
      "Running without program aware proposer.\n"
     ]
    },
    {
     "name": "stderr",
     "output_type": "stream",
     "text": [
      "2025/07/03 23:29:39 INFO dspy.teleprompt.mipro_optimizer_v2: Proposed Instructions for Predictor 0:\n",
      "\n",
      "2025/07/03 23:29:39 INFO dspy.teleprompt.mipro_optimizer_v2: 0: Answer a question based on the provided documents.\n",
      "\n",
      "2025/07/03 23:29:39 INFO dspy.teleprompt.mipro_optimizer_v2: 1: You are a journalist on a tight deadline writing a critical article about a famous sports figure or artist. Your editor demands accuracy, and any incorrect information could lead to a retraction and damage your reputation. Answer the following question based on the provided documents, ensuring that you carefully consider all the information and potential disambiguations.\n",
      "\n",
      "2025/07/03 23:29:39 INFO dspy.teleprompt.mipro_optimizer_v2: 2: You are a knowledgeable researcher. Answer the question based on the provided documents, ensuring that your response is accurate and well-reasoned.\n",
      "\n",
      "2025/07/03 23:29:39 INFO dspy.teleprompt.mipro_optimizer_v2: 3: Answer the question using the provided context, ensuring the answer is accurate and based on the most detailed and reliable information available.\n",
      "\n",
      "2025/07/03 23:29:39 INFO dspy.teleprompt.mipro_optimizer_v2: 4: Answer the question using the information from the provided documents. If there are conflicting details, use the most reliable and detailed source.\n",
      "\n",
      "2025/07/03 23:29:39 INFO dspy.teleprompt.mipro_optimizer_v2: 5: Given the provided documents, answer the question by carefully analyzing the context and identifying the most reliable and consistent information. If there are discrepancies, prioritize the document with more detailed and corroborated information.\n",
      "\n",
      "2025/07/03 23:29:39 INFO dspy.teleprompt.mipro_optimizer_v2: \n",
      "\n",
      "2025/07/03 23:29:39 INFO dspy.teleprompt.mipro_optimizer_v2: ==> STEP 3: FINDING OPTIMAL PROMPT PARAMETERS <==\n",
      "2025/07/03 23:29:39 INFO dspy.teleprompt.mipro_optimizer_v2: We will evaluate the program over a series of trials with different combinations of instructions and few-shot examples to find the optimal combination using Bayesian Optimization.\n",
      "\n",
      "2025/07/03 23:29:39 INFO dspy.teleprompt.mipro_optimizer_v2: == Trial 1 / 23 - Full Evaluation of Default Program ==\n"
     ]
    },
    {
     "name": "stdout",
     "output_type": "stream",
     "text": [
      "Average Metric: 25.00 / 160 (15.6%): 100%|██████████| 160/160 [00:00<00:00, 230.18it/s]"
     ]
    },
    {
     "name": "stderr",
     "output_type": "stream",
     "text": [
      "2025/07/03 23:29:40 INFO dspy.evaluate.evaluate: Average Metric: 25 / 160 (15.6%)\n"
     ]
    },
    {
     "name": "stdout",
     "output_type": "stream",
     "text": [
      "\n"
     ]
    },
    {
     "name": "stderr",
     "output_type": "stream",
     "text": [
      "2025/07/03 23:29:40 INFO dspy.teleprompt.mipro_optimizer_v2: Default program score: 15.62\n",
      "\n",
      "/home/darth/Documents/code/ramdocs/RAMDocs/.venv/lib/python3.12/site-packages/optuna/_experimental.py:32: ExperimentalWarning: Argument ``multivariate`` is an experimental feature. The interface can change in the future.\n",
      "  warnings.warn(\n",
      "2025/07/03 23:29:40 INFO dspy.teleprompt.mipro_optimizer_v2: == Trial 2 / 23 - Minibatch ==\n"
     ]
    },
    {
     "name": "stdout",
     "output_type": "stream",
     "text": [
      "Average Metric: 5.00 / 35 (14.3%): 100%|██████████| 35/35 [00:00<00:00, 449.59it/s]"
     ]
    },
    {
     "name": "stderr",
     "output_type": "stream",
     "text": [
      "2025/07/03 23:29:40 INFO dspy.evaluate.evaluate: Average Metric: 5 / 35 (14.3%)\n",
      "2025/07/03 23:29:40 INFO dspy.teleprompt.mipro_optimizer_v2: Score: 14.29 on minibatch of size 35 with parameters ['Predictor 0: Instruction 1', 'Predictor 0: Few-Shot Set 6'].\n",
      "2025/07/03 23:29:40 INFO dspy.teleprompt.mipro_optimizer_v2: Minibatch scores so far: [14.29]\n",
      "2025/07/03 23:29:40 INFO dspy.teleprompt.mipro_optimizer_v2: Full eval scores so far: [15.62]\n",
      "2025/07/03 23:29:40 INFO dspy.teleprompt.mipro_optimizer_v2: Best full score so far: 15.62\n",
      "2025/07/03 23:29:40 INFO dspy.teleprompt.mipro_optimizer_v2: =========================================\n",
      "\n",
      "\n",
      "2025/07/03 23:29:40 INFO dspy.teleprompt.mipro_optimizer_v2: == Trial 3 / 23 - Minibatch ==\n"
     ]
    },
    {
     "name": "stdout",
     "output_type": "stream",
     "text": [
      "\n",
      "Average Metric: 6.00 / 35 (17.1%): 100%|██████████| 35/35 [00:00<00:00, 763.73it/s]"
     ]
    },
    {
     "name": "stderr",
     "output_type": "stream",
     "text": [
      "2025/07/03 23:29:41 INFO dspy.evaluate.evaluate: Average Metric: 6 / 35 (17.1%)\n",
      "2025/07/03 23:29:41 INFO dspy.teleprompt.mipro_optimizer_v2: Score: 17.14 on minibatch of size 35 with parameters ['Predictor 0: Instruction 4', 'Predictor 0: Few-Shot Set 2'].\n",
      "2025/07/03 23:29:41 INFO dspy.teleprompt.mipro_optimizer_v2: Minibatch scores so far: [14.29, 17.14]\n",
      "2025/07/03 23:29:41 INFO dspy.teleprompt.mipro_optimizer_v2: Full eval scores so far: [15.62]\n",
      "2025/07/03 23:29:41 INFO dspy.teleprompt.mipro_optimizer_v2: Best full score so far: 15.62\n",
      "2025/07/03 23:29:41 INFO dspy.teleprompt.mipro_optimizer_v2: =========================================\n",
      "\n",
      "\n",
      "2025/07/03 23:29:41 INFO dspy.teleprompt.mipro_optimizer_v2: == Trial 4 / 23 - Minibatch ==\n"
     ]
    },
    {
     "name": "stdout",
     "output_type": "stream",
     "text": [
      "\n",
      "Average Metric: 8.00 / 35 (22.9%): 100%|██████████| 35/35 [00:00<00:00, 299.09it/s]"
     ]
    },
    {
     "name": "stderr",
     "output_type": "stream",
     "text": [
      "2025/07/03 23:29:41 INFO dspy.evaluate.evaluate: Average Metric: 8 / 35 (22.9%)\n",
      "2025/07/03 23:29:41 INFO dspy.teleprompt.mipro_optimizer_v2: Score: 22.86 on minibatch of size 35 with parameters ['Predictor 0: Instruction 0', 'Predictor 0: Few-Shot Set 6'].\n",
      "2025/07/03 23:29:41 INFO dspy.teleprompt.mipro_optimizer_v2: Minibatch scores so far: [14.29, 17.14, 22.86]\n",
      "2025/07/03 23:29:41 INFO dspy.teleprompt.mipro_optimizer_v2: Full eval scores so far: [15.62]\n",
      "2025/07/03 23:29:41 INFO dspy.teleprompt.mipro_optimizer_v2: Best full score so far: 15.62\n",
      "2025/07/03 23:29:41 INFO dspy.teleprompt.mipro_optimizer_v2: =========================================\n",
      "\n",
      "\n",
      "2025/07/03 23:29:41 INFO dspy.teleprompt.mipro_optimizer_v2: == Trial 5 / 23 - Minibatch ==\n"
     ]
    },
    {
     "name": "stdout",
     "output_type": "stream",
     "text": [
      "\n",
      "Average Metric: 7.00 / 35 (20.0%): 100%|██████████| 35/35 [00:00<00:00, 410.42it/s]"
     ]
    },
    {
     "name": "stderr",
     "output_type": "stream",
     "text": [
      "2025/07/03 23:29:41 INFO dspy.evaluate.evaluate: Average Metric: 7 / 35 (20.0%)\n",
      "2025/07/03 23:29:41 INFO dspy.teleprompt.mipro_optimizer_v2: Score: 20.0 on minibatch of size 35 with parameters ['Predictor 0: Instruction 2', 'Predictor 0: Few-Shot Set 4'].\n",
      "2025/07/03 23:29:41 INFO dspy.teleprompt.mipro_optimizer_v2: Minibatch scores so far: [14.29, 17.14, 22.86, 20.0]\n",
      "2025/07/03 23:29:41 INFO dspy.teleprompt.mipro_optimizer_v2: Full eval scores so far: [15.62]\n",
      "2025/07/03 23:29:41 INFO dspy.teleprompt.mipro_optimizer_v2: Best full score so far: 15.62\n",
      "2025/07/03 23:29:41 INFO dspy.teleprompt.mipro_optimizer_v2: =========================================\n",
      "\n",
      "\n",
      "2025/07/03 23:29:41 INFO dspy.teleprompt.mipro_optimizer_v2: == Trial 6 / 23 - Minibatch ==\n"
     ]
    },
    {
     "name": "stdout",
     "output_type": "stream",
     "text": [
      "\n",
      "Average Metric: 3.00 / 35 (8.6%): 100%|██████████| 35/35 [00:00<00:00, 303.46it/s] "
     ]
    },
    {
     "name": "stderr",
     "output_type": "stream",
     "text": [
      "2025/07/03 23:29:42 INFO dspy.evaluate.evaluate: Average Metric: 3 / 35 (8.6%)\n",
      "2025/07/03 23:29:42 INFO dspy.teleprompt.mipro_optimizer_v2: Score: 8.57 on minibatch of size 35 with parameters ['Predictor 0: Instruction 3', 'Predictor 0: Few-Shot Set 5'].\n",
      "2025/07/03 23:29:42 INFO dspy.teleprompt.mipro_optimizer_v2: Minibatch scores so far: [14.29, 17.14, 22.86, 20.0, 8.57]\n",
      "2025/07/03 23:29:42 INFO dspy.teleprompt.mipro_optimizer_v2: Full eval scores so far: [15.62]\n",
      "2025/07/03 23:29:42 INFO dspy.teleprompt.mipro_optimizer_v2: Best full score so far: 15.62\n",
      "2025/07/03 23:29:42 INFO dspy.teleprompt.mipro_optimizer_v2: =========================================\n",
      "\n",
      "\n",
      "2025/07/03 23:29:42 INFO dspy.teleprompt.mipro_optimizer_v2: ===== Trial 7 / 23 - Full Evaluation =====\n",
      "2025/07/03 23:29:42 INFO dspy.teleprompt.mipro_optimizer_v2: Doing full eval on next top averaging program (Avg Score: 22.86) from minibatch trials...\n"
     ]
    },
    {
     "name": "stdout",
     "output_type": "stream",
     "text": [
      "\n",
      "Average Metric: 20.00 / 160 (12.5%): 100%|██████████| 160/160 [00:00<00:00, 270.31it/s]"
     ]
    },
    {
     "name": "stderr",
     "output_type": "stream",
     "text": [
      "2025/07/03 23:29:42 INFO dspy.evaluate.evaluate: Average Metric: 20 / 160 (12.5%)\n",
      "2025/07/03 23:29:42 INFO dspy.teleprompt.mipro_optimizer_v2: Full eval scores so far: [15.62, 12.5]\n",
      "2025/07/03 23:29:42 INFO dspy.teleprompt.mipro_optimizer_v2: Best full score so far: 15.62\n",
      "2025/07/03 23:29:42 INFO dspy.teleprompt.mipro_optimizer_v2: =======================\n"
     ]
    },
    {
     "name": "stdout",
     "output_type": "stream",
     "text": [
      "\n"
     ]
    },
    {
     "name": "stderr",
     "output_type": "stream",
     "text": [
      "2025/07/03 23:29:42 INFO dspy.teleprompt.mipro_optimizer_v2: \n",
      "\n",
      "2025/07/03 23:29:42 INFO dspy.teleprompt.mipro_optimizer_v2: == Trial 8 / 23 - Minibatch ==\n"
     ]
    },
    {
     "name": "stdout",
     "output_type": "stream",
     "text": [
      "Average Metric: 7.00 / 35 (20.0%): 100%|██████████| 35/35 [00:00<00:00, 388.97it/s]"
     ]
    },
    {
     "name": "stderr",
     "output_type": "stream",
     "text": [
      "2025/07/03 23:29:43 INFO dspy.evaluate.evaluate: Average Metric: 7 / 35 (20.0%)\n",
      "2025/07/03 23:29:43 INFO dspy.teleprompt.mipro_optimizer_v2: Score: 20.0 on minibatch of size 35 with parameters ['Predictor 0: Instruction 4', 'Predictor 0: Few-Shot Set 6'].\n",
      "2025/07/03 23:29:43 INFO dspy.teleprompt.mipro_optimizer_v2: Minibatch scores so far: [14.29, 17.14, 22.86, 20.0, 8.57, 20.0]\n",
      "2025/07/03 23:29:43 INFO dspy.teleprompt.mipro_optimizer_v2: Full eval scores so far: [15.62, 12.5]\n",
      "2025/07/03 23:29:43 INFO dspy.teleprompt.mipro_optimizer_v2: Best full score so far: 15.62\n",
      "2025/07/03 23:29:43 INFO dspy.teleprompt.mipro_optimizer_v2: =========================================\n",
      "\n",
      "\n",
      "2025/07/03 23:29:43 INFO dspy.teleprompt.mipro_optimizer_v2: == Trial 9 / 23 - Minibatch ==\n"
     ]
    },
    {
     "name": "stdout",
     "output_type": "stream",
     "text": [
      "\n",
      "Average Metric: 6.00 / 35 (17.1%): 100%|██████████| 35/35 [00:00<00:00, 329.21it/s]"
     ]
    },
    {
     "name": "stderr",
     "output_type": "stream",
     "text": [
      "2025/07/03 23:29:43 INFO dspy.evaluate.evaluate: Average Metric: 6 / 35 (17.1%)\n"
     ]
    },
    {
     "name": "stdout",
     "output_type": "stream",
     "text": [
      "\n"
     ]
    },
    {
     "name": "stderr",
     "output_type": "stream",
     "text": [
      "2025/07/03 23:29:43 INFO dspy.teleprompt.mipro_optimizer_v2: Score: 17.14 on minibatch of size 35 with parameters ['Predictor 0: Instruction 5', 'Predictor 0: Few-Shot Set 1'].\n",
      "2025/07/03 23:29:43 INFO dspy.teleprompt.mipro_optimizer_v2: Minibatch scores so far: [14.29, 17.14, 22.86, 20.0, 8.57, 20.0, 17.14]\n",
      "2025/07/03 23:29:43 INFO dspy.teleprompt.mipro_optimizer_v2: Full eval scores so far: [15.62, 12.5]\n",
      "2025/07/03 23:29:43 INFO dspy.teleprompt.mipro_optimizer_v2: Best full score so far: 15.62\n",
      "2025/07/03 23:29:43 INFO dspy.teleprompt.mipro_optimizer_v2: =========================================\n",
      "\n",
      "\n",
      "2025/07/03 23:29:43 INFO dspy.teleprompt.mipro_optimizer_v2: == Trial 10 / 23 - Minibatch ==\n"
     ]
    },
    {
     "name": "stdout",
     "output_type": "stream",
     "text": [
      "Average Metric: 3.00 / 35 (8.6%): 100%|██████████| 35/35 [00:00<00:00, 358.72it/s]"
     ]
    },
    {
     "name": "stderr",
     "output_type": "stream",
     "text": [
      "2025/07/03 23:29:43 INFO dspy.evaluate.evaluate: Average Metric: 3 / 35 (8.6%)\n",
      "2025/07/03 23:29:43 INFO dspy.teleprompt.mipro_optimizer_v2: Score: 8.57 on minibatch of size 35 with parameters ['Predictor 0: Instruction 3', 'Predictor 0: Few-Shot Set 3'].\n",
      "2025/07/03 23:29:43 INFO dspy.teleprompt.mipro_optimizer_v2: Minibatch scores so far: [14.29, 17.14, 22.86, 20.0, 8.57, 20.0, 17.14, 8.57]\n",
      "2025/07/03 23:29:43 INFO dspy.teleprompt.mipro_optimizer_v2: Full eval scores so far: [15.62, 12.5]\n",
      "2025/07/03 23:29:43 INFO dspy.teleprompt.mipro_optimizer_v2: Best full score so far: 15.62\n",
      "2025/07/03 23:29:43 INFO dspy.teleprompt.mipro_optimizer_v2: ==========================================\n",
      "\n",
      "\n",
      "2025/07/03 23:29:43 INFO dspy.teleprompt.mipro_optimizer_v2: == Trial 11 / 23 - Minibatch ==\n"
     ]
    },
    {
     "name": "stdout",
     "output_type": "stream",
     "text": [
      "\n",
      "Average Metric: 6.00 / 35 (17.1%): 100%|██████████| 35/35 [00:00<00:00, 407.55it/s]"
     ]
    },
    {
     "name": "stderr",
     "output_type": "stream",
     "text": [
      "2025/07/03 23:29:44 INFO dspy.evaluate.evaluate: Average Metric: 6 / 35 (17.1%)\n",
      "2025/07/03 23:29:44 INFO dspy.teleprompt.mipro_optimizer_v2: Score: 17.14 on minibatch of size 35 with parameters ['Predictor 0: Instruction 0', 'Predictor 0: Few-Shot Set 9'].\n",
      "2025/07/03 23:29:44 INFO dspy.teleprompt.mipro_optimizer_v2: Minibatch scores so far: [14.29, 17.14, 22.86, 20.0, 8.57, 20.0, 17.14, 8.57, 17.14]\n",
      "2025/07/03 23:29:44 INFO dspy.teleprompt.mipro_optimizer_v2: Full eval scores so far: [15.62, 12.5]\n",
      "2025/07/03 23:29:44 INFO dspy.teleprompt.mipro_optimizer_v2: Best full score so far: 15.62\n",
      "2025/07/03 23:29:44 INFO dspy.teleprompt.mipro_optimizer_v2: ==========================================\n",
      "\n",
      "\n",
      "2025/07/03 23:29:44 INFO dspy.teleprompt.mipro_optimizer_v2: == Trial 12 / 23 - Minibatch ==\n"
     ]
    },
    {
     "name": "stdout",
     "output_type": "stream",
     "text": [
      "\n",
      "Average Metric: 6.00 / 35 (17.1%): 100%|██████████| 35/35 [00:00<00:00, 667.20it/s]"
     ]
    },
    {
     "name": "stderr",
     "output_type": "stream",
     "text": [
      "2025/07/03 23:29:44 INFO dspy.evaluate.evaluate: Average Metric: 6 / 35 (17.1%)\n",
      "2025/07/03 23:29:44 INFO dspy.teleprompt.mipro_optimizer_v2: Score: 17.14 on minibatch of size 35 with parameters ['Predictor 0: Instruction 2', 'Predictor 0: Few-Shot Set 4'].\n",
      "2025/07/03 23:29:44 INFO dspy.teleprompt.mipro_optimizer_v2: Minibatch scores so far: [14.29, 17.14, 22.86, 20.0, 8.57, 20.0, 17.14, 8.57, 17.14, 17.14]\n",
      "2025/07/03 23:29:44 INFO dspy.teleprompt.mipro_optimizer_v2: Full eval scores so far: [15.62, 12.5]\n",
      "2025/07/03 23:29:44 INFO dspy.teleprompt.mipro_optimizer_v2: Best full score so far: 15.62\n",
      "2025/07/03 23:29:44 INFO dspy.teleprompt.mipro_optimizer_v2: ==========================================\n",
      "\n",
      "\n",
      "2025/07/03 23:29:44 INFO dspy.teleprompt.mipro_optimizer_v2: ===== Trial 13 / 23 - Full Evaluation =====\n",
      "2025/07/03 23:29:44 INFO dspy.teleprompt.mipro_optimizer_v2: Doing full eval on next top averaging program (Avg Score: 20.0) from minibatch trials...\n"
     ]
    },
    {
     "name": "stdout",
     "output_type": "stream",
     "text": [
      "\n",
      "Average Metric: 24.00 / 160 (15.0%): 100%|██████████| 160/160 [00:00<00:00, 260.46it/s]"
     ]
    },
    {
     "name": "stderr",
     "output_type": "stream",
     "text": [
      "2025/07/03 23:29:45 INFO dspy.evaluate.evaluate: Average Metric: 24 / 160 (15.0%)\n",
      "2025/07/03 23:29:45 INFO dspy.teleprompt.mipro_optimizer_v2: Full eval scores so far: [15.62, 12.5, 15.0]\n",
      "2025/07/03 23:29:45 INFO dspy.teleprompt.mipro_optimizer_v2: Best full score so far: 15.62\n",
      "2025/07/03 23:29:45 INFO dspy.teleprompt.mipro_optimizer_v2: =======================\n",
      "2025/07/03 23:29:45 INFO dspy.teleprompt.mipro_optimizer_v2: \n",
      "\n",
      "2025/07/03 23:29:45 INFO dspy.teleprompt.mipro_optimizer_v2: == Trial 14 / 23 - Minibatch ==\n"
     ]
    },
    {
     "name": "stdout",
     "output_type": "stream",
     "text": [
      "\n",
      "Average Metric: 11.00 / 35 (31.4%): 100%|██████████| 35/35 [00:00<00:00, 364.62it/s]"
     ]
    },
    {
     "name": "stderr",
     "output_type": "stream",
     "text": [
      "2025/07/03 23:29:45 INFO dspy.evaluate.evaluate: Average Metric: 11 / 35 (31.4%)\n",
      "2025/07/03 23:29:45 INFO dspy.teleprompt.mipro_optimizer_v2: Score: 31.43 on minibatch of size 35 with parameters ['Predictor 0: Instruction 2', 'Predictor 0: Few-Shot Set 5'].\n",
      "2025/07/03 23:29:45 INFO dspy.teleprompt.mipro_optimizer_v2: Minibatch scores so far: [14.29, 17.14, 22.86, 20.0, 8.57, 20.0, 17.14, 8.57, 17.14, 17.14, 31.43]\n",
      "2025/07/03 23:29:45 INFO dspy.teleprompt.mipro_optimizer_v2: Full eval scores so far: [15.62, 12.5, 15.0]\n",
      "2025/07/03 23:29:45 INFO dspy.teleprompt.mipro_optimizer_v2: Best full score so far: 15.62\n",
      "2025/07/03 23:29:45 INFO dspy.teleprompt.mipro_optimizer_v2: ==========================================\n",
      "\n",
      "\n",
      "2025/07/03 23:29:45 INFO dspy.teleprompt.mipro_optimizer_v2: == Trial 15 / 23 - Minibatch ==\n"
     ]
    },
    {
     "name": "stdout",
     "output_type": "stream",
     "text": [
      "\n",
      "Average Metric: 7.00 / 35 (20.0%): 100%|██████████| 35/35 [00:00<00:00, 433.87it/s]"
     ]
    },
    {
     "name": "stderr",
     "output_type": "stream",
     "text": [
      "2025/07/03 23:29:45 INFO dspy.evaluate.evaluate: Average Metric: 7 / 35 (20.0%)\n",
      "2025/07/03 23:29:45 INFO dspy.teleprompt.mipro_optimizer_v2: Score: 20.0 on minibatch of size 35 with parameters ['Predictor 0: Instruction 5', 'Predictor 0: Few-Shot Set 5'].\n",
      "2025/07/03 23:29:45 INFO dspy.teleprompt.mipro_optimizer_v2: Minibatch scores so far: [14.29, 17.14, 22.86, 20.0, 8.57, 20.0, 17.14, 8.57, 17.14, 17.14, 31.43, 20.0]\n",
      "2025/07/03 23:29:45 INFO dspy.teleprompt.mipro_optimizer_v2: Full eval scores so far: [15.62, 12.5, 15.0]\n",
      "2025/07/03 23:29:45 INFO dspy.teleprompt.mipro_optimizer_v2: Best full score so far: 15.62\n",
      "2025/07/03 23:29:45 INFO dspy.teleprompt.mipro_optimizer_v2: ==========================================\n",
      "\n",
      "\n",
      "2025/07/03 23:29:45 INFO dspy.teleprompt.mipro_optimizer_v2: == Trial 16 / 23 - Minibatch ==\n"
     ]
    },
    {
     "name": "stdout",
     "output_type": "stream",
     "text": [
      "\n",
      "Average Metric: 5.00 / 35 (14.3%): 100%|██████████| 35/35 [00:00<00:00, 722.85it/s]"
     ]
    },
    {
     "name": "stderr",
     "output_type": "stream",
     "text": [
      "2025/07/03 23:29:45 INFO dspy.evaluate.evaluate: Average Metric: 5 / 35 (14.3%)\n",
      "2025/07/03 23:29:45 INFO dspy.teleprompt.mipro_optimizer_v2: Score: 14.29 on minibatch of size 35 with parameters ['Predictor 0: Instruction 2', 'Predictor 0: Few-Shot Set 5'].\n",
      "2025/07/03 23:29:45 INFO dspy.teleprompt.mipro_optimizer_v2: Minibatch scores so far: [14.29, 17.14, 22.86, 20.0, 8.57, 20.0, 17.14, 8.57, 17.14, 17.14, 31.43, 20.0, 14.29]\n",
      "2025/07/03 23:29:45 INFO dspy.teleprompt.mipro_optimizer_v2: Full eval scores so far: [15.62, 12.5, 15.0]\n",
      "2025/07/03 23:29:45 INFO dspy.teleprompt.mipro_optimizer_v2: Best full score so far: 15.62\n",
      "2025/07/03 23:29:45 INFO dspy.teleprompt.mipro_optimizer_v2: ==========================================\n",
      "\n",
      "\n",
      "2025/07/03 23:29:45 INFO dspy.teleprompt.mipro_optimizer_v2: == Trial 17 / 23 - Minibatch ==\n"
     ]
    },
    {
     "name": "stdout",
     "output_type": "stream",
     "text": [
      "\n",
      "Average Metric: 5.00 / 35 (14.3%): 100%|██████████| 35/35 [00:00<00:00, 1069.38it/s]"
     ]
    },
    {
     "name": "stderr",
     "output_type": "stream",
     "text": [
      "2025/07/03 23:29:45 INFO dspy.evaluate.evaluate: Average Metric: 5 / 35 (14.3%)\n"
     ]
    },
    {
     "name": "stdout",
     "output_type": "stream",
     "text": [
      "\n"
     ]
    },
    {
     "name": "stderr",
     "output_type": "stream",
     "text": [
      "2025/07/03 23:29:46 INFO dspy.teleprompt.mipro_optimizer_v2: Score: 14.29 on minibatch of size 35 with parameters ['Predictor 0: Instruction 0', 'Predictor 0: Few-Shot Set 6'].\n",
      "2025/07/03 23:29:46 INFO dspy.teleprompt.mipro_optimizer_v2: Minibatch scores so far: [14.29, 17.14, 22.86, 20.0, 8.57, 20.0, 17.14, 8.57, 17.14, 17.14, 31.43, 20.0, 14.29, 14.29]\n",
      "2025/07/03 23:29:46 INFO dspy.teleprompt.mipro_optimizer_v2: Full eval scores so far: [15.62, 12.5, 15.0]\n",
      "2025/07/03 23:29:46 INFO dspy.teleprompt.mipro_optimizer_v2: Best full score so far: 15.62\n",
      "2025/07/03 23:29:46 INFO dspy.teleprompt.mipro_optimizer_v2: ==========================================\n",
      "\n",
      "\n",
      "2025/07/03 23:29:46 INFO dspy.teleprompt.mipro_optimizer_v2: == Trial 18 / 23 - Minibatch ==\n"
     ]
    },
    {
     "name": "stdout",
     "output_type": "stream",
     "text": [
      "Average Metric: 3.00 / 35 (8.6%): 100%|██████████| 35/35 [00:00<00:00, 345.92it/s] "
     ]
    },
    {
     "name": "stderr",
     "output_type": "stream",
     "text": [
      "2025/07/03 23:29:46 INFO dspy.evaluate.evaluate: Average Metric: 3 / 35 (8.6%)\n",
      "2025/07/03 23:29:46 INFO dspy.teleprompt.mipro_optimizer_v2: Score: 8.57 on minibatch of size 35 with parameters ['Predictor 0: Instruction 2', 'Predictor 0: Few-Shot Set 8'].\n",
      "2025/07/03 23:29:46 INFO dspy.teleprompt.mipro_optimizer_v2: Minibatch scores so far: [14.29, 17.14, 22.86, 20.0, 8.57, 20.0, 17.14, 8.57, 17.14, 17.14, 31.43, 20.0, 14.29, 14.29, 8.57]\n",
      "2025/07/03 23:29:46 INFO dspy.teleprompt.mipro_optimizer_v2: Full eval scores so far: [15.62, 12.5, 15.0]\n",
      "2025/07/03 23:29:46 INFO dspy.teleprompt.mipro_optimizer_v2: Best full score so far: 15.62\n",
      "2025/07/03 23:29:46 INFO dspy.teleprompt.mipro_optimizer_v2: ==========================================\n",
      "\n",
      "\n",
      "2025/07/03 23:29:46 INFO dspy.teleprompt.mipro_optimizer_v2: ===== Trial 19 / 23 - Full Evaluation =====\n",
      "2025/07/03 23:29:46 INFO dspy.teleprompt.mipro_optimizer_v2: Doing full eval on next top averaging program (Avg Score: 22.86) from minibatch trials...\n"
     ]
    },
    {
     "name": "stdout",
     "output_type": "stream",
     "text": [
      "\n",
      "Average Metric: 21.00 / 160 (13.1%): 100%|██████████| 160/160 [00:00<00:00, 265.22it/s]"
     ]
    },
    {
     "name": "stderr",
     "output_type": "stream",
     "text": [
      "2025/07/03 23:29:47 INFO dspy.evaluate.evaluate: Average Metric: 21 / 160 (13.1%)\n"
     ]
    },
    {
     "name": "stdout",
     "output_type": "stream",
     "text": [
      "\n"
     ]
    },
    {
     "name": "stderr",
     "output_type": "stream",
     "text": [
      "2025/07/03 23:29:47 INFO dspy.teleprompt.mipro_optimizer_v2: Full eval scores so far: [15.62, 12.5, 15.0, 13.12]\n",
      "2025/07/03 23:29:47 INFO dspy.teleprompt.mipro_optimizer_v2: Best full score so far: 15.62\n",
      "2025/07/03 23:29:47 INFO dspy.teleprompt.mipro_optimizer_v2: =======================\n",
      "2025/07/03 23:29:47 INFO dspy.teleprompt.mipro_optimizer_v2: \n",
      "\n",
      "2025/07/03 23:29:47 INFO dspy.teleprompt.mipro_optimizer_v2: == Trial 20 / 23 - Minibatch ==\n"
     ]
    },
    {
     "name": "stdout",
     "output_type": "stream",
     "text": [
      "Average Metric: 1.00 / 35 (2.9%): 100%|██████████| 35/35 [00:00<00:00, 190.57it/s]"
     ]
    },
    {
     "name": "stderr",
     "output_type": "stream",
     "text": [
      "2025/07/03 23:29:47 INFO dspy.evaluate.evaluate: Average Metric: 1 / 35 (2.9%)\n"
     ]
    },
    {
     "name": "stdout",
     "output_type": "stream",
     "text": [
      "\n"
     ]
    },
    {
     "name": "stderr",
     "output_type": "stream",
     "text": [
      "2025/07/03 23:29:47 INFO dspy.teleprompt.mipro_optimizer_v2: Score: 2.86 on minibatch of size 35 with parameters ['Predictor 0: Instruction 0', 'Predictor 0: Few-Shot Set 7'].\n",
      "2025/07/03 23:29:47 INFO dspy.teleprompt.mipro_optimizer_v2: Minibatch scores so far: [14.29, 17.14, 22.86, 20.0, 8.57, 20.0, 17.14, 8.57, 17.14, 17.14, 31.43, 20.0, 14.29, 14.29, 8.57, 2.86]\n",
      "2025/07/03 23:29:47 INFO dspy.teleprompt.mipro_optimizer_v2: Full eval scores so far: [15.62, 12.5, 15.0, 13.12]\n",
      "2025/07/03 23:29:47 INFO dspy.teleprompt.mipro_optimizer_v2: Best full score so far: 15.62\n",
      "2025/07/03 23:29:47 INFO dspy.teleprompt.mipro_optimizer_v2: ==========================================\n",
      "\n",
      "\n",
      "2025/07/03 23:29:47 INFO dspy.teleprompt.mipro_optimizer_v2: == Trial 21 / 23 - Minibatch ==\n"
     ]
    },
    {
     "name": "stdout",
     "output_type": "stream",
     "text": [
      "Average Metric: 3.00 / 35 (8.6%): 100%|██████████| 35/35 [00:00<00:00, 367.48it/s]"
     ]
    },
    {
     "name": "stderr",
     "output_type": "stream",
     "text": [
      "2025/07/03 23:29:47 INFO dspy.evaluate.evaluate: Average Metric: 3 / 35 (8.6%)\n",
      "2025/07/03 23:29:47 INFO dspy.teleprompt.mipro_optimizer_v2: Score: 8.57 on minibatch of size 35 with parameters ['Predictor 0: Instruction 1', 'Predictor 0: Few-Shot Set 3'].\n",
      "2025/07/03 23:29:47 INFO dspy.teleprompt.mipro_optimizer_v2: Minibatch scores so far: [14.29, 17.14, 22.86, 20.0, 8.57, 20.0, 17.14, 8.57, 17.14, 17.14, 31.43, 20.0, 14.29, 14.29, 8.57, 2.86, 8.57]\n",
      "2025/07/03 23:29:47 INFO dspy.teleprompt.mipro_optimizer_v2: Full eval scores so far: [15.62, 12.5, 15.0, 13.12]\n",
      "2025/07/03 23:29:47 INFO dspy.teleprompt.mipro_optimizer_v2: Best full score so far: 15.62\n",
      "2025/07/03 23:29:47 INFO dspy.teleprompt.mipro_optimizer_v2: ==========================================\n",
      "\n",
      "\n",
      "2025/07/03 23:29:47 INFO dspy.teleprompt.mipro_optimizer_v2: == Trial 22 / 23 - Minibatch ==\n"
     ]
    },
    {
     "name": "stdout",
     "output_type": "stream",
     "text": [
      "\n",
      "Average Metric: 4.00 / 35 (11.4%): 100%|██████████| 35/35 [00:00<00:00, 558.01it/s]"
     ]
    },
    {
     "name": "stderr",
     "output_type": "stream",
     "text": [
      "2025/07/03 23:29:48 INFO dspy.evaluate.evaluate: Average Metric: 4 / 35 (11.4%)\n",
      "2025/07/03 23:29:48 INFO dspy.teleprompt.mipro_optimizer_v2: Score: 11.43 on minibatch of size 35 with parameters ['Predictor 0: Instruction 2', 'Predictor 0: Few-Shot Set 11'].\n",
      "2025/07/03 23:29:48 INFO dspy.teleprompt.mipro_optimizer_v2: Minibatch scores so far: [14.29, 17.14, 22.86, 20.0, 8.57, 20.0, 17.14, 8.57, 17.14, 17.14, 31.43, 20.0, 14.29, 14.29, 8.57, 2.86, 8.57, 11.43]\n",
      "2025/07/03 23:29:48 INFO dspy.teleprompt.mipro_optimizer_v2: Full eval scores so far: [15.62, 12.5, 15.0, 13.12]\n",
      "2025/07/03 23:29:48 INFO dspy.teleprompt.mipro_optimizer_v2: Best full score so far: 15.62\n",
      "2025/07/03 23:29:48 INFO dspy.teleprompt.mipro_optimizer_v2: ==========================================\n",
      "\n",
      "\n",
      "2025/07/03 23:29:48 INFO dspy.teleprompt.mipro_optimizer_v2: ===== Trial 23 / 23 - Full Evaluation =====\n",
      "2025/07/03 23:29:48 INFO dspy.teleprompt.mipro_optimizer_v2: Doing full eval on next top averaging program (Avg Score: 20.0) from minibatch trials...\n"
     ]
    },
    {
     "name": "stdout",
     "output_type": "stream",
     "text": [
      "\n",
      "Average Metric: 22.00 / 160 (13.8%): 100%|██████████| 160/160 [00:00<00:00, 272.63it/s]"
     ]
    },
    {
     "name": "stderr",
     "output_type": "stream",
     "text": [
      "2025/07/03 23:29:48 INFO dspy.evaluate.evaluate: Average Metric: 22 / 160 (13.8%)\n",
      "2025/07/03 23:29:48 INFO dspy.teleprompt.mipro_optimizer_v2: Full eval scores so far: [15.62, 12.5, 15.0, 13.12, 13.75]\n",
      "2025/07/03 23:29:48 INFO dspy.teleprompt.mipro_optimizer_v2: Best full score so far: 15.62\n",
      "2025/07/03 23:29:48 INFO dspy.teleprompt.mipro_optimizer_v2: =======================\n",
      "2025/07/03 23:29:48 INFO dspy.teleprompt.mipro_optimizer_v2: \n",
      "\n",
      "2025/07/03 23:29:48 INFO dspy.teleprompt.mipro_optimizer_v2: Returning best identified program with score 15.62!\n"
     ]
    },
    {
     "name": "stdout",
     "output_type": "stream",
     "text": [
      "\n"
     ]
    }
   ],
   "source": [
    "tp = dspy.MIPROv2(metric=evaluation_metric, auto=\"medium\", num_threads=24)  # use fewer threads if your rate limit is small\n",
    "\n",
    "optimized_answer = tp.compile(answer, trainset=trainset,\n",
    "                           max_bootstrapped_demos=2, max_labeled_demos=2,\n",
    "                           requires_permission_to_run=False)"
   ]
  },
  {
   "cell_type": "code",
   "execution_count": 16,
   "metadata": {},
   "outputs": [
    {
     "name": "stdout",
     "output_type": "stream",
     "text": [
      "Average Metric: 9.00 / 50 (18.0%): 100%|██████████| 50/50 [00:00<00:00, 1162.99it/s]"
     ]
    },
    {
     "name": "stderr",
     "output_type": "stream",
     "text": [
      "2025/07/03 23:29:49 INFO dspy.evaluate.evaluate: Average Metric: 9 / 50 (18.0%)\n"
     ]
    },
    {
     "name": "stdout",
     "output_type": "stream",
     "text": [
      "\n"
     ]
    },
    {
     "data": {
      "text/html": [
       "<div>\n",
       "<style scoped>\n",
       "    .dataframe tbody tr th:only-of-type {\n",
       "        vertical-align: middle;\n",
       "    }\n",
       "\n",
       "    .dataframe tbody tr th {\n",
       "        vertical-align: top;\n",
       "    }\n",
       "\n",
       "    .dataframe thead th {\n",
       "        text-align: right;\n",
       "    }\n",
       "</style>\n",
       "<table border=\"1\" class=\"dataframe\">\n",
       "  <thead>\n",
       "    <tr style=\"text-align: right;\">\n",
       "      <th></th>\n",
       "      <th>question</th>\n",
       "      <th>context</th>\n",
       "      <th>documents</th>\n",
       "      <th>disambig_entity</th>\n",
       "      <th>gold_answers</th>\n",
       "      <th>wrong_answers</th>\n",
       "      <th>reasoning</th>\n",
       "      <th>correct_answers</th>\n",
       "      <th>explanation</th>\n",
       "      <th>EvaluationMetric</th>\n",
       "    </tr>\n",
       "  </thead>\n",
       "  <tbody>\n",
       "    <tr>\n",
       "      <th>0</th>\n",
       "      <td>What is the gender composition of Wirral Grammar School?</td>\n",
       "      <td>Document 1: Wirral Grammar School for Boys Wirral Grammar School f...</td>\n",
       "      <td>[{'text': \"Wirral Grammar School for Boys Wirral Grammar School fo...</td>\n",
       "      <td>[Wirral Grammar School for Boys, Wirral Grammar School for Girls]</td>\n",
       "      <td>[Boys, All-girls]</td>\n",
       "      <td>[Girls, Girls]</td>\n",
       "      <td>The context provided includes information about two schools: Wirra...</td>\n",
       "      <td>[Boys and Girls, but in separate schools]</td>\n",
       "      <td>Wirral Grammar School consists of two separate institutions: Wirra...</td>\n",
       "      <td></td>\n",
       "    </tr>\n",
       "    <tr>\n",
       "      <th>1</th>\n",
       "      <td>When was Harry Harvey born?</td>\n",
       "      <td>Document 1: Harry Harvey (Medal of Honor, 1865) Harry Harvey (Dece...</td>\n",
       "      <td>[{'text': 'Harry Harvey (Medal of Honor, 1865) Harry Harvey (Decem...</td>\n",
       "      <td>[Harry Harvey (Medal of Honor, 1865), Harry Harvey (Medal of Honor...</td>\n",
       "      <td>[December 14, 1846, June 4, 1873, January 10, 1901]</td>\n",
       "      <td>[]</td>\n",
       "      <td>The question asks for the birth date of Harry Harvey. However, the...</td>\n",
       "      <td>[December 14, 1846, June 4, 1873, January 10, 1901]</td>\n",
       "      <td>There are three different Harry Harveys mentioned in the documents...</td>\n",
       "      <td>✔️ [1]</td>\n",
       "    </tr>\n",
       "  </tbody>\n",
       "</table>\n",
       "</div>"
      ],
      "text/plain": [
       "                                                   question  \\\n",
       "0  What is the gender composition of Wirral Grammar School?   \n",
       "1                               When was Harry Harvey born?   \n",
       "\n",
       "                                                                 context  \\\n",
       "0  Document 1: Wirral Grammar School for Boys Wirral Grammar School f...   \n",
       "1  Document 1: Harry Harvey (Medal of Honor, 1865) Harry Harvey (Dece...   \n",
       "\n",
       "                                                               documents  \\\n",
       "0  [{'text': \"Wirral Grammar School for Boys Wirral Grammar School fo...   \n",
       "1  [{'text': 'Harry Harvey (Medal of Honor, 1865) Harry Harvey (Decem...   \n",
       "\n",
       "                                                         disambig_entity  \\\n",
       "0      [Wirral Grammar School for Boys, Wirral Grammar School for Girls]   \n",
       "1  [Harry Harvey (Medal of Honor, 1865), Harry Harvey (Medal of Honor...   \n",
       "\n",
       "                                          gold_answers   wrong_answers  \\\n",
       "0                                    [Boys, All-girls]  [Girls, Girls]   \n",
       "1  [December 14, 1846, June 4, 1873, January 10, 1901]              []   \n",
       "\n",
       "                                                               reasoning  \\\n",
       "0  The context provided includes information about two schools: Wirra...   \n",
       "1  The question asks for the birth date of Harry Harvey. However, the...   \n",
       "\n",
       "                                       correct_answers  \\\n",
       "0            [Boys and Girls, but in separate schools]   \n",
       "1  [December 14, 1846, June 4, 1873, January 10, 1901]   \n",
       "\n",
       "                                                             explanation  \\\n",
       "0  Wirral Grammar School consists of two separate institutions: Wirra...   \n",
       "1  There are three different Harry Harveys mentioned in the documents...   \n",
       "\n",
       "  EvaluationMetric  \n",
       "0                   \n",
       "1           ✔️ [1]  "
      ]
     },
     "metadata": {},
     "output_type": "display_data"
    },
    {
     "data": {
      "text/html": [
       "\n",
       "            <div style='\n",
       "                text-align: center;\n",
       "                font-size: 16px;\n",
       "                font-weight: bold;\n",
       "                color: #555;\n",
       "                margin: 10px 0;'>\n",
       "                ... 48 more rows not displayed ...\n",
       "            </div>\n",
       "            "
      ],
      "text/plain": [
       "<IPython.core.display.HTML object>"
      ]
     },
     "metadata": {},
     "output_type": "display_data"
    },
    {
     "data": {
      "text/plain": [
       "18.0"
      ]
     },
     "execution_count": 16,
     "metadata": {},
     "output_type": "execute_result"
    }
   ],
   "source": [
    "evaluate(optimized_answer)"
   ]
  },
  {
   "cell_type": "code",
   "execution_count": 18,
   "metadata": {},
   "outputs": [],
   "source": [
    "optimized_answer.save(\"/home/darth/Documents/code/ramdocs/RAMDocs/src/dspy/saved_states/simba_cot\", save_program=True)"
   ]
  },
  {
   "cell_type": "code",
   "execution_count": 19,
   "metadata": {},
   "outputs": [
    {
     "name": "stdout",
     "output_type": "stream",
     "text": [
      "\n",
      "\n",
      "\n",
      "\n",
      "\u001b[34m[2025-07-03T23:29:49.037073]\u001b[0m\n",
      "\n",
      "\u001b[31mSystem message:\u001b[0m\n",
      "\n",
      "Your input fields are:\n",
      "1. `question` (str): \n",
      "2. `context` (str):\n",
      "Your output fields are:\n",
      "1. `reasoning` (str): \n",
      "2. `correct_answers` (list[str]): \n",
      "3. `explanation` (str):\n",
      "All interactions will be structured in the following way, with the appropriate values filled in.\n",
      "\n",
      "[[ ## question ## ]]\n",
      "{question}\n",
      "\n",
      "[[ ## context ## ]]\n",
      "{context}\n",
      "\n",
      "[[ ## reasoning ## ]]\n",
      "{reasoning}\n",
      "\n",
      "[[ ## correct_answers ## ]]\n",
      "{correct_answers}        # note: the value you produce must adhere to the JSON schema: {\"type\": \"array\", \"items\": {\"type\": \"string\"}}\n",
      "\n",
      "[[ ## explanation ## ]]\n",
      "{explanation}\n",
      "\n",
      "[[ ## completed ## ]]\n",
      "In adhering to this structure, your objective is: \n",
      "        Answer a question based on the provided documents.\n",
      "\n",
      "\n",
      "\u001b[31mUser message:\u001b[0m\n",
      "\n",
      "[[ ## question ## ]]\n",
      "Who was Chilperic's father?\n",
      "\n",
      "[[ ## context ## ]]\n",
      "Document 1: Chilperic I Chilperic I (c. 539 – September 584) was the king of Neustria (or Soissons) from 561 to his death. He was one of the sons of the Frankish king Clotaire I and Queen Aregund. Immediately after the death of his father in 561, he endeavoured to take possession of the whole kingdom, seized the treasure amassed in the royal town of Berny and entered Paris. His brothers, however, compelled him to divide the kingdom with them, and Soissons, together with Amiens, Arras, Cambrai, Thérouanne, Tournai, and Boulogne fell to Chilperic's share. His eldest brother Charibert received Paris, the\n",
      "Document 2: instigation of Chilperic ’ s concubine Fredegund , our ancestor , who then became Chilperic ’ s third wife , at the beginning of 40 years of brutal warfare with Brunhilde . See http : //en.wikipedia.org/wiki/Chilperic_I for lots more information . -- -- -- -- -- -- -- -- -- -- http : //en.wikipedia.org/wiki/Chilperic_II_of_Burgundy -- -- -- -- -- -- -- -- -- -- d. 584 , Frankish king of Neustria ( 561–84 ) , son of Clotaire I . He feuded bitterly with his brother Sigebert I , who had inherited the E Frankish kingdom that came to be\n",
      "Document 3: Known as Austrasia. Their struggle became savage after Chilperic and his mistress and future wife, Fredegunde, murdered (567) Chilperic’s second wife, Galswintha; she was the sister of Sigebert’s wife, Brunhilda. In the wars between the two brothers, Sigebert overran Neustria before his death (575). Later, Chilperic was murdered, probably at the instigation of Brunhilda. The feud was inherited by Chilperic’s son and successor, Clotaire II. Chilperic was the son of Lothair I, who had divided the kingdom among his sons upon his death. The Columbia Encyclopedia, Sixth Edition. 2001.\n",
      "Document 4: Subsequent marriage to Fredegund produced four more legitimate offspring: Samson, died young; Rigunth, betrothed to Reccared but never married; Theuderic, died young; Clotaire, his successor in Neustria, later sole king of the Franks. Chilperic I (c. 539 – September 584) was the king of Neustria (or Soissons) from 561 to his death. He was one of the sons of Guntram, and Aregund. Chilperic I's first marriage was to Audovera. They had four children: Theudebert.\n",
      "Document 5: Chilperic II of Burgundy Chilperic II (; 450–493 AD) was the King of Burgundy from 473 until his death. Before that he co-ruled with his father Gondioc beginning in 463. He began his reign in 473 after the partition of Burgundy with his younger brothers Godegisel, Gundobad, and Godomar; he ruled from \"Valentia Julia\" (Valence) and his brothers ruled respectively from Geneva, Vienne, and Lyon. Sometime in the early 470s Chilperic was forced to submit to the authority of the Roman Empire by the \"magister militum\" Ecdicius Avitus. In 475 he probably sheltered an exiled Ecdicius after the Visigoths had\n",
      "Document 6: Chilperic II Chilperic II (c. 672 – 13 February 721), known as Daniel prior to his coronation, was the youngest son of Childeric II and his half-cousin, king of Neustria from 715 and sole king of the Franks from 718 until his death. As an infant, he was spirited to a monastery to protect his life from the internecine feuding of his family. There, he was raised as Daniel until the death of Dagobert III in 715, when he was taken from the monastery — at the age of forty-three — and raised on the shield of the Neustrian warriors\n",
      "Document 7: II ( 629–632 ) Chilperic ( 632 ) Sigebert III ( 634–656 ) Childebert the Adopted ( 656–661 ) Clovis II ( 639–657 ) Chlothar III ( 657–673 ) Childeric II ( 662–675 ) Theuderic III ( 675–691 ) Dagobert II ( 675–679 ) Clovis IV ( 691–695 ) Childebert III ( 695–711 ) Dagobert III ( 711–715 ) Chilperic II ( 715–721 ) Chlothar IV ( 717–720 ) Theuderic IV ( 721–737 ) Childeric III ( 743–751 ) v t e Monarchs of France Detailed family tree Simplified family tree List of Frankish kings List of French monarchs Merovingians\n",
      "Document 8: article incorporates text from a publication now in the public domain : Chisholm , Hugh , ed . ( 1911 ) . `` Childeric `` . Encyclopædia Britannica ( 11th ed. ) . Cambridge University Press . Sources edit Bachrach , Bernard S. ; Bachrach , David S. ; Leese , Michael ( 2018 ) . Deeds of the Bishops of Cambrai , Translation and Commentary . Routledge . ISBN 9781317036210 . External links edit Media related to Childeric II at Wikimedia Commons Childeric II Merovingian dynasty Born : 653 Died : 675 Preceded by Chlothar III King of the\n",
      "Document 9: zijn eerste vrouw Audovera kreeg hij vijf kinderen : Theodebert , Merovech , Clovis , Basina en Childeswindis . Hoewel hij ook met zijn bijzit Fredegonde leefde - zij was van lagere afkomst en tevens zijn boze geest - wou hij , zoals zijn broer Sigebert I , ook met een prinses trouwen . Het werd Galswintha , de oudere halfzus van Brunhilde van Austrasië . Toen deze zag dat haar man Fredegonde niet kon loslaten , wou zij haar man verlaten en naar haar vaderland Spanje terugkeren . De bruidsschat mocht hij behouden . Op een morgen vond men\n",
      "\n",
      "Respond with the corresponding output fields, starting with the field `[[ ## reasoning ## ]]`, then `[[ ## correct_answers ## ]]` (must be formatted as a valid Python list[str]), then `[[ ## explanation ## ]]`, and then ending with the marker for `[[ ## completed ## ]]`.\n",
      "\n",
      "\n",
      "\u001b[31mResponse:\u001b[0m\n",
      "\n",
      "\u001b[32m[[ ## reasoning ## ]]\n",
      "The context provided in Document 1 and Document 2 clearly states that Chilperic I was one of the sons of the Frankish king Clotaire I. Therefore, Clotaire I is the father of Chilperic I. However, there is some inconsistency in the other documents, such as Document 4, which mentions Guntram as the father. Given the historical accuracy and consistency in the earlier documents, Clotaire I is the most reliable answer.\n",
      "\n",
      "[[ ## correct_answers ## ]]\n",
      "[\"Clotaire I\"]\n",
      "\n",
      "[[ ## explanation ## ]]\n",
      "Based on the information provided in Documents 1 and 2, Chilperic I's father is Clotaire I. These documents are consistent and provide a clear lineage, making Clotaire I the correct answer. Despite some discrepancies in other documents, the majority and historically accurate sources support this conclusion.\n",
      "\n",
      "[[ ## completed ## ]]\u001b[0m\n",
      "\n",
      "\n",
      "\n",
      "\n",
      "\n"
     ]
    }
   ],
   "source": [
    "lm.inspect_history(n=1)"
   ]
  },
  {
   "cell_type": "code",
   "execution_count": 21,
   "metadata": {},
   "outputs": [],
   "source": [
    "optimized_answer = dspy.load(\"/home/darth/Documents/code/ramdocs/RAMDocs/src/dspy/saved_states/simba_cot\")"
   ]
  },
  {
   "cell_type": "code",
   "execution_count": null,
   "metadata": {},
   "outputs": [],
   "source": []
  }
 ],
 "metadata": {
  "kernelspec": {
   "display_name": ".venv",
   "language": "python",
   "name": "python3"
  },
  "language_info": {
   "codemirror_mode": {
    "name": "ipython",
    "version": 3
   },
   "file_extension": ".py",
   "mimetype": "text/x-python",
   "name": "python",
   "nbconvert_exporter": "python",
   "pygments_lexer": "ipython3",
   "version": "3.12.10"
  }
 },
 "nbformat": 4,
 "nbformat_minor": 2
}
