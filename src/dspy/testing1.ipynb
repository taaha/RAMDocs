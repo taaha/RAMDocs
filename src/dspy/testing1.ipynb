{
 "cells": [
  {
   "cell_type": "code",
   "execution_count": 1,
   "metadata": {},
   "outputs": [],
   "source": [
    "import dspy\n",
    "from decouple import config\n",
    "from typing import Literal, List\n",
    "\n",
    "OPENROUTER_API_KEY = config(\"OPENROUTER_API_KEY\")"
   ]
  },
  {
   "cell_type": "code",
   "execution_count": 2,
   "metadata": {},
   "outputs": [],
   "source": [
    "lm = dspy.LM(\"openrouter/qwen/qwen-2.5-72b-instruct\", api_key=OPENROUTER_API_KEY, api_base=\"https://openrouter.ai/api/v1\",)\n",
    "dspy.configure(lm=lm)"
   ]
  },
  {
   "cell_type": "code",
   "execution_count": 3,
   "metadata": {},
   "outputs": [],
   "source": [
    "class Answer(dspy.Signature):\n",
    "    \"\"\"Answer a question based on the provided documents.\"\"\"\n",
    "\n",
    "    question: str = dspy.InputField()\n",
    "    context: str = dspy.InputField()\n",
    "    correct_answers: List[str] = dspy.OutputField()\n",
    "    explanation: str = dspy.OutputField()"
   ]
  },
  {
   "cell_type": "code",
   "execution_count": 4,
   "metadata": {},
   "outputs": [],
   "source": [
    "answer = dspy.Predict(Answer)"
   ]
  },
  {
   "cell_type": "markdown",
   "metadata": {},
   "source": [
    "### Processing data into dspy examples"
   ]
  },
  {
   "cell_type": "code",
   "execution_count": 5,
   "metadata": {},
   "outputs": [],
   "source": [
    "import ujson\n",
    "\n",
    "file_path = \"/Users/app/Documents/ramdocs/RAMDocs/src/data/split_data/RAMDocs_test_train.jsonl\"\n",
    "\n",
    "data = []\n",
    "with open(file_path) as f:\n",
    "    for line in f:\n",
    "        line = ujson.loads(line)\n",
    "        line_data = {\n",
    "            'question': line['question'],\n",
    "            'context': \"\\n\".join([\"Document \" + str(i+1) + \": \" + doc['text'] for i, doc in enumerate(line['documents'])]),\n",
    "            \"documents\": line['documents'],\n",
    "            \"disambig_entity\": line['disambig_entity'],\n",
    "            \"gold_answers\": line['gold_answers'],\n",
    "            \"wrong_answers\": line['wrong_answers']\n",
    "        }\n",
    "        data.append(line_data)\n",
    "    # data = [ujson.loads(line) for line in f]"
   ]
  },
  {
   "cell_type": "code",
   "execution_count": 6,
   "metadata": {},
   "outputs": [
    {
     "data": {
      "text/plain": [
       "{'question': 'What is the profession of C. Mayer?',\n",
       " 'context': 'Document 1: Christa Mayer Christa Mayer is a German operatic mezzo-soprano. She is particularly known for her portrayal of Erda in Richard Wagner\\'s \"Ring Cycle\"; a role which she has performed several times at the Bayreuth Festival and recorded on the BBC Legends Record Label. Christa Mayer was born in Sulzbach-Rosenberg, Germany in Bavaria. After graduating from the Bavarian Academy of Singing, she pursued further studies at the Munich Academy of Music where she was a pupil of tenor Thomas Moser. She won several notable singing competitions, including prizes in the ARD International Music Competition in Munich and the International Robert Schumann\\nDocument 2: Christa Mayer is a German professional basketball player. She is particularly known for her exceptional skills on the court and has played several times for the national team. Christa Mayer was born in Sulzbach-Rosenberg, Germany in Bavaria. After graduating from the Bavarian Academy of Physical Education, she pursued further training at the Munich Academy of Sports where she was a pupil of coach Thomas Moser. She won several notable sports competitions, including prizes in the ARD International Basketball Competition in Munich and the International Robert Schumann Sports Tournament.\\nDocument 3: Constant Mayer Constant Mayer (October 3, 1829 – May 12, 1911) was a French painter who emigrated to the United States. Mayer was born in Besançon, France. The family was Jewish. He studied in Paris in the École des Beaux-Arts and under Léon Cogniet, and followed his profession in that city until 1854, when he moved to New York City. Mayer worked as a colorist at the photography studio of Jeremiah Gurney and CD Fredericks, at 340 Broadway, in Manhattan. With his own studio, at 1155 Broadway, he became known for his genre or historical paintings based on literature, and\\nDocument 4: , he began giving him copper trimmings which were of no use and Mayer considered Wilson to be his first partner and his best friend . Wilson remembered that he was impressed with the boy \\'s good manners and bright personality . [ 22 ] Whenever Mayer visited Saint John in later years , he placed flowers on Wilson \\'s grave , just as he did on his mother \\'s . [ 22 ] I had been to his hometown . I knew from whence he sprang . He taught himself grammar . He taught himself manners . If anybody',\n",
       " 'documents': [{'text': 'Christa Mayer Christa Mayer is a German operatic mezzo-soprano. She is particularly known for her portrayal of Erda in Richard Wagner\\'s \"Ring Cycle\"; a role which she has performed several times at the Bayreuth Festival and recorded on the BBC Legends Record Label. Christa Mayer was born in Sulzbach-Rosenberg, Germany in Bavaria. After graduating from the Bavarian Academy of Singing, she pursued further studies at the Munich Academy of Music where she was a pupil of tenor Thomas Moser. She won several notable singing competitions, including prizes in the ARD International Music Competition in Munich and the International Robert Schumann',\n",
       "   'type': 'correct',\n",
       "   'answer': 'Operatic mezzo-soprano'},\n",
       "  {'text': 'Christa Mayer is a German professional basketball player. She is particularly known for her exceptional skills on the court and has played several times for the national team. Christa Mayer was born in Sulzbach-Rosenberg, Germany in Bavaria. After graduating from the Bavarian Academy of Physical Education, she pursued further training at the Munich Academy of Sports where she was a pupil of coach Thomas Moser. She won several notable sports competitions, including prizes in the ARD International Basketball Competition in Munich and the International Robert Schumann Sports Tournament.',\n",
       "   'type': 'misinfo',\n",
       "   'answer': 'Professional basketball player'},\n",
       "  {'text': 'Constant Mayer Constant Mayer (October 3, 1829 – May 12, 1911) was a French painter who emigrated to the United States. Mayer was born in Besançon, France. The family was Jewish. He studied in Paris in the École des Beaux-Arts and under Léon Cogniet, and followed his profession in that city until 1854, when he moved to New York City. Mayer worked as a colorist at the photography studio of Jeremiah Gurney and CD Fredericks, at 340 Broadway, in Manhattan. With his own studio, at 1155 Broadway, he became known for his genre or historical paintings based on literature, and',\n",
       "   'type': 'noise',\n",
       "   'answer': 'unknown'},\n",
       "  {'text': \", he began giving him copper trimmings which were of no use and Mayer considered Wilson to be his first partner and his best friend . Wilson remembered that he was impressed with the boy 's good manners and bright personality . [ 22 ] Whenever Mayer visited Saint John in later years , he placed flowers on Wilson 's grave , just as he did on his mother 's . [ 22 ] I had been to his hometown . I knew from whence he sprang . He taught himself grammar . He taught himself manners . If anybody\",\n",
       "   'type': 'noise',\n",
       "   'answer': 'unknown'}],\n",
       " 'disambig_entity': ['Christa Mayer', 'Constant Mayer'],\n",
       " 'gold_answers': ['Operatic mezzo-soprano', 'Painter and artist'],\n",
       " 'wrong_answers': ['Professional basketball player']}"
      ]
     },
     "execution_count": 6,
     "metadata": {},
     "output_type": "execute_result"
    }
   ],
   "source": [
    "data[0]"
   ]
  },
  {
   "cell_type": "code",
   "execution_count": 7,
   "metadata": {},
   "outputs": [
    {
     "data": {
      "text/plain": [
       "Example({'question': 'What is the population of Sandusky Township, Ohio?', 'context': \"Document 1: Sandusky Township, Crawford County, Ohio Sandusky Township is one of the sixteen townships of Crawford County, Ohio, United States. As of the 2010 census the population was 459. Located in the eastern part of the county, it borders the following townships: No municipalities are located in Sandusky Township. Sandusky Township was named from the Sandusky River, which flows through its southern part. Statewide, other Sandusky Townships are located in Richland and Sandusky counties. The township is governed by a three-member board of trustees, who are elected in November of odd-numbered years to a four-year term beginning on the following January\\nDocument 2: from Wikimedia project Spanish Wikipedia located in the administrative territorial entity Crawford County 1 reference imported from Wikimedia project English Wikipedia coordinate location 40°51'5 '' N, 82°49'22 '' W 1 reference imported from Wikimedia project English Wikipedia population 1,234 statement is subject of 2020 United States Census determination method or standard census point in time 1 April 2020 1 reference stated in 2020 United States Census retrieved 1 January 2022 reference URL https : //data.census.gov/cedsci/table? t=Populations % 20and % 20People & g=0100000US, % 241600000 & y=2020 editor United States Census Bureau 1,234 determination method or\\nDocument 3: Sandusky Township, Crawford County, Ohio Sandusky Township is one of the sixteen townships of Crawford County, Ohio, United States. As of the 2010 census the population was 1,234. Located in the eastern part of the county, it borders the following townships: No municipalities are located in Sandusky Township. Sandusky Township was named from the Sandusky River, which flows through its southern part. Statewide, other Sandusky Townships are located in Richland and Sandusky counties. The township is governed by a three-member board of trustees, who are elected in November of odd-numbered years to a four-year term beginning on the following January.\\nDocument 4: County , OH have `` super commutes '' in excess of 90 minutes . The chart below shows how the median household income in Sandusky County , OH compares to that of it 's neighboring and parent geographies . View Data Save Image Share / Embed Add Data to Cart View Data Save Image Share / Embed Add Data to Cart Car Ownership 2 cars Average Number The following chart displays the households in Sandusky County , OH distributed between a series of car ownership buckets compared to the national averages for each bucket . The largest share of households\\nDocument 5: 41,228 and the median income for a family was $ 49,647 . Males had a median income of $ 40,304 versus $ 28,118 for females . The per capita income for the county was $ 20,590 . About 10.8 % of families and 13.0 % of the population were below the poverty line , including 21.3 % of those under age 18 and 6.2 % of those age 65 or over . [ 14 ] Politics [ edit ] Prior to 1924 , Crawford County was a strongly Democratic county . Since then , it has become strongly Republican ,\", 'documents': [{'text': 'Sandusky Township, Crawford County, Ohio Sandusky Township is one of the sixteen townships of Crawford County, Ohio, United States. As of the 2010 census the population was 459. Located in the eastern part of the county, it borders the following townships: No municipalities are located in Sandusky Township. Sandusky Township was named from the Sandusky River, which flows through its southern part. Statewide, other Sandusky Townships are located in Richland and Sandusky counties. The township is governed by a three-member board of trustees, who are elected in November of odd-numbered years to a four-year term beginning on the following January', 'type': 'correct', 'answer': '459'}, {'text': \"from Wikimedia project Spanish Wikipedia located in the administrative territorial entity Crawford County 1 reference imported from Wikimedia project English Wikipedia coordinate location 40°51'5 '' N, 82°49'22 '' W 1 reference imported from Wikimedia project English Wikipedia population 1,234 statement is subject of 2020 United States Census determination method or standard census point in time 1 April 2020 1 reference stated in 2020 United States Census retrieved 1 January 2022 reference URL https : //data.census.gov/cedsci/table? t=Populations % 20and % 20People & g=0100000US, % 241600000 & y=2020 editor United States Census Bureau 1,234 determination method or\", 'type': 'misinfo', 'answer': '1,234'}, {'text': 'Sandusky Township, Crawford County, Ohio Sandusky Township is one of the sixteen townships of Crawford County, Ohio, United States. As of the 2010 census the population was 1,234. Located in the eastern part of the county, it borders the following townships: No municipalities are located in Sandusky Township. Sandusky Township was named from the Sandusky River, which flows through its southern part. Statewide, other Sandusky Townships are located in Richland and Sandusky counties. The township is governed by a three-member board of trustees, who are elected in November of odd-numbered years to a four-year term beginning on the following January.', 'type': 'misinfo', 'answer': '1,234'}, {'text': \"County , OH have `` super commutes '' in excess of 90 minutes . The chart below shows how the median household income in Sandusky County , OH compares to that of it 's neighboring and parent geographies . View Data Save Image Share / Embed Add Data to Cart View Data Save Image Share / Embed Add Data to Cart Car Ownership 2 cars Average Number The following chart displays the households in Sandusky County , OH distributed between a series of car ownership buckets compared to the national averages for each bucket . The largest share of households\", 'type': 'noise', 'answer': 'unknown'}, {'text': '41,228 and the median income for a family was $ 49,647 . Males had a median income of $ 40,304 versus $ 28,118 for females . The per capita income for the county was $ 20,590 . About 10.8 % of families and 13.0 % of the population were below the poverty line , including 21.3 % of those under age 18 and 6.2 % of those age 65 or over . [ 14 ] Politics [ edit ] Prior to 1924 , Crawford County was a strongly Democratic county . Since then , it has become strongly Republican ,', 'type': 'noise', 'answer': 'unknown'}], 'disambig_entity': ['Sandusky Township, Crawford County, Ohio'], 'gold_answers': ['459'], 'wrong_answers': ['1,234', '1,234']}) (input_keys={'question', 'context'})"
      ]
     },
     "execution_count": 7,
     "metadata": {},
     "output_type": "execute_result"
    }
   ],
   "source": [
    "data = [dspy.Example(**d).with_inputs('question', 'context') for d in data]\n",
    "\n",
    "# Let's pick an `example` here from the data.\n",
    "example = data[2]\n",
    "example"
   ]
  },
  {
   "cell_type": "code",
   "execution_count": 8,
   "metadata": {},
   "outputs": [
    {
     "data": {
      "text/plain": [
       "(200, 50)"
      ]
     },
     "execution_count": 8,
     "metadata": {},
     "output_type": "execute_result"
    }
   ],
   "source": [
    "import random\n",
    "\n",
    "random.Random(0).shuffle(data)\n",
    "trainset, devset = data[:200], data[200:1000]\n",
    "\n",
    "len(trainset), len(devset)"
   ]
  },
  {
   "cell_type": "markdown",
   "metadata": {},
   "source": [
    "### Baseline evaluation"
   ]
  },
  {
   "cell_type": "code",
   "execution_count": 9,
   "metadata": {},
   "outputs": [],
   "source": [
    "pred = answer(**example.inputs())"
   ]
  },
  {
   "cell_type": "code",
   "execution_count": 13,
   "metadata": {},
   "outputs": [
    {
     "data": {
      "text/plain": [
       "Example({'question': 'What is the population of Sandusky Township, Ohio?', 'context': \"Document 1: Sandusky Township, Crawford County, Ohio Sandusky Township is one of the sixteen townships of Crawford County, Ohio, United States. As of the 2010 census the population was 459. Located in the eastern part of the county, it borders the following townships: No municipalities are located in Sandusky Township. Sandusky Township was named from the Sandusky River, which flows through its southern part. Statewide, other Sandusky Townships are located in Richland and Sandusky counties. The township is governed by a three-member board of trustees, who are elected in November of odd-numbered years to a four-year term beginning on the following January\\nDocument 2: from Wikimedia project Spanish Wikipedia located in the administrative territorial entity Crawford County 1 reference imported from Wikimedia project English Wikipedia coordinate location 40°51'5 '' N, 82°49'22 '' W 1 reference imported from Wikimedia project English Wikipedia population 1,234 statement is subject of 2020 United States Census determination method or standard census point in time 1 April 2020 1 reference stated in 2020 United States Census retrieved 1 January 2022 reference URL https : //data.census.gov/cedsci/table? t=Populations % 20and % 20People & g=0100000US, % 241600000 & y=2020 editor United States Census Bureau 1,234 determination method or\\nDocument 3: Sandusky Township, Crawford County, Ohio Sandusky Township is one of the sixteen townships of Crawford County, Ohio, United States. As of the 2010 census the population was 1,234. Located in the eastern part of the county, it borders the following townships: No municipalities are located in Sandusky Township. Sandusky Township was named from the Sandusky River, which flows through its southern part. Statewide, other Sandusky Townships are located in Richland and Sandusky counties. The township is governed by a three-member board of trustees, who are elected in November of odd-numbered years to a four-year term beginning on the following January.\\nDocument 4: County , OH have `` super commutes '' in excess of 90 minutes . The chart below shows how the median household income in Sandusky County , OH compares to that of it 's neighboring and parent geographies . View Data Save Image Share / Embed Add Data to Cart View Data Save Image Share / Embed Add Data to Cart Car Ownership 2 cars Average Number The following chart displays the households in Sandusky County , OH distributed between a series of car ownership buckets compared to the national averages for each bucket . The largest share of households\\nDocument 5: 41,228 and the median income for a family was $ 49,647 . Males had a median income of $ 40,304 versus $ 28,118 for females . The per capita income for the county was $ 20,590 . About 10.8 % of families and 13.0 % of the population were below the poverty line , including 21.3 % of those under age 18 and 6.2 % of those age 65 or over . [ 14 ] Politics [ edit ] Prior to 1924 , Crawford County was a strongly Democratic county . Since then , it has become strongly Republican ,\", 'documents': [{'text': 'Sandusky Township, Crawford County, Ohio Sandusky Township is one of the sixteen townships of Crawford County, Ohio, United States. As of the 2010 census the population was 459. Located in the eastern part of the county, it borders the following townships: No municipalities are located in Sandusky Township. Sandusky Township was named from the Sandusky River, which flows through its southern part. Statewide, other Sandusky Townships are located in Richland and Sandusky counties. The township is governed by a three-member board of trustees, who are elected in November of odd-numbered years to a four-year term beginning on the following January', 'type': 'correct', 'answer': '459'}, {'text': \"from Wikimedia project Spanish Wikipedia located in the administrative territorial entity Crawford County 1 reference imported from Wikimedia project English Wikipedia coordinate location 40°51'5 '' N, 82°49'22 '' W 1 reference imported from Wikimedia project English Wikipedia population 1,234 statement is subject of 2020 United States Census determination method or standard census point in time 1 April 2020 1 reference stated in 2020 United States Census retrieved 1 January 2022 reference URL https : //data.census.gov/cedsci/table? t=Populations % 20and % 20People & g=0100000US, % 241600000 & y=2020 editor United States Census Bureau 1,234 determination method or\", 'type': 'misinfo', 'answer': '1,234'}, {'text': 'Sandusky Township, Crawford County, Ohio Sandusky Township is one of the sixteen townships of Crawford County, Ohio, United States. As of the 2010 census the population was 1,234. Located in the eastern part of the county, it borders the following townships: No municipalities are located in Sandusky Township. Sandusky Township was named from the Sandusky River, which flows through its southern part. Statewide, other Sandusky Townships are located in Richland and Sandusky counties. The township is governed by a three-member board of trustees, who are elected in November of odd-numbered years to a four-year term beginning on the following January.', 'type': 'misinfo', 'answer': '1,234'}, {'text': \"County , OH have `` super commutes '' in excess of 90 minutes . The chart below shows how the median household income in Sandusky County , OH compares to that of it 's neighboring and parent geographies . View Data Save Image Share / Embed Add Data to Cart View Data Save Image Share / Embed Add Data to Cart Car Ownership 2 cars Average Number The following chart displays the households in Sandusky County , OH distributed between a series of car ownership buckets compared to the national averages for each bucket . The largest share of households\", 'type': 'noise', 'answer': 'unknown'}, {'text': '41,228 and the median income for a family was $ 49,647 . Males had a median income of $ 40,304 versus $ 28,118 for females . The per capita income for the county was $ 20,590 . About 10.8 % of families and 13.0 % of the population were below the poverty line , including 21.3 % of those under age 18 and 6.2 % of those age 65 or over . [ 14 ] Politics [ edit ] Prior to 1924 , Crawford County was a strongly Democratic county . Since then , it has become strongly Republican ,', 'type': 'noise', 'answer': 'unknown'}], 'disambig_entity': ['Sandusky Township, Crawford County, Ohio'], 'gold_answers': ['459'], 'wrong_answers': ['1,234', '1,234']}) (input_keys={'question', 'context'})"
      ]
     },
     "execution_count": 13,
     "metadata": {},
     "output_type": "execute_result"
    }
   ],
   "source": [
    "example"
   ]
  },
  {
   "cell_type": "code",
   "execution_count": 10,
   "metadata": {},
   "outputs": [
    {
     "data": {
      "text/plain": [
       "Prediction(\n",
       "    correct_answers=['1,234'],\n",
       "    explanation='The population of Sandusky Township, Ohio, as of the 2020 census, was 1,234. This information is provided in Document 2 and Document 3, which both reference the 2020 United States Census.'\n",
       ")"
      ]
     },
     "execution_count": 10,
     "metadata": {},
     "output_type": "execute_result"
    }
   ],
   "source": [
    "pred"
   ]
  },
  {
   "cell_type": "code",
   "execution_count": 18,
   "metadata": {},
   "outputs": [
    {
     "data": {
      "text/plain": [
       "0"
      ]
     },
     "execution_count": 18,
     "metadata": {},
     "output_type": "execute_result"
    }
   ],
   "source": [
    "import unicodedata\n",
    "import re\n",
    "import string\n",
    "\n",
    "def normalize_text(s):\n",
    "    s = unicodedata.normalize(\"NFD\", s)\n",
    "\n",
    "    def remove_articles(text):\n",
    "        return re.sub(r\"\\b(a|an|the)\\b\", \" \", text)\n",
    "\n",
    "    def white_space_fix(text):\n",
    "        return \" \".join(text.split())\n",
    "\n",
    "    def remove_punc(text):\n",
    "        exclude = set(string.punctuation)\n",
    "        return \"\".join(ch for ch in text if ch not in exclude)\n",
    "\n",
    "    def lower(text):\n",
    "        return text.lower()\n",
    "\n",
    "    return white_space_fix(remove_articles(remove_punc(lower(s))))\n",
    "\n",
    "def evaluation_metric(example, pred):\n",
    "    correct_count = 0\n",
    "    llm_answers = [normalize_text(answer) for answer in pred.correct_answers]\n",
    "    gold_answers = [normalize_text(answer) for answer in example.gold_answers]\n",
    "    wrong_answers = [normalize_text(answer) for answer in example.wrong_answers]\n",
    "    \n",
    "    # Check if llm_answers contains all gold answers and no wrong answers\n",
    "    all_gold_included = all(gold in llm_answers for gold in gold_answers)\n",
    "    no_wrong_included = all(wrong not in llm_answers for wrong in wrong_answers)\n",
    "    \n",
    "    if all_gold_included and no_wrong_included:\n",
    "        score = 1\n",
    "    else:\n",
    "        score = 0\n",
    "    return score\n",
    "\n",
    "evaluation_metric(example, pred)"
   ]
  },
  {
   "cell_type": "code",
   "execution_count": null,
   "metadata": {},
   "outputs": [],
   "source": []
  }
 ],
 "metadata": {
  "kernelspec": {
   "display_name": ".venv",
   "language": "python",
   "name": "python3"
  },
  "language_info": {
   "codemirror_mode": {
    "name": "ipython",
    "version": 3
   },
   "file_extension": ".py",
   "mimetype": "text/x-python",
   "name": "python",
   "nbconvert_exporter": "python",
   "pygments_lexer": "ipython3",
   "version": "3.12.9"
  }
 },
 "nbformat": 4,
 "nbformat_minor": 2
}
