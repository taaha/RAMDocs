{
 "cells": [
  {
   "cell_type": "code",
   "execution_count": 1,
   "metadata": {},
   "outputs": [],
   "source": [
    "import dspy\n",
    "from decouple import config\n",
    "from typing import Literal, List\n",
    "\n",
    "OPENROUTER_API_KEY = config(\"OPENROUTER_API_KEY\")"
   ]
  },
  {
   "cell_type": "code",
   "execution_count": 2,
   "metadata": {},
   "outputs": [],
   "source": [
    "lm = dspy.LM(\"openrouter/qwen/qwen-2.5-72b-instruct\", api_key=OPENROUTER_API_KEY, api_base=\"https://openrouter.ai/api/v1\",)\n",
    "dspy.configure(lm=lm)"
   ]
  },
  {
   "cell_type": "code",
   "execution_count": 3,
   "metadata": {},
   "outputs": [],
   "source": [
    "class Answer(dspy.Signature):\n",
    "    \"\"\"Answer a question based on the provided documents.\"\"\"\n",
    "\n",
    "    question: str = dspy.InputField()\n",
    "    context: str = dspy.InputField()\n",
    "    correct_answers: List[str] = dspy.OutputField()\n",
    "    explanation: str = dspy.OutputField()"
   ]
  },
  {
   "cell_type": "code",
   "execution_count": 4,
   "metadata": {},
   "outputs": [],
   "source": [
    "answer = dspy.Predict(Answer)"
   ]
  },
  {
   "cell_type": "markdown",
   "metadata": {},
   "source": [
    "### Processing data into dspy examples"
   ]
  },
  {
   "cell_type": "code",
   "execution_count": 5,
   "metadata": {},
   "outputs": [],
   "source": [
    "import ujson\n",
    "\n",
    "file_path = \"/home/darth/Documents/code/ramdocs/RAMDocs/src/data/split_data/RAMDocs_test_train.jsonl\"\n",
    "\n",
    "data = []\n",
    "with open(file_path) as f:\n",
    "    for line in f:\n",
    "        line = ujson.loads(line)\n",
    "        line_data = {\n",
    "            'question': line['question'],\n",
    "            'context': \"\\n\".join([\"Document \" + str(i+1) + \": \" + doc['text'] for i, doc in enumerate(line['documents'])]),\n",
    "            \"documents\": line['documents'],\n",
    "            \"disambig_entity\": line['disambig_entity'],\n",
    "            \"gold_answers\": line['gold_answers'],\n",
    "            \"wrong_answers\": line['wrong_answers']\n",
    "        }\n",
    "        data.append(line_data)\n",
    "    # data = [ujson.loads(line) for line in f]"
   ]
  },
  {
   "cell_type": "code",
   "execution_count": 6,
   "metadata": {},
   "outputs": [
    {
     "data": {
      "text/plain": [
       "{'question': 'What is the profession of C. Mayer?',\n",
       " 'context': 'Document 1: Christa Mayer Christa Mayer is a German operatic mezzo-soprano. She is particularly known for her portrayal of Erda in Richard Wagner\\'s \"Ring Cycle\"; a role which she has performed several times at the Bayreuth Festival and recorded on the BBC Legends Record Label. Christa Mayer was born in Sulzbach-Rosenberg, Germany in Bavaria. After graduating from the Bavarian Academy of Singing, she pursued further studies at the Munich Academy of Music where she was a pupil of tenor Thomas Moser. She won several notable singing competitions, including prizes in the ARD International Music Competition in Munich and the International Robert Schumann\\nDocument 2: Christa Mayer is a German professional basketball player. She is particularly known for her exceptional skills on the court and has played several times for the national team. Christa Mayer was born in Sulzbach-Rosenberg, Germany in Bavaria. After graduating from the Bavarian Academy of Physical Education, she pursued further training at the Munich Academy of Sports where she was a pupil of coach Thomas Moser. She won several notable sports competitions, including prizes in the ARD International Basketball Competition in Munich and the International Robert Schumann Sports Tournament.\\nDocument 3: Constant Mayer Constant Mayer (October 3, 1829 – May 12, 1911) was a French painter who emigrated to the United States. Mayer was born in Besançon, France. The family was Jewish. He studied in Paris in the École des Beaux-Arts and under Léon Cogniet, and followed his profession in that city until 1854, when he moved to New York City. Mayer worked as a colorist at the photography studio of Jeremiah Gurney and CD Fredericks, at 340 Broadway, in Manhattan. With his own studio, at 1155 Broadway, he became known for his genre or historical paintings based on literature, and\\nDocument 4: , he began giving him copper trimmings which were of no use and Mayer considered Wilson to be his first partner and his best friend . Wilson remembered that he was impressed with the boy \\'s good manners and bright personality . [ 22 ] Whenever Mayer visited Saint John in later years , he placed flowers on Wilson \\'s grave , just as he did on his mother \\'s . [ 22 ] I had been to his hometown . I knew from whence he sprang . He taught himself grammar . He taught himself manners . If anybody',\n",
       " 'documents': [{'text': 'Christa Mayer Christa Mayer is a German operatic mezzo-soprano. She is particularly known for her portrayal of Erda in Richard Wagner\\'s \"Ring Cycle\"; a role which she has performed several times at the Bayreuth Festival and recorded on the BBC Legends Record Label. Christa Mayer was born in Sulzbach-Rosenberg, Germany in Bavaria. After graduating from the Bavarian Academy of Singing, she pursued further studies at the Munich Academy of Music where she was a pupil of tenor Thomas Moser. She won several notable singing competitions, including prizes in the ARD International Music Competition in Munich and the International Robert Schumann',\n",
       "   'type': 'correct',\n",
       "   'answer': 'Operatic mezzo-soprano'},\n",
       "  {'text': 'Christa Mayer is a German professional basketball player. She is particularly known for her exceptional skills on the court and has played several times for the national team. Christa Mayer was born in Sulzbach-Rosenberg, Germany in Bavaria. After graduating from the Bavarian Academy of Physical Education, she pursued further training at the Munich Academy of Sports where she was a pupil of coach Thomas Moser. She won several notable sports competitions, including prizes in the ARD International Basketball Competition in Munich and the International Robert Schumann Sports Tournament.',\n",
       "   'type': 'misinfo',\n",
       "   'answer': 'Professional basketball player'},\n",
       "  {'text': 'Constant Mayer Constant Mayer (October 3, 1829 – May 12, 1911) was a French painter who emigrated to the United States. Mayer was born in Besançon, France. The family was Jewish. He studied in Paris in the École des Beaux-Arts and under Léon Cogniet, and followed his profession in that city until 1854, when he moved to New York City. Mayer worked as a colorist at the photography studio of Jeremiah Gurney and CD Fredericks, at 340 Broadway, in Manhattan. With his own studio, at 1155 Broadway, he became known for his genre or historical paintings based on literature, and',\n",
       "   'type': 'noise',\n",
       "   'answer': 'unknown'},\n",
       "  {'text': \", he began giving him copper trimmings which were of no use and Mayer considered Wilson to be his first partner and his best friend . Wilson remembered that he was impressed with the boy 's good manners and bright personality . [ 22 ] Whenever Mayer visited Saint John in later years , he placed flowers on Wilson 's grave , just as he did on his mother 's . [ 22 ] I had been to his hometown . I knew from whence he sprang . He taught himself grammar . He taught himself manners . If anybody\",\n",
       "   'type': 'noise',\n",
       "   'answer': 'unknown'}],\n",
       " 'disambig_entity': ['Christa Mayer', 'Constant Mayer'],\n",
       " 'gold_answers': ['Operatic mezzo-soprano', 'Painter and artist'],\n",
       " 'wrong_answers': ['Professional basketball player']}"
      ]
     },
     "execution_count": 6,
     "metadata": {},
     "output_type": "execute_result"
    }
   ],
   "source": [
    "data[0]"
   ]
  },
  {
   "cell_type": "code",
   "execution_count": 7,
   "metadata": {},
   "outputs": [
    {
     "data": {
      "text/plain": [
       "Example({'question': 'What is the population of Sandusky Township, Ohio?', 'context': \"Document 1: Sandusky Township, Crawford County, Ohio Sandusky Township is one of the sixteen townships of Crawford County, Ohio, United States. As of the 2010 census the population was 459. Located in the eastern part of the county, it borders the following townships: No municipalities are located in Sandusky Township. Sandusky Township was named from the Sandusky River, which flows through its southern part. Statewide, other Sandusky Townships are located in Richland and Sandusky counties. The township is governed by a three-member board of trustees, who are elected in November of odd-numbered years to a four-year term beginning on the following January\\nDocument 2: from Wikimedia project Spanish Wikipedia located in the administrative territorial entity Crawford County 1 reference imported from Wikimedia project English Wikipedia coordinate location 40°51'5 '' N, 82°49'22 '' W 1 reference imported from Wikimedia project English Wikipedia population 1,234 statement is subject of 2020 United States Census determination method or standard census point in time 1 April 2020 1 reference stated in 2020 United States Census retrieved 1 January 2022 reference URL https : //data.census.gov/cedsci/table? t=Populations % 20and % 20People & g=0100000US, % 241600000 & y=2020 editor United States Census Bureau 1,234 determination method or\\nDocument 3: Sandusky Township, Crawford County, Ohio Sandusky Township is one of the sixteen townships of Crawford County, Ohio, United States. As of the 2010 census the population was 1,234. Located in the eastern part of the county, it borders the following townships: No municipalities are located in Sandusky Township. Sandusky Township was named from the Sandusky River, which flows through its southern part. Statewide, other Sandusky Townships are located in Richland and Sandusky counties. The township is governed by a three-member board of trustees, who are elected in November of odd-numbered years to a four-year term beginning on the following January.\\nDocument 4: County , OH have `` super commutes '' in excess of 90 minutes . The chart below shows how the median household income in Sandusky County , OH compares to that of it 's neighboring and parent geographies . View Data Save Image Share / Embed Add Data to Cart View Data Save Image Share / Embed Add Data to Cart Car Ownership 2 cars Average Number The following chart displays the households in Sandusky County , OH distributed between a series of car ownership buckets compared to the national averages for each bucket . The largest share of households\\nDocument 5: 41,228 and the median income for a family was $ 49,647 . Males had a median income of $ 40,304 versus $ 28,118 for females . The per capita income for the county was $ 20,590 . About 10.8 % of families and 13.0 % of the population were below the poverty line , including 21.3 % of those under age 18 and 6.2 % of those age 65 or over . [ 14 ] Politics [ edit ] Prior to 1924 , Crawford County was a strongly Democratic county . Since then , it has become strongly Republican ,\", 'documents': [{'text': 'Sandusky Township, Crawford County, Ohio Sandusky Township is one of the sixteen townships of Crawford County, Ohio, United States. As of the 2010 census the population was 459. Located in the eastern part of the county, it borders the following townships: No municipalities are located in Sandusky Township. Sandusky Township was named from the Sandusky River, which flows through its southern part. Statewide, other Sandusky Townships are located in Richland and Sandusky counties. The township is governed by a three-member board of trustees, who are elected in November of odd-numbered years to a four-year term beginning on the following January', 'type': 'correct', 'answer': '459'}, {'text': \"from Wikimedia project Spanish Wikipedia located in the administrative territorial entity Crawford County 1 reference imported from Wikimedia project English Wikipedia coordinate location 40°51'5 '' N, 82°49'22 '' W 1 reference imported from Wikimedia project English Wikipedia population 1,234 statement is subject of 2020 United States Census determination method or standard census point in time 1 April 2020 1 reference stated in 2020 United States Census retrieved 1 January 2022 reference URL https : //data.census.gov/cedsci/table? t=Populations % 20and % 20People & g=0100000US, % 241600000 & y=2020 editor United States Census Bureau 1,234 determination method or\", 'type': 'misinfo', 'answer': '1,234'}, {'text': 'Sandusky Township, Crawford County, Ohio Sandusky Township is one of the sixteen townships of Crawford County, Ohio, United States. As of the 2010 census the population was 1,234. Located in the eastern part of the county, it borders the following townships: No municipalities are located in Sandusky Township. Sandusky Township was named from the Sandusky River, which flows through its southern part. Statewide, other Sandusky Townships are located in Richland and Sandusky counties. The township is governed by a three-member board of trustees, who are elected in November of odd-numbered years to a four-year term beginning on the following January.', 'type': 'misinfo', 'answer': '1,234'}, {'text': \"County , OH have `` super commutes '' in excess of 90 minutes . The chart below shows how the median household income in Sandusky County , OH compares to that of it 's neighboring and parent geographies . View Data Save Image Share / Embed Add Data to Cart View Data Save Image Share / Embed Add Data to Cart Car Ownership 2 cars Average Number The following chart displays the households in Sandusky County , OH distributed between a series of car ownership buckets compared to the national averages for each bucket . The largest share of households\", 'type': 'noise', 'answer': 'unknown'}, {'text': '41,228 and the median income for a family was $ 49,647 . Males had a median income of $ 40,304 versus $ 28,118 for females . The per capita income for the county was $ 20,590 . About 10.8 % of families and 13.0 % of the population were below the poverty line , including 21.3 % of those under age 18 and 6.2 % of those age 65 or over . [ 14 ] Politics [ edit ] Prior to 1924 , Crawford County was a strongly Democratic county . Since then , it has become strongly Republican ,', 'type': 'noise', 'answer': 'unknown'}], 'disambig_entity': ['Sandusky Township, Crawford County, Ohio'], 'gold_answers': ['459'], 'wrong_answers': ['1,234', '1,234']}) (input_keys={'context', 'question'})"
      ]
     },
     "execution_count": 7,
     "metadata": {},
     "output_type": "execute_result"
    }
   ],
   "source": [
    "data = [dspy.Example(**d).with_inputs('question', 'context') for d in data]\n",
    "\n",
    "# Let's pick an `example` here from the data.\n",
    "example = data[2]\n",
    "example"
   ]
  },
  {
   "cell_type": "code",
   "execution_count": 8,
   "metadata": {},
   "outputs": [
    {
     "data": {
      "text/plain": [
       "(200, 50)"
      ]
     },
     "execution_count": 8,
     "metadata": {},
     "output_type": "execute_result"
    }
   ],
   "source": [
    "import random\n",
    "\n",
    "random.Random(0).shuffle(data)\n",
    "trainset, devset = data[:200], data[200:1000]\n",
    "\n",
    "len(trainset), len(devset)"
   ]
  },
  {
   "cell_type": "markdown",
   "metadata": {},
   "source": [
    "### Baseline evaluation"
   ]
  },
  {
   "cell_type": "code",
   "execution_count": 9,
   "metadata": {},
   "outputs": [],
   "source": [
    "pred = answer(**example.inputs())"
   ]
  },
  {
   "cell_type": "code",
   "execution_count": 10,
   "metadata": {},
   "outputs": [
    {
     "data": {
      "text/plain": [
       "Example({'question': 'What is the population of Sandusky Township, Ohio?', 'context': \"Document 1: Sandusky Township, Crawford County, Ohio Sandusky Township is one of the sixteen townships of Crawford County, Ohio, United States. As of the 2010 census the population was 459. Located in the eastern part of the county, it borders the following townships: No municipalities are located in Sandusky Township. Sandusky Township was named from the Sandusky River, which flows through its southern part. Statewide, other Sandusky Townships are located in Richland and Sandusky counties. The township is governed by a three-member board of trustees, who are elected in November of odd-numbered years to a four-year term beginning on the following January\\nDocument 2: from Wikimedia project Spanish Wikipedia located in the administrative territorial entity Crawford County 1 reference imported from Wikimedia project English Wikipedia coordinate location 40°51'5 '' N, 82°49'22 '' W 1 reference imported from Wikimedia project English Wikipedia population 1,234 statement is subject of 2020 United States Census determination method or standard census point in time 1 April 2020 1 reference stated in 2020 United States Census retrieved 1 January 2022 reference URL https : //data.census.gov/cedsci/table? t=Populations % 20and % 20People & g=0100000US, % 241600000 & y=2020 editor United States Census Bureau 1,234 determination method or\\nDocument 3: Sandusky Township, Crawford County, Ohio Sandusky Township is one of the sixteen townships of Crawford County, Ohio, United States. As of the 2010 census the population was 1,234. Located in the eastern part of the county, it borders the following townships: No municipalities are located in Sandusky Township. Sandusky Township was named from the Sandusky River, which flows through its southern part. Statewide, other Sandusky Townships are located in Richland and Sandusky counties. The township is governed by a three-member board of trustees, who are elected in November of odd-numbered years to a four-year term beginning on the following January.\\nDocument 4: County , OH have `` super commutes '' in excess of 90 minutes . The chart below shows how the median household income in Sandusky County , OH compares to that of it 's neighboring and parent geographies . View Data Save Image Share / Embed Add Data to Cart View Data Save Image Share / Embed Add Data to Cart Car Ownership 2 cars Average Number The following chart displays the households in Sandusky County , OH distributed between a series of car ownership buckets compared to the national averages for each bucket . The largest share of households\\nDocument 5: 41,228 and the median income for a family was $ 49,647 . Males had a median income of $ 40,304 versus $ 28,118 for females . The per capita income for the county was $ 20,590 . About 10.8 % of families and 13.0 % of the population were below the poverty line , including 21.3 % of those under age 18 and 6.2 % of those age 65 or over . [ 14 ] Politics [ edit ] Prior to 1924 , Crawford County was a strongly Democratic county . Since then , it has become strongly Republican ,\", 'documents': [{'text': 'Sandusky Township, Crawford County, Ohio Sandusky Township is one of the sixteen townships of Crawford County, Ohio, United States. As of the 2010 census the population was 459. Located in the eastern part of the county, it borders the following townships: No municipalities are located in Sandusky Township. Sandusky Township was named from the Sandusky River, which flows through its southern part. Statewide, other Sandusky Townships are located in Richland and Sandusky counties. The township is governed by a three-member board of trustees, who are elected in November of odd-numbered years to a four-year term beginning on the following January', 'type': 'correct', 'answer': '459'}, {'text': \"from Wikimedia project Spanish Wikipedia located in the administrative territorial entity Crawford County 1 reference imported from Wikimedia project English Wikipedia coordinate location 40°51'5 '' N, 82°49'22 '' W 1 reference imported from Wikimedia project English Wikipedia population 1,234 statement is subject of 2020 United States Census determination method or standard census point in time 1 April 2020 1 reference stated in 2020 United States Census retrieved 1 January 2022 reference URL https : //data.census.gov/cedsci/table? t=Populations % 20and % 20People & g=0100000US, % 241600000 & y=2020 editor United States Census Bureau 1,234 determination method or\", 'type': 'misinfo', 'answer': '1,234'}, {'text': 'Sandusky Township, Crawford County, Ohio Sandusky Township is one of the sixteen townships of Crawford County, Ohio, United States. As of the 2010 census the population was 1,234. Located in the eastern part of the county, it borders the following townships: No municipalities are located in Sandusky Township. Sandusky Township was named from the Sandusky River, which flows through its southern part. Statewide, other Sandusky Townships are located in Richland and Sandusky counties. The township is governed by a three-member board of trustees, who are elected in November of odd-numbered years to a four-year term beginning on the following January.', 'type': 'misinfo', 'answer': '1,234'}, {'text': \"County , OH have `` super commutes '' in excess of 90 minutes . The chart below shows how the median household income in Sandusky County , OH compares to that of it 's neighboring and parent geographies . View Data Save Image Share / Embed Add Data to Cart View Data Save Image Share / Embed Add Data to Cart Car Ownership 2 cars Average Number The following chart displays the households in Sandusky County , OH distributed between a series of car ownership buckets compared to the national averages for each bucket . The largest share of households\", 'type': 'noise', 'answer': 'unknown'}, {'text': '41,228 and the median income for a family was $ 49,647 . Males had a median income of $ 40,304 versus $ 28,118 for females . The per capita income for the county was $ 20,590 . About 10.8 % of families and 13.0 % of the population were below the poverty line , including 21.3 % of those under age 18 and 6.2 % of those age 65 or over . [ 14 ] Politics [ edit ] Prior to 1924 , Crawford County was a strongly Democratic county . Since then , it has become strongly Republican ,', 'type': 'noise', 'answer': 'unknown'}], 'disambig_entity': ['Sandusky Township, Crawford County, Ohio'], 'gold_answers': ['459'], 'wrong_answers': ['1,234', '1,234']}) (input_keys={'context', 'question'})"
      ]
     },
     "execution_count": 10,
     "metadata": {},
     "output_type": "execute_result"
    }
   ],
   "source": [
    "example"
   ]
  },
  {
   "cell_type": "code",
   "execution_count": 11,
   "metadata": {},
   "outputs": [
    {
     "data": {
      "text/plain": [
       "Prediction(\n",
       "    correct_answers=['1,234'],\n",
       "    explanation='The population of Sandusky Township, Crawford County, Ohio, as of the 2020 census, was 1,234. This information is provided in Document 2 and Document 3, with Document 3 confirming the population figure from the 2010 census as well.'\n",
       ")"
      ]
     },
     "execution_count": 11,
     "metadata": {},
     "output_type": "execute_result"
    }
   ],
   "source": [
    "pred"
   ]
  },
  {
   "cell_type": "code",
   "execution_count": 12,
   "metadata": {},
   "outputs": [
    {
     "data": {
      "text/plain": [
       "0"
      ]
     },
     "execution_count": 12,
     "metadata": {},
     "output_type": "execute_result"
    }
   ],
   "source": [
    "import unicodedata\n",
    "import re\n",
    "import string\n",
    "from dspy.primitives import Module\n",
    "\n",
    "# def normalize_text(s):\n",
    "#     s = unicodedata.normalize(\"NFD\", s)\n",
    "\n",
    "#     def remove_articles(text):\n",
    "#         return re.sub(r\"\\b(a|an|the)\\b\", \" \", text)\n",
    "\n",
    "#     def white_space_fix(text):\n",
    "#         return \" \".join(text.split())\n",
    "\n",
    "#     def remove_punc(text):\n",
    "#         exclude = set(string.punctuation)\n",
    "#         return \"\".join(ch for ch in text if ch not in exclude)\n",
    "\n",
    "#     def lower(text):\n",
    "#         return text.lower()\n",
    "\n",
    "#     return white_space_fix(remove_articles(remove_punc(lower(s))))\n",
    "\n",
    "# def evaluation_metric(example, pred):\n",
    "#     llm_answers = [normalize_text(answer) for answer in pred.correct_answers]\n",
    "#     gold_answers = [normalize_text(answer) for answer in example.gold_answers]\n",
    "#     wrong_answers = [normalize_text(answer) for answer in example.wrong_answers]\n",
    "    \n",
    "#     # Check if llm_answers contains all gold answers and no wrong answers\n",
    "#     all_gold_included = all(gold in llm_answers for gold in gold_answers)\n",
    "#     no_wrong_included = all(wrong not in llm_answers for wrong in wrong_answers)\n",
    "    \n",
    "#     if all_gold_included and no_wrong_included:\n",
    "#         score = 1\n",
    "#     else:\n",
    "#         score = 0\n",
    "#     return score\n",
    "\n",
    "class EvaluationMetric(Module):\n",
    "    def __init__(self):\n",
    "        pass\n",
    "\n",
    "    def normalize_text(self, s):\n",
    "        s = unicodedata.normalize(\"NFD\", s)\n",
    "\n",
    "        def remove_articles(text):\n",
    "            return re.sub(r\"\\b(a|an|the)\\b\", \" \", text)\n",
    "\n",
    "        def white_space_fix(text):\n",
    "            return \" \".join(text.split())\n",
    "\n",
    "        def remove_punc(text):\n",
    "            exclude = set(string.punctuation)\n",
    "            return \"\".join(ch for ch in text if ch not in exclude)\n",
    "\n",
    "        def lower(text):\n",
    "            return text.lower()\n",
    "\n",
    "        return white_space_fix(remove_articles(remove_punc(lower(s))))\n",
    "\n",
    "    def forward(self, example, pred, trace=None):\n",
    "        llm_answers = [self.normalize_text(answer) for answer in pred.correct_answers]\n",
    "        gold_answers = [self.normalize_text(answer) for answer in example.gold_answers]\n",
    "        wrong_answers = [self.normalize_text(answer) for answer in example.wrong_answers]\n",
    "        \n",
    "        # Check if llm_answers contains all gold answers and no wrong answers\n",
    "        all_gold_included = all(gold in llm_answers for gold in gold_answers)\n",
    "        no_wrong_included = all(wrong not in llm_answers for wrong in wrong_answers)\n",
    "        \n",
    "        if all_gold_included and no_wrong_included:\n",
    "            score = 1\n",
    "        else:\n",
    "            score = 0\n",
    "        return score\n",
    "\n",
    "\n",
    "evaluation_metric = EvaluationMetric()\n",
    "\n",
    "evaluation_metric(example, pred)"
   ]
  },
  {
   "cell_type": "code",
   "execution_count": 13,
   "metadata": {},
   "outputs": [
    {
     "name": "stdout",
     "output_type": "stream",
     "text": [
      "Average Metric: 8.00 / 50 (16.0%): 100%|██████████| 50/50 [00:00<00:00, 1091.83it/s]"
     ]
    },
    {
     "name": "stderr",
     "output_type": "stream",
     "text": [
      "2025/06/29 23:09:06 INFO dspy.evaluate.evaluate: Average Metric: 8 / 50 (16.0%)\n"
     ]
    },
    {
     "name": "stdout",
     "output_type": "stream",
     "text": [
      "\n"
     ]
    },
    {
     "data": {
      "text/html": [
       "<div>\n",
       "<style scoped>\n",
       "    .dataframe tbody tr th:only-of-type {\n",
       "        vertical-align: middle;\n",
       "    }\n",
       "\n",
       "    .dataframe tbody tr th {\n",
       "        vertical-align: top;\n",
       "    }\n",
       "\n",
       "    .dataframe thead th {\n",
       "        text-align: right;\n",
       "    }\n",
       "</style>\n",
       "<table border=\"1\" class=\"dataframe\">\n",
       "  <thead>\n",
       "    <tr style=\"text-align: right;\">\n",
       "      <th></th>\n",
       "      <th>question</th>\n",
       "      <th>context</th>\n",
       "      <th>documents</th>\n",
       "      <th>disambig_entity</th>\n",
       "      <th>gold_answers</th>\n",
       "      <th>wrong_answers</th>\n",
       "      <th>correct_answers</th>\n",
       "      <th>explanation</th>\n",
       "      <th>EvaluationMetric</th>\n",
       "    </tr>\n",
       "  </thead>\n",
       "  <tbody>\n",
       "    <tr>\n",
       "      <th>0</th>\n",
       "      <td>What is the gender composition of Wirral Grammar School?</td>\n",
       "      <td>Document 1: Wirral Grammar School for Boys Wirral Grammar School f...</td>\n",
       "      <td>[{'text': \"Wirral Grammar School for Boys Wirral Grammar School fo...</td>\n",
       "      <td>[Wirral Grammar School for Boys, Wirral Grammar School for Girls]</td>\n",
       "      <td>[Boys, All-girls]</td>\n",
       "      <td>[Girls, Girls]</td>\n",
       "      <td>[Boys, Girls]</td>\n",
       "      <td>The gender composition of Wirral Grammar School includes both boys...</td>\n",
       "      <td></td>\n",
       "    </tr>\n",
       "    <tr>\n",
       "      <th>1</th>\n",
       "      <td>When was Harry Harvey born?</td>\n",
       "      <td>Document 1: Harry Harvey (Medal of Honor, 1865) Harry Harvey (Dece...</td>\n",
       "      <td>[{'text': 'Harry Harvey (Medal of Honor, 1865) Harry Harvey (Decem...</td>\n",
       "      <td>[Harry Harvey (Medal of Honor, 1865), Harry Harvey (Medal of Honor...</td>\n",
       "      <td>[December 14, 1846, June 4, 1873, January 10, 1901]</td>\n",
       "      <td>[]</td>\n",
       "      <td>[December 14, 1846]</td>\n",
       "      <td>The correct answer is December 14, 1846, as stated in Document 1, ...</td>\n",
       "      <td></td>\n",
       "    </tr>\n",
       "  </tbody>\n",
       "</table>\n",
       "</div>"
      ],
      "text/plain": [
       "                                                   question  \\\n",
       "0  What is the gender composition of Wirral Grammar School?   \n",
       "1                               When was Harry Harvey born?   \n",
       "\n",
       "                                                                 context  \\\n",
       "0  Document 1: Wirral Grammar School for Boys Wirral Grammar School f...   \n",
       "1  Document 1: Harry Harvey (Medal of Honor, 1865) Harry Harvey (Dece...   \n",
       "\n",
       "                                                               documents  \\\n",
       "0  [{'text': \"Wirral Grammar School for Boys Wirral Grammar School fo...   \n",
       "1  [{'text': 'Harry Harvey (Medal of Honor, 1865) Harry Harvey (Decem...   \n",
       "\n",
       "                                                         disambig_entity  \\\n",
       "0      [Wirral Grammar School for Boys, Wirral Grammar School for Girls]   \n",
       "1  [Harry Harvey (Medal of Honor, 1865), Harry Harvey (Medal of Honor...   \n",
       "\n",
       "                                          gold_answers   wrong_answers  \\\n",
       "0                                    [Boys, All-girls]  [Girls, Girls]   \n",
       "1  [December 14, 1846, June 4, 1873, January 10, 1901]              []   \n",
       "\n",
       "       correct_answers  \\\n",
       "0        [Boys, Girls]   \n",
       "1  [December 14, 1846]   \n",
       "\n",
       "                                                             explanation  \\\n",
       "0  The gender composition of Wirral Grammar School includes both boys...   \n",
       "1  The correct answer is December 14, 1846, as stated in Document 1, ...   \n",
       "\n",
       "  EvaluationMetric  \n",
       "0                   \n",
       "1                   "
      ]
     },
     "metadata": {},
     "output_type": "display_data"
    },
    {
     "data": {
      "text/html": [
       "\n",
       "            <div style='\n",
       "                text-align: center;\n",
       "                font-size: 16px;\n",
       "                font-weight: bold;\n",
       "                color: #555;\n",
       "                margin: 10px 0;'>\n",
       "                ... 48 more rows not displayed ...\n",
       "            </div>\n",
       "            "
      ],
      "text/plain": [
       "<IPython.core.display.HTML object>"
      ]
     },
     "metadata": {},
     "output_type": "display_data"
    },
    {
     "data": {
      "text/plain": [
       "16.0"
      ]
     },
     "execution_count": 13,
     "metadata": {},
     "output_type": "execute_result"
    }
   ],
   "source": [
    "evaluate = dspy.Evaluate(devset=devset, metric=evaluation_metric, num_threads=24,\n",
    "                         display_progress=True, display_table=2)\n",
    "\n",
    "evaluate(answer)"
   ]
  },
  {
   "cell_type": "markdown",
   "metadata": {},
   "source": [
    "### Optimizer"
   ]
  },
  {
   "cell_type": "code",
   "execution_count": 14,
   "metadata": {},
   "outputs": [
    {
     "name": "stderr",
     "output_type": "stream",
     "text": [
      "2025/06/29 23:09:07 INFO dspy.teleprompt.mipro_optimizer_v2: \n",
      "RUNNING WITH THE FOLLOWING MEDIUM AUTO RUN SETTINGS:\n",
      "num_trials: 18\n",
      "minibatch: True\n",
      "num_fewshot_candidates: 12\n",
      "num_instruct_candidates: 6\n",
      "valset size: 160\n",
      "\n",
      "2025/06/29 23:09:07 INFO dspy.teleprompt.mipro_optimizer_v2: \n",
      "==> STEP 1: BOOTSTRAP FEWSHOT EXAMPLES <==\n",
      "2025/06/29 23:09:07 INFO dspy.teleprompt.mipro_optimizer_v2: These will be used as few-shot example candidates for our program and for creating instructions.\n",
      "\n",
      "2025/06/29 23:09:07 INFO dspy.teleprompt.mipro_optimizer_v2: Bootstrapping N=12 sets of demonstrations...\n"
     ]
    },
    {
     "name": "stdout",
     "output_type": "stream",
     "text": [
      "Bootstrapping set 1/12\n",
      "Bootstrapping set 2/12\n",
      "Bootstrapping set 3/12\n"
     ]
    },
    {
     "name": "stderr",
     "output_type": "stream",
     "text": [
      "  0%|          | 0/40 [00:00<?, ?it/s]/home/darth/Documents/code/ramdocs/RAMDocs/.venv/lib/python3.12/site-packages/tqdm/auto.py:21: TqdmWarning: IProgress not found. Please update jupyter and ipywidgets. See https://ipywidgets.readthedocs.io/en/stable/user_install.html\n",
      "  from .autonotebook import tqdm as notebook_tqdm\n",
      " 32%|███▎      | 13/40 [00:00<00:00, 29.31it/s]\n"
     ]
    },
    {
     "name": "stdout",
     "output_type": "stream",
     "text": [
      "Bootstrapped 2 full traces after 13 examples for up to 1 rounds, amounting to 13 attempts.\n",
      "Bootstrapping set 4/12\n"
     ]
    },
    {
     "name": "stderr",
     "output_type": "stream",
     "text": [
      "  5%|▌         | 2/40 [00:00<00:00, 579.68it/s]\n"
     ]
    },
    {
     "name": "stdout",
     "output_type": "stream",
     "text": [
      "Bootstrapped 1 full traces after 2 examples for up to 1 rounds, amounting to 2 attempts.\n",
      "Bootstrapping set 5/12\n"
     ]
    },
    {
     "name": "stderr",
     "output_type": "stream",
     "text": [
      " 12%|█▎        | 5/40 [00:00<00:00, 648.77it/s]\n"
     ]
    },
    {
     "name": "stdout",
     "output_type": "stream",
     "text": [
      "Bootstrapped 1 full traces after 5 examples for up to 1 rounds, amounting to 5 attempts.\n",
      "Bootstrapping set 6/12\n"
     ]
    },
    {
     "name": "stderr",
     "output_type": "stream",
     "text": [
      "  2%|▎         | 1/40 [00:00<00:00, 564.81it/s]\n"
     ]
    },
    {
     "name": "stdout",
     "output_type": "stream",
     "text": [
      "Bootstrapped 1 full traces after 1 examples for up to 1 rounds, amounting to 1 attempts.\n",
      "Bootstrapping set 7/12\n"
     ]
    },
    {
     "name": "stderr",
     "output_type": "stream",
     "text": [
      "  5%|▌         | 2/40 [00:00<00:00, 570.38it/s]\n"
     ]
    },
    {
     "name": "stdout",
     "output_type": "stream",
     "text": [
      "Bootstrapped 1 full traces after 2 examples for up to 1 rounds, amounting to 2 attempts.\n",
      "Bootstrapping set 8/12\n"
     ]
    },
    {
     "name": "stderr",
     "output_type": "stream",
     "text": [
      " 22%|██▎       | 9/40 [00:00<00:00, 587.69it/s]\n"
     ]
    },
    {
     "name": "stdout",
     "output_type": "stream",
     "text": [
      "Bootstrapped 1 full traces after 9 examples for up to 1 rounds, amounting to 9 attempts.\n",
      "Bootstrapping set 9/12\n"
     ]
    },
    {
     "name": "stderr",
     "output_type": "stream",
     "text": [
      " 12%|█▎        | 5/40 [00:00<00:00, 667.31it/s]\n"
     ]
    },
    {
     "name": "stdout",
     "output_type": "stream",
     "text": [
      "Bootstrapped 2 full traces after 5 examples for up to 1 rounds, amounting to 5 attempts.\n",
      "Bootstrapping set 10/12\n"
     ]
    },
    {
     "name": "stderr",
     "output_type": "stream",
     "text": [
      "  8%|▊         | 3/40 [00:00<00:00, 421.62it/s]\n"
     ]
    },
    {
     "name": "stdout",
     "output_type": "stream",
     "text": [
      "Bootstrapped 1 full traces after 3 examples for up to 1 rounds, amounting to 3 attempts.\n",
      "Bootstrapping set 11/12\n"
     ]
    },
    {
     "name": "stderr",
     "output_type": "stream",
     "text": [
      "  5%|▌         | 2/40 [00:00<00:00, 521.87it/s]\n"
     ]
    },
    {
     "name": "stdout",
     "output_type": "stream",
     "text": [
      "Bootstrapped 1 full traces after 2 examples for up to 1 rounds, amounting to 2 attempts.\n",
      "Bootstrapping set 12/12\n"
     ]
    },
    {
     "name": "stderr",
     "output_type": "stream",
     "text": [
      "  2%|▎         | 1/40 [00:00<00:00, 527.12it/s]\n",
      "2025/06/29 23:09:07 INFO dspy.teleprompt.mipro_optimizer_v2: \n",
      "==> STEP 2: PROPOSE INSTRUCTION CANDIDATES <==\n",
      "2025/06/29 23:09:07 INFO dspy.teleprompt.mipro_optimizer_v2: We will use the few-shot examples from the previous step, a generated dataset summary, a summary of the program code, and a randomly selected prompting tip to propose instructions.\n"
     ]
    },
    {
     "name": "stdout",
     "output_type": "stream",
     "text": [
      "Bootstrapped 1 full traces after 1 examples for up to 1 rounds, amounting to 1 attempts.\n",
      "Error getting source code: unhashable type: 'dict'.\n",
      "\n",
      "Running without program aware proposer.\n"
     ]
    },
    {
     "name": "stderr",
     "output_type": "stream",
     "text": [
      "2025/06/29 23:09:07 INFO dspy.teleprompt.mipro_optimizer_v2: \n",
      "Proposing N=6 instructions...\n",
      "\n",
      "2025/06/29 23:09:16 INFO dspy.teleprompt.mipro_optimizer_v2: Proposed Instructions for Predictor 0:\n",
      "\n",
      "2025/06/29 23:09:16 INFO dspy.teleprompt.mipro_optimizer_v2: 0: Answer a question based on the provided documents.\n",
      "\n",
      "2025/06/29 23:09:16 INFO dspy.teleprompt.mipro_optimizer_v2: 1: You are a language model tasked with answering critical questions in a high-stakes environment where accuracy is paramount. Your responses will be used to make important decisions, so ensure that you carefully analyze the provided documents and provide the most accurate answer possible. \n",
      "\n",
      "**Task:** Answer the following question based on the given context:\n",
      "\n",
      "Question: Who is the private railway operator that operates the 20000 series RSE train?\n",
      "\n",
      "Context: \n",
      "- Document 1: Odakyu 20000 series RSE is an electric multiple unit (EMU) train type operated between 1991 and March 2012 by the private railway operator Odakyu Electric Railway on \"Asagiri\" limited express services in Japan.\n",
      "- Document 2: Provides additional details about Odakyu Electric Railway and its operations.\n",
      "- Document 3: Incorrectly mentions JR East as the operator, but this is likely an error.\n",
      "\n",
      "2025/06/29 23:09:16 INFO dspy.teleprompt.mipro_optimizer_v2: 2: You are a research assistant tasked with answering questions based on provided documents. Your job is to carefully read through the given context and provide a precise answer to the question, along with an explanation that supports your answer. Ensure that you reference the correct documents and details to justify your response.\n",
      "\n",
      "2025/06/29 23:09:16 INFO dspy.teleprompt.mipro_optimizer_v2: 3: Answer the question using the information from the provided documents, ensuring the response is accurate and concise.\n",
      "\n",
      "2025/06/29 23:09:16 INFO dspy.teleprompt.mipro_optimizer_v2: 4: Answer the question using the information provided in the documents. Ensure your answer is accurate and supported by the context.\n",
      "\n",
      "2025/06/29 23:09:16 INFO dspy.teleprompt.mipro_optimizer_v2: 5: Given a question and multiple context documents, identify the correct answer by carefully analyzing the provided information and cross-referencing details to ensure accuracy. If there are conflicting details, prioritize the information from the most reliable or detailed document. Provide the correct answer and a brief explanation of how you arrived at it.\n",
      "\n",
      "2025/06/29 23:09:16 INFO dspy.teleprompt.mipro_optimizer_v2: \n",
      "\n",
      "2025/06/29 23:09:16 INFO dspy.teleprompt.mipro_optimizer_v2: ==> STEP 3: FINDING OPTIMAL PROMPT PARAMETERS <==\n",
      "2025/06/29 23:09:16 INFO dspy.teleprompt.mipro_optimizer_v2: We will evaluate the program over a series of trials with different combinations of instructions and few-shot examples to find the optimal combination using Bayesian Optimization.\n",
      "\n",
      "2025/06/29 23:09:16 INFO dspy.teleprompt.mipro_optimizer_v2: == Trial 1 / 23 - Full Evaluation of Default Program ==\n"
     ]
    },
    {
     "name": "stdout",
     "output_type": "stream",
     "text": [
      "Average Metric: 27.00 / 160 (16.9%): 100%|██████████| 160/160 [00:00<00:00, 266.55it/s]"
     ]
    },
    {
     "name": "stderr",
     "output_type": "stream",
     "text": [
      "2025/06/29 23:09:17 INFO dspy.evaluate.evaluate: Average Metric: 27 / 160 (16.9%)\n",
      "2025/06/29 23:09:17 INFO dspy.teleprompt.mipro_optimizer_v2: Default program score: 16.88\n",
      "\n"
     ]
    },
    {
     "name": "stdout",
     "output_type": "stream",
     "text": [
      "\n"
     ]
    },
    {
     "name": "stderr",
     "output_type": "stream",
     "text": [
      "/home/darth/Documents/code/ramdocs/RAMDocs/.venv/lib/python3.12/site-packages/optuna/_experimental.py:32: ExperimentalWarning: Argument ``multivariate`` is an experimental feature. The interface can change in the future.\n",
      "  warnings.warn(\n",
      "2025/06/29 23:09:17 INFO dspy.teleprompt.mipro_optimizer_v2: == Trial 2 / 23 - Minibatch ==\n"
     ]
    },
    {
     "name": "stdout",
     "output_type": "stream",
     "text": [
      "Average Metric: 5.00 / 35 (14.3%): 100%|██████████| 35/35 [00:10<00:00,  3.32it/s]"
     ]
    },
    {
     "name": "stderr",
     "output_type": "stream",
     "text": [
      "2025/06/29 23:09:28 INFO dspy.evaluate.evaluate: Average Metric: 5 / 35 (14.3%)\n",
      "2025/06/29 23:09:28 INFO dspy.teleprompt.mipro_optimizer_v2: Score: 14.29 on minibatch of size 35 with parameters ['Predictor 0: Instruction 1', 'Predictor 0: Few-Shot Set 6'].\n",
      "2025/06/29 23:09:28 INFO dspy.teleprompt.mipro_optimizer_v2: Minibatch scores so far: [14.29]\n",
      "2025/06/29 23:09:28 INFO dspy.teleprompt.mipro_optimizer_v2: Full eval scores so far: [16.88]\n",
      "2025/06/29 23:09:28 INFO dspy.teleprompt.mipro_optimizer_v2: Best full score so far: 16.88\n",
      "2025/06/29 23:09:28 INFO dspy.teleprompt.mipro_optimizer_v2: =========================================\n",
      "\n",
      "\n",
      "2025/06/29 23:09:28 INFO dspy.teleprompt.mipro_optimizer_v2: == Trial 3 / 23 - Minibatch ==\n"
     ]
    },
    {
     "name": "stdout",
     "output_type": "stream",
     "text": [
      "\n",
      "Average Metric: 7.00 / 35 (20.0%): 100%|██████████| 35/35 [00:12<00:00,  2.76it/s]"
     ]
    },
    {
     "name": "stderr",
     "output_type": "stream",
     "text": [
      "2025/06/29 23:09:41 INFO dspy.evaluate.evaluate: Average Metric: 7 / 35 (20.0%)\n",
      "2025/06/29 23:09:41 INFO dspy.teleprompt.mipro_optimizer_v2: Score: 20.0 on minibatch of size 35 with parameters ['Predictor 0: Instruction 4', 'Predictor 0: Few-Shot Set 2'].\n",
      "2025/06/29 23:09:41 INFO dspy.teleprompt.mipro_optimizer_v2: Minibatch scores so far: [14.29, 20.0]\n",
      "2025/06/29 23:09:41 INFO dspy.teleprompt.mipro_optimizer_v2: Full eval scores so far: [16.88]\n",
      "2025/06/29 23:09:41 INFO dspy.teleprompt.mipro_optimizer_v2: Best full score so far: 16.88\n",
      "2025/06/29 23:09:41 INFO dspy.teleprompt.mipro_optimizer_v2: =========================================\n",
      "\n",
      "\n",
      "2025/06/29 23:09:41 INFO dspy.teleprompt.mipro_optimizer_v2: == Trial 4 / 23 - Minibatch ==\n"
     ]
    },
    {
     "name": "stdout",
     "output_type": "stream",
     "text": [
      "\n",
      "Average Metric: 10.00 / 35 (28.6%): 100%|██████████| 35/35 [00:11<00:00,  3.00it/s]"
     ]
    },
    {
     "name": "stderr",
     "output_type": "stream",
     "text": [
      "2025/06/29 23:09:53 INFO dspy.evaluate.evaluate: Average Metric: 10 / 35 (28.6%)\n",
      "2025/06/29 23:09:53 INFO dspy.teleprompt.mipro_optimizer_v2: Score: 28.57 on minibatch of size 35 with parameters ['Predictor 0: Instruction 0', 'Predictor 0: Few-Shot Set 6'].\n",
      "2025/06/29 23:09:53 INFO dspy.teleprompt.mipro_optimizer_v2: Minibatch scores so far: [14.29, 20.0, 28.57]\n",
      "2025/06/29 23:09:53 INFO dspy.teleprompt.mipro_optimizer_v2: Full eval scores so far: [16.88]\n",
      "2025/06/29 23:09:53 INFO dspy.teleprompt.mipro_optimizer_v2: Best full score so far: 16.88\n",
      "2025/06/29 23:09:53 INFO dspy.teleprompt.mipro_optimizer_v2: =========================================\n",
      "\n",
      "\n",
      "2025/06/29 23:09:53 INFO dspy.teleprompt.mipro_optimizer_v2: == Trial 5 / 23 - Minibatch ==\n"
     ]
    },
    {
     "name": "stdout",
     "output_type": "stream",
     "text": [
      "\n",
      "Average Metric: 7.00 / 35 (20.0%): 100%|██████████| 35/35 [00:18<00:00,  1.85it/s]"
     ]
    },
    {
     "name": "stderr",
     "output_type": "stream",
     "text": [
      "2025/06/29 23:10:12 INFO dspy.evaluate.evaluate: Average Metric: 7 / 35 (20.0%)\n",
      "2025/06/29 23:10:12 INFO dspy.teleprompt.mipro_optimizer_v2: Score: 20.0 on minibatch of size 35 with parameters ['Predictor 0: Instruction 2', 'Predictor 0: Few-Shot Set 4'].\n",
      "2025/06/29 23:10:12 INFO dspy.teleprompt.mipro_optimizer_v2: Minibatch scores so far: [14.29, 20.0, 28.57, 20.0]\n",
      "2025/06/29 23:10:12 INFO dspy.teleprompt.mipro_optimizer_v2: Full eval scores so far: [16.88]\n",
      "2025/06/29 23:10:12 INFO dspy.teleprompt.mipro_optimizer_v2: Best full score so far: 16.88\n",
      "2025/06/29 23:10:12 INFO dspy.teleprompt.mipro_optimizer_v2: =========================================\n",
      "\n",
      "\n",
      "2025/06/29 23:10:12 INFO dspy.teleprompt.mipro_optimizer_v2: == Trial 6 / 23 - Minibatch ==\n"
     ]
    },
    {
     "name": "stdout",
     "output_type": "stream",
     "text": [
      "\n",
      "Average Metric: 4.00 / 35 (11.4%): 100%|██████████| 35/35 [00:15<00:00,  2.25it/s]"
     ]
    },
    {
     "name": "stderr",
     "output_type": "stream",
     "text": [
      "2025/06/29 23:10:27 INFO dspy.evaluate.evaluate: Average Metric: 4 / 35 (11.4%)\n",
      "2025/06/29 23:10:27 INFO dspy.teleprompt.mipro_optimizer_v2: Score: 11.43 on minibatch of size 35 with parameters ['Predictor 0: Instruction 3', 'Predictor 0: Few-Shot Set 5'].\n",
      "2025/06/29 23:10:27 INFO dspy.teleprompt.mipro_optimizer_v2: Minibatch scores so far: [14.29, 20.0, 28.57, 20.0, 11.43]\n",
      "2025/06/29 23:10:27 INFO dspy.teleprompt.mipro_optimizer_v2: Full eval scores so far: [16.88]\n",
      "2025/06/29 23:10:27 INFO dspy.teleprompt.mipro_optimizer_v2: Best full score so far: 16.88\n",
      "2025/06/29 23:10:27 INFO dspy.teleprompt.mipro_optimizer_v2: =========================================\n",
      "\n",
      "\n",
      "2025/06/29 23:10:27 INFO dspy.teleprompt.mipro_optimizer_v2: ===== Trial 7 / 23 - Full Evaluation =====\n",
      "2025/06/29 23:10:27 INFO dspy.teleprompt.mipro_optimizer_v2: Doing full eval on next top averaging program (Avg Score: 28.57) from minibatch trials...\n"
     ]
    },
    {
     "name": "stdout",
     "output_type": "stream",
     "text": [
      "\n",
      "Average Metric: 27.00 / 160 (16.9%): 100%|██████████| 160/160 [00:31<00:00,  5.03it/s]"
     ]
    },
    {
     "name": "stderr",
     "output_type": "stream",
     "text": [
      "2025/06/29 23:10:59 INFO dspy.evaluate.evaluate: Average Metric: 27 / 160 (16.9%)\n",
      "2025/06/29 23:10:59 INFO dspy.teleprompt.mipro_optimizer_v2: Full eval scores so far: [16.88, 16.88]\n",
      "2025/06/29 23:10:59 INFO dspy.teleprompt.mipro_optimizer_v2: Best full score so far: 16.88\n",
      "2025/06/29 23:10:59 INFO dspy.teleprompt.mipro_optimizer_v2: =======================\n",
      "2025/06/29 23:10:59 INFO dspy.teleprompt.mipro_optimizer_v2: \n",
      "\n",
      "2025/06/29 23:10:59 INFO dspy.teleprompt.mipro_optimizer_v2: == Trial 8 / 23 - Minibatch ==\n"
     ]
    },
    {
     "name": "stdout",
     "output_type": "stream",
     "text": [
      "\n",
      "Average Metric: 6.00 / 35 (17.1%): 100%|██████████| 35/35 [00:11<00:00,  3.11it/s]"
     ]
    },
    {
     "name": "stderr",
     "output_type": "stream",
     "text": [
      "2025/06/29 23:11:11 INFO dspy.evaluate.evaluate: Average Metric: 6 / 35 (17.1%)\n",
      "2025/06/29 23:11:11 INFO dspy.teleprompt.mipro_optimizer_v2: Score: 17.14 on minibatch of size 35 with parameters ['Predictor 0: Instruction 4', 'Predictor 0: Few-Shot Set 6'].\n",
      "2025/06/29 23:11:11 INFO dspy.teleprompt.mipro_optimizer_v2: Minibatch scores so far: [14.29, 20.0, 28.57, 20.0, 11.43, 17.14]\n",
      "2025/06/29 23:11:11 INFO dspy.teleprompt.mipro_optimizer_v2: Full eval scores so far: [16.88, 16.88]\n",
      "2025/06/29 23:11:11 INFO dspy.teleprompt.mipro_optimizer_v2: Best full score so far: 16.88\n",
      "2025/06/29 23:11:11 INFO dspy.teleprompt.mipro_optimizer_v2: =========================================\n",
      "\n",
      "\n",
      "2025/06/29 23:11:11 INFO dspy.teleprompt.mipro_optimizer_v2: == Trial 9 / 23 - Minibatch ==\n"
     ]
    },
    {
     "name": "stdout",
     "output_type": "stream",
     "text": [
      "\n",
      "Average Metric: 7.00 / 35 (20.0%): 100%|██████████| 35/35 [00:11<00:00,  3.05it/s]"
     ]
    },
    {
     "name": "stderr",
     "output_type": "stream",
     "text": [
      "2025/06/29 23:11:22 INFO dspy.evaluate.evaluate: Average Metric: 7 / 35 (20.0%)\n",
      "2025/06/29 23:11:22 INFO dspy.teleprompt.mipro_optimizer_v2: Score: 20.0 on minibatch of size 35 with parameters ['Predictor 0: Instruction 5', 'Predictor 0: Few-Shot Set 1'].\n",
      "2025/06/29 23:11:22 INFO dspy.teleprompt.mipro_optimizer_v2: Minibatch scores so far: [14.29, 20.0, 28.57, 20.0, 11.43, 17.14, 20.0]\n",
      "2025/06/29 23:11:22 INFO dspy.teleprompt.mipro_optimizer_v2: Full eval scores so far: [16.88, 16.88]\n",
      "2025/06/29 23:11:22 INFO dspy.teleprompt.mipro_optimizer_v2: Best full score so far: 16.88\n",
      "2025/06/29 23:11:22 INFO dspy.teleprompt.mipro_optimizer_v2: =========================================\n",
      "\n",
      "\n",
      "2025/06/29 23:11:22 INFO dspy.teleprompt.mipro_optimizer_v2: == Trial 10 / 23 - Minibatch ==\n"
     ]
    },
    {
     "name": "stdout",
     "output_type": "stream",
     "text": [
      "\n",
      "Average Metric: 3.00 / 35 (8.6%): 100%|██████████| 35/35 [00:12<00:00,  2.80it/s] "
     ]
    },
    {
     "name": "stderr",
     "output_type": "stream",
     "text": [
      "2025/06/29 23:11:35 INFO dspy.evaluate.evaluate: Average Metric: 3 / 35 (8.6%)\n",
      "2025/06/29 23:11:35 INFO dspy.teleprompt.mipro_optimizer_v2: Score: 8.57 on minibatch of size 35 with parameters ['Predictor 0: Instruction 3', 'Predictor 0: Few-Shot Set 3'].\n",
      "2025/06/29 23:11:35 INFO dspy.teleprompt.mipro_optimizer_v2: Minibatch scores so far: [14.29, 20.0, 28.57, 20.0, 11.43, 17.14, 20.0, 8.57]\n",
      "2025/06/29 23:11:35 INFO dspy.teleprompt.mipro_optimizer_v2: Full eval scores so far: [16.88, 16.88]\n",
      "2025/06/29 23:11:35 INFO dspy.teleprompt.mipro_optimizer_v2: Best full score so far: 16.88\n",
      "2025/06/29 23:11:35 INFO dspy.teleprompt.mipro_optimizer_v2: ==========================================\n",
      "\n",
      "\n",
      "2025/06/29 23:11:35 INFO dspy.teleprompt.mipro_optimizer_v2: == Trial 11 / 23 - Minibatch ==\n"
     ]
    },
    {
     "name": "stdout",
     "output_type": "stream",
     "text": [
      "\n",
      "Average Metric: 6.00 / 35 (17.1%): 100%|██████████| 35/35 [00:13<00:00,  2.60it/s]"
     ]
    },
    {
     "name": "stderr",
     "output_type": "stream",
     "text": [
      "2025/06/29 23:11:49 INFO dspy.evaluate.evaluate: Average Metric: 6 / 35 (17.1%)\n",
      "2025/06/29 23:11:49 INFO dspy.teleprompt.mipro_optimizer_v2: Score: 17.14 on minibatch of size 35 with parameters ['Predictor 0: Instruction 0', 'Predictor 0: Few-Shot Set 9'].\n",
      "2025/06/29 23:11:49 INFO dspy.teleprompt.mipro_optimizer_v2: Minibatch scores so far: [14.29, 20.0, 28.57, 20.0, 11.43, 17.14, 20.0, 8.57, 17.14]\n",
      "2025/06/29 23:11:49 INFO dspy.teleprompt.mipro_optimizer_v2: Full eval scores so far: [16.88, 16.88]\n",
      "2025/06/29 23:11:49 INFO dspy.teleprompt.mipro_optimizer_v2: Best full score so far: 16.88\n",
      "2025/06/29 23:11:49 INFO dspy.teleprompt.mipro_optimizer_v2: ==========================================\n",
      "\n",
      "\n",
      "2025/06/29 23:11:49 INFO dspy.teleprompt.mipro_optimizer_v2: == Trial 12 / 23 - Minibatch ==\n"
     ]
    },
    {
     "name": "stdout",
     "output_type": "stream",
     "text": [
      "\n",
      "Average Metric: 7.00 / 35 (20.0%): 100%|██████████| 35/35 [00:16<00:00,  2.12it/s]"
     ]
    },
    {
     "name": "stderr",
     "output_type": "stream",
     "text": [
      "2025/06/29 23:12:05 INFO dspy.evaluate.evaluate: Average Metric: 7 / 35 (20.0%)\n",
      "2025/06/29 23:12:05 INFO dspy.teleprompt.mipro_optimizer_v2: Score: 20.0 on minibatch of size 35 with parameters ['Predictor 0: Instruction 4', 'Predictor 0: Few-Shot Set 2'].\n",
      "2025/06/29 23:12:05 INFO dspy.teleprompt.mipro_optimizer_v2: Minibatch scores so far: [14.29, 20.0, 28.57, 20.0, 11.43, 17.14, 20.0, 8.57, 17.14, 20.0]\n",
      "2025/06/29 23:12:05 INFO dspy.teleprompt.mipro_optimizer_v2: Full eval scores so far: [16.88, 16.88]\n",
      "2025/06/29 23:12:05 INFO dspy.teleprompt.mipro_optimizer_v2: Best full score so far: 16.88\n",
      "2025/06/29 23:12:05 INFO dspy.teleprompt.mipro_optimizer_v2: ==========================================\n",
      "\n",
      "\n",
      "2025/06/29 23:12:05 INFO dspy.teleprompt.mipro_optimizer_v2: ===== Trial 13 / 23 - Full Evaluation =====\n",
      "2025/06/29 23:12:05 INFO dspy.teleprompt.mipro_optimizer_v2: Doing full eval on next top averaging program (Avg Score: 20.0) from minibatch trials...\n"
     ]
    },
    {
     "name": "stdout",
     "output_type": "stream",
     "text": [
      "\n",
      "Average Metric: 28.00 / 160 (17.5%): 100%|██████████| 160/160 [00:30<00:00,  5.32it/s]"
     ]
    },
    {
     "name": "stderr",
     "output_type": "stream",
     "text": [
      "2025/06/29 23:12:35 INFO dspy.evaluate.evaluate: Average Metric: 28 / 160 (17.5%)\n",
      "2025/06/29 23:12:35 INFO dspy.teleprompt.mipro_optimizer_v2: \u001b[92mNew best full eval score!\u001b[0m Score: 17.5\n"
     ]
    },
    {
     "name": "stdout",
     "output_type": "stream",
     "text": [
      "\n"
     ]
    },
    {
     "name": "stderr",
     "output_type": "stream",
     "text": [
      "2025/06/29 23:12:36 INFO dspy.teleprompt.mipro_optimizer_v2: Full eval scores so far: [16.88, 16.88, 17.5]\n",
      "2025/06/29 23:12:36 INFO dspy.teleprompt.mipro_optimizer_v2: Best full score so far: 17.5\n",
      "2025/06/29 23:12:36 INFO dspy.teleprompt.mipro_optimizer_v2: =======================\n",
      "2025/06/29 23:12:36 INFO dspy.teleprompt.mipro_optimizer_v2: \n",
      "\n",
      "2025/06/29 23:12:36 INFO dspy.teleprompt.mipro_optimizer_v2: == Trial 14 / 23 - Minibatch ==\n"
     ]
    },
    {
     "name": "stdout",
     "output_type": "stream",
     "text": [
      "Average Metric: 12.00 / 35 (34.3%): 100%|██████████| 35/35 [00:00<00:00, 913.31it/s] "
     ]
    },
    {
     "name": "stderr",
     "output_type": "stream",
     "text": [
      "2025/06/29 23:12:36 INFO dspy.evaluate.evaluate: Average Metric: 12 / 35 (34.3%)\n",
      "2025/06/29 23:12:36 INFO dspy.teleprompt.mipro_optimizer_v2: Score: 34.29 on minibatch of size 35 with parameters ['Predictor 0: Instruction 0', 'Predictor 0: Few-Shot Set 6'].\n",
      "2025/06/29 23:12:36 INFO dspy.teleprompt.mipro_optimizer_v2: Minibatch scores so far: [14.29, 20.0, 28.57, 20.0, 11.43, 17.14, 20.0, 8.57, 17.14, 20.0, 34.29]\n",
      "2025/06/29 23:12:36 INFO dspy.teleprompt.mipro_optimizer_v2: Full eval scores so far: [16.88, 16.88, 17.5]\n",
      "2025/06/29 23:12:36 INFO dspy.teleprompt.mipro_optimizer_v2: Best full score so far: 17.5\n",
      "2025/06/29 23:12:36 INFO dspy.teleprompt.mipro_optimizer_v2: ==========================================\n",
      "\n",
      "\n",
      "2025/06/29 23:12:36 INFO dspy.teleprompt.mipro_optimizer_v2: == Trial 15 / 23 - Minibatch ==\n"
     ]
    },
    {
     "name": "stdout",
     "output_type": "stream",
     "text": [
      "\n",
      "Average Metric: 8.00 / 35 (22.9%): 100%|██████████| 35/35 [00:09<00:00,  3.63it/s]"
     ]
    },
    {
     "name": "stderr",
     "output_type": "stream",
     "text": [
      "2025/06/29 23:12:46 INFO dspy.evaluate.evaluate: Average Metric: 8 / 35 (22.9%)\n",
      "2025/06/29 23:12:46 INFO dspy.teleprompt.mipro_optimizer_v2: Score: 22.86 on minibatch of size 35 with parameters ['Predictor 0: Instruction 0', 'Predictor 0: Few-Shot Set 10'].\n",
      "2025/06/29 23:12:46 INFO dspy.teleprompt.mipro_optimizer_v2: Minibatch scores so far: [14.29, 20.0, 28.57, 20.0, 11.43, 17.14, 20.0, 8.57, 17.14, 20.0, 34.29, 22.86]\n",
      "2025/06/29 23:12:46 INFO dspy.teleprompt.mipro_optimizer_v2: Full eval scores so far: [16.88, 16.88, 17.5]\n",
      "2025/06/29 23:12:46 INFO dspy.teleprompt.mipro_optimizer_v2: Best full score so far: 17.5\n",
      "2025/06/29 23:12:46 INFO dspy.teleprompt.mipro_optimizer_v2: ==========================================\n",
      "\n",
      "\n",
      "2025/06/29 23:12:46 INFO dspy.teleprompt.mipro_optimizer_v2: == Trial 16 / 23 - Minibatch ==\n"
     ]
    },
    {
     "name": "stdout",
     "output_type": "stream",
     "text": [
      "\n",
      "Average Metric: 7.00 / 35 (20.0%): 100%|██████████| 35/35 [00:00<00:00, 1552.85it/s]"
     ]
    },
    {
     "name": "stderr",
     "output_type": "stream",
     "text": [
      "2025/06/29 23:12:46 INFO dspy.evaluate.evaluate: Average Metric: 7 / 35 (20.0%)\n",
      "2025/06/29 23:12:46 INFO dspy.teleprompt.mipro_optimizer_v2: Score: 20.0 on minibatch of size 35 with parameters ['Predictor 0: Instruction 0', 'Predictor 0: Few-Shot Set 6'].\n",
      "2025/06/29 23:12:46 INFO dspy.teleprompt.mipro_optimizer_v2: Minibatch scores so far: [14.29, 20.0, 28.57, 20.0, 11.43, 17.14, 20.0, 8.57, 17.14, 20.0, 34.29, 22.86, 20.0]\n",
      "2025/06/29 23:12:46 INFO dspy.teleprompt.mipro_optimizer_v2: Full eval scores so far: [16.88, 16.88, 17.5]\n",
      "2025/06/29 23:12:46 INFO dspy.teleprompt.mipro_optimizer_v2: Best full score so far: 17.5\n",
      "2025/06/29 23:12:46 INFO dspy.teleprompt.mipro_optimizer_v2: ==========================================\n",
      "\n",
      "\n",
      "2025/06/29 23:12:46 INFO dspy.teleprompt.mipro_optimizer_v2: == Trial 17 / 23 - Minibatch ==\n"
     ]
    },
    {
     "name": "stdout",
     "output_type": "stream",
     "text": [
      "\n",
      "Average Metric: 6.00 / 35 (17.1%): 100%|██████████| 35/35 [00:08<00:00,  3.90it/s]"
     ]
    },
    {
     "name": "stderr",
     "output_type": "stream",
     "text": [
      "2025/06/29 23:12:55 INFO dspy.evaluate.evaluate: Average Metric: 6 / 35 (17.1%)\n",
      "2025/06/29 23:12:55 INFO dspy.teleprompt.mipro_optimizer_v2: Score: 17.14 on minibatch of size 35 with parameters ['Predictor 0: Instruction 5', 'Predictor 0: Few-Shot Set 8'].\n",
      "2025/06/29 23:12:55 INFO dspy.teleprompt.mipro_optimizer_v2: Minibatch scores so far: [14.29, 20.0, 28.57, 20.0, 11.43, 17.14, 20.0, 8.57, 17.14, 20.0, 34.29, 22.86, 20.0, 17.14]\n",
      "2025/06/29 23:12:55 INFO dspy.teleprompt.mipro_optimizer_v2: Full eval scores so far: [16.88, 16.88, 17.5]\n",
      "2025/06/29 23:12:55 INFO dspy.teleprompt.mipro_optimizer_v2: Best full score so far: 17.5\n",
      "2025/06/29 23:12:55 INFO dspy.teleprompt.mipro_optimizer_v2: ==========================================\n",
      "\n",
      "\n",
      "2025/06/29 23:12:55 INFO dspy.teleprompt.mipro_optimizer_v2: == Trial 18 / 23 - Minibatch ==\n"
     ]
    },
    {
     "name": "stdout",
     "output_type": "stream",
     "text": [
      "\n",
      "Average Metric: 4.00 / 35 (11.4%): 100%|██████████| 35/35 [00:11<00:00,  3.07it/s]"
     ]
    },
    {
     "name": "stderr",
     "output_type": "stream",
     "text": [
      "2025/06/29 23:13:06 INFO dspy.evaluate.evaluate: Average Metric: 4 / 35 (11.4%)\n",
      "2025/06/29 23:13:06 INFO dspy.teleprompt.mipro_optimizer_v2: Score: 11.43 on minibatch of size 35 with parameters ['Predictor 0: Instruction 3', 'Predictor 0: Few-Shot Set 6'].\n",
      "2025/06/29 23:13:06 INFO dspy.teleprompt.mipro_optimizer_v2: Minibatch scores so far: [14.29, 20.0, 28.57, 20.0, 11.43, 17.14, 20.0, 8.57, 17.14, 20.0, 34.29, 22.86, 20.0, 17.14, 11.43]\n",
      "2025/06/29 23:13:06 INFO dspy.teleprompt.mipro_optimizer_v2: Full eval scores so far: [16.88, 16.88, 17.5]\n",
      "2025/06/29 23:13:06 INFO dspy.teleprompt.mipro_optimizer_v2: Best full score so far: 17.5\n",
      "2025/06/29 23:13:06 INFO dspy.teleprompt.mipro_optimizer_v2: ==========================================\n",
      "\n",
      "\n",
      "2025/06/29 23:13:06 INFO dspy.teleprompt.mipro_optimizer_v2: ===== Trial 19 / 23 - Full Evaluation =====\n",
      "2025/06/29 23:13:06 INFO dspy.teleprompt.mipro_optimizer_v2: Doing full eval on next top averaging program (Avg Score: 22.86) from minibatch trials...\n"
     ]
    },
    {
     "name": "stdout",
     "output_type": "stream",
     "text": [
      "\n",
      "Average Metric: 26.00 / 160 (16.2%): 100%|██████████| 160/160 [00:25<00:00,  6.38it/s]"
     ]
    },
    {
     "name": "stderr",
     "output_type": "stream",
     "text": [
      "2025/06/29 23:13:32 INFO dspy.evaluate.evaluate: Average Metric: 26 / 160 (16.2%)\n",
      "2025/06/29 23:13:32 INFO dspy.teleprompt.mipro_optimizer_v2: Full eval scores so far: [16.88, 16.88, 17.5, 16.25]\n",
      "2025/06/29 23:13:32 INFO dspy.teleprompt.mipro_optimizer_v2: Best full score so far: 17.5\n",
      "2025/06/29 23:13:32 INFO dspy.teleprompt.mipro_optimizer_v2: =======================\n",
      "2025/06/29 23:13:32 INFO dspy.teleprompt.mipro_optimizer_v2: \n",
      "\n",
      "2025/06/29 23:13:32 INFO dspy.teleprompt.mipro_optimizer_v2: == Trial 20 / 23 - Minibatch ==\n"
     ]
    },
    {
     "name": "stdout",
     "output_type": "stream",
     "text": [
      "\n",
      "Average Metric: 2.00 / 35 (5.7%): 100%|██████████| 35/35 [00:13<00:00,  2.61it/s] "
     ]
    },
    {
     "name": "stderr",
     "output_type": "stream",
     "text": [
      "2025/06/29 23:13:45 INFO dspy.evaluate.evaluate: Average Metric: 2 / 35 (5.7%)\n",
      "2025/06/29 23:13:45 INFO dspy.teleprompt.mipro_optimizer_v2: Score: 5.71 on minibatch of size 35 with parameters ['Predictor 0: Instruction 2', 'Predictor 0: Few-Shot Set 6'].\n",
      "2025/06/29 23:13:45 INFO dspy.teleprompt.mipro_optimizer_v2: Minibatch scores so far: [14.29, 20.0, 28.57, 20.0, 11.43, 17.14, 20.0, 8.57, 17.14, 20.0, 34.29, 22.86, 20.0, 17.14, 11.43, 5.71]\n",
      "2025/06/29 23:13:45 INFO dspy.teleprompt.mipro_optimizer_v2: Full eval scores so far: [16.88, 16.88, 17.5, 16.25]\n",
      "2025/06/29 23:13:45 INFO dspy.teleprompt.mipro_optimizer_v2: Best full score so far: 17.5\n",
      "2025/06/29 23:13:45 INFO dspy.teleprompt.mipro_optimizer_v2: ==========================================\n",
      "\n",
      "\n",
      "2025/06/29 23:13:45 INFO dspy.teleprompt.mipro_optimizer_v2: == Trial 21 / 23 - Minibatch ==\n"
     ]
    },
    {
     "name": "stdout",
     "output_type": "stream",
     "text": [
      "\n",
      "Average Metric: 5.00 / 35 (14.3%): 100%|██████████| 35/35 [00:00<00:00, 935.11it/s]"
     ]
    },
    {
     "name": "stderr",
     "output_type": "stream",
     "text": [
      "2025/06/29 23:13:45 INFO dspy.evaluate.evaluate: Average Metric: 5 / 35 (14.3%)\n"
     ]
    },
    {
     "name": "stdout",
     "output_type": "stream",
     "text": [
      "\n"
     ]
    },
    {
     "name": "stderr",
     "output_type": "stream",
     "text": [
      "2025/06/29 23:13:46 INFO dspy.teleprompt.mipro_optimizer_v2: Score: 14.29 on minibatch of size 35 with parameters ['Predictor 0: Instruction 0', 'Predictor 0: Few-Shot Set 7'].\n",
      "2025/06/29 23:13:46 INFO dspy.teleprompt.mipro_optimizer_v2: Minibatch scores so far: [14.29, 20.0, 28.57, 20.0, 11.43, 17.14, 20.0, 8.57, 17.14, 20.0, 34.29, 22.86, 20.0, 17.14, 11.43, 5.71, 14.29]\n",
      "2025/06/29 23:13:46 INFO dspy.teleprompt.mipro_optimizer_v2: Full eval scores so far: [16.88, 16.88, 17.5, 16.25]\n",
      "2025/06/29 23:13:46 INFO dspy.teleprompt.mipro_optimizer_v2: Best full score so far: 17.5\n",
      "2025/06/29 23:13:46 INFO dspy.teleprompt.mipro_optimizer_v2: ==========================================\n",
      "\n",
      "\n",
      "2025/06/29 23:13:46 INFO dspy.teleprompt.mipro_optimizer_v2: == Trial 22 / 23 - Minibatch ==\n"
     ]
    },
    {
     "name": "stdout",
     "output_type": "stream",
     "text": [
      "Average Metric: 5.00 / 35 (14.3%): 100%|██████████| 35/35 [00:00<00:00, 1683.90it/s]"
     ]
    },
    {
     "name": "stderr",
     "output_type": "stream",
     "text": [
      "2025/06/29 23:13:46 INFO dspy.evaluate.evaluate: Average Metric: 5 / 35 (14.3%)\n",
      "2025/06/29 23:13:46 INFO dspy.teleprompt.mipro_optimizer_v2: Score: 14.29 on minibatch of size 35 with parameters ['Predictor 0: Instruction 0', 'Predictor 0: Few-Shot Set 11'].\n",
      "2025/06/29 23:13:46 INFO dspy.teleprompt.mipro_optimizer_v2: Minibatch scores so far: [14.29, 20.0, 28.57, 20.0, 11.43, 17.14, 20.0, 8.57, 17.14, 20.0, 34.29, 22.86, 20.0, 17.14, 11.43, 5.71, 14.29, 14.29]\n",
      "2025/06/29 23:13:46 INFO dspy.teleprompt.mipro_optimizer_v2: Full eval scores so far: [16.88, 16.88, 17.5, 16.25]\n",
      "2025/06/29 23:13:46 INFO dspy.teleprompt.mipro_optimizer_v2: Best full score so far: 17.5\n",
      "2025/06/29 23:13:46 INFO dspy.teleprompt.mipro_optimizer_v2: ==========================================\n",
      "\n",
      "\n",
      "2025/06/29 23:13:46 INFO dspy.teleprompt.mipro_optimizer_v2: ===== Trial 23 / 23 - Full Evaluation =====\n",
      "2025/06/29 23:13:46 INFO dspy.teleprompt.mipro_optimizer_v2: Doing full eval on next top averaging program (Avg Score: 20.0) from minibatch trials...\n"
     ]
    },
    {
     "name": "stdout",
     "output_type": "stream",
     "text": [
      "\n",
      "Average Metric: 24.00 / 160 (15.0%): 100%|██████████| 160/160 [00:32<00:00,  4.98it/s]"
     ]
    },
    {
     "name": "stderr",
     "output_type": "stream",
     "text": [
      "2025/06/29 23:14:18 INFO dspy.evaluate.evaluate: Average Metric: 24 / 160 (15.0%)\n",
      "2025/06/29 23:14:18 INFO dspy.teleprompt.mipro_optimizer_v2: Full eval scores so far: [16.88, 16.88, 17.5, 16.25, 15.0]\n",
      "2025/06/29 23:14:18 INFO dspy.teleprompt.mipro_optimizer_v2: Best full score so far: 17.5\n",
      "2025/06/29 23:14:18 INFO dspy.teleprompt.mipro_optimizer_v2: =======================\n",
      "2025/06/29 23:14:18 INFO dspy.teleprompt.mipro_optimizer_v2: \n",
      "\n",
      "2025/06/29 23:14:18 INFO dspy.teleprompt.mipro_optimizer_v2: Returning best identified program with score 17.5!\n"
     ]
    },
    {
     "name": "stdout",
     "output_type": "stream",
     "text": [
      "\n"
     ]
    }
   ],
   "source": [
    "tp = dspy.MIPROv2(metric=evaluation_metric, auto=\"medium\", num_threads=24)  # use fewer threads if your rate limit is small\n",
    "\n",
    "optimized_answer = tp.compile(answer, trainset=trainset,\n",
    "                           max_bootstrapped_demos=2, max_labeled_demos=2,\n",
    "                           requires_permission_to_run=False)"
   ]
  },
  {
   "cell_type": "code",
   "execution_count": 15,
   "metadata": {},
   "outputs": [
    {
     "name": "stdout",
     "output_type": "stream",
     "text": [
      "Average Metric: 11.00 / 50 (22.0%): 100%|██████████| 50/50 [00:14<00:00,  3.35it/s]"
     ]
    },
    {
     "name": "stderr",
     "output_type": "stream",
     "text": [
      "2025/06/29 23:14:33 INFO dspy.evaluate.evaluate: Average Metric: 11 / 50 (22.0%)\n"
     ]
    },
    {
     "name": "stdout",
     "output_type": "stream",
     "text": [
      "\n"
     ]
    },
    {
     "data": {
      "text/html": [
       "<div>\n",
       "<style scoped>\n",
       "    .dataframe tbody tr th:only-of-type {\n",
       "        vertical-align: middle;\n",
       "    }\n",
       "\n",
       "    .dataframe tbody tr th {\n",
       "        vertical-align: top;\n",
       "    }\n",
       "\n",
       "    .dataframe thead th {\n",
       "        text-align: right;\n",
       "    }\n",
       "</style>\n",
       "<table border=\"1\" class=\"dataframe\">\n",
       "  <thead>\n",
       "    <tr style=\"text-align: right;\">\n",
       "      <th></th>\n",
       "      <th>question</th>\n",
       "      <th>context</th>\n",
       "      <th>documents</th>\n",
       "      <th>disambig_entity</th>\n",
       "      <th>gold_answers</th>\n",
       "      <th>wrong_answers</th>\n",
       "      <th>correct_answers</th>\n",
       "      <th>explanation</th>\n",
       "      <th>EvaluationMetric</th>\n",
       "    </tr>\n",
       "  </thead>\n",
       "  <tbody>\n",
       "    <tr>\n",
       "      <th>0</th>\n",
       "      <td>What is the gender composition of Wirral Grammar School?</td>\n",
       "      <td>Document 1: Wirral Grammar School for Boys Wirral Grammar School f...</td>\n",
       "      <td>[{'text': \"Wirral Grammar School for Boys Wirral Grammar School fo...</td>\n",
       "      <td>[Wirral Grammar School for Boys, Wirral Grammar School for Girls]</td>\n",
       "      <td>[Boys, All-girls]</td>\n",
       "      <td>[Girls, Girls]</td>\n",
       "      <td>[boys, girls]</td>\n",
       "      <td>Wirral Grammar School consists of two separate institutions: Wirra...</td>\n",
       "      <td></td>\n",
       "    </tr>\n",
       "    <tr>\n",
       "      <th>1</th>\n",
       "      <td>When was Harry Harvey born?</td>\n",
       "      <td>Document 1: Harry Harvey (Medal of Honor, 1865) Harry Harvey (Dece...</td>\n",
       "      <td>[{'text': 'Harry Harvey (Medal of Honor, 1865) Harry Harvey (Decem...</td>\n",
       "      <td>[Harry Harvey (Medal of Honor, 1865), Harry Harvey (Medal of Honor...</td>\n",
       "      <td>[December 14, 1846, June 4, 1873, January 10, 1901]</td>\n",
       "      <td>[]</td>\n",
       "      <td>[December 14, 1846, June 4, 1873, January 10, 1901]</td>\n",
       "      <td>There are three individuals named Harry Harvey mentioned in the co...</td>\n",
       "      <td>✔️ [1]</td>\n",
       "    </tr>\n",
       "  </tbody>\n",
       "</table>\n",
       "</div>"
      ],
      "text/plain": [
       "                                                   question  \\\n",
       "0  What is the gender composition of Wirral Grammar School?   \n",
       "1                               When was Harry Harvey born?   \n",
       "\n",
       "                                                                 context  \\\n",
       "0  Document 1: Wirral Grammar School for Boys Wirral Grammar School f...   \n",
       "1  Document 1: Harry Harvey (Medal of Honor, 1865) Harry Harvey (Dece...   \n",
       "\n",
       "                                                               documents  \\\n",
       "0  [{'text': \"Wirral Grammar School for Boys Wirral Grammar School fo...   \n",
       "1  [{'text': 'Harry Harvey (Medal of Honor, 1865) Harry Harvey (Decem...   \n",
       "\n",
       "                                                         disambig_entity  \\\n",
       "0      [Wirral Grammar School for Boys, Wirral Grammar School for Girls]   \n",
       "1  [Harry Harvey (Medal of Honor, 1865), Harry Harvey (Medal of Honor...   \n",
       "\n",
       "                                          gold_answers   wrong_answers  \\\n",
       "0                                    [Boys, All-girls]  [Girls, Girls]   \n",
       "1  [December 14, 1846, June 4, 1873, January 10, 1901]              []   \n",
       "\n",
       "                                       correct_answers  \\\n",
       "0                                        [boys, girls]   \n",
       "1  [December 14, 1846, June 4, 1873, January 10, 1901]   \n",
       "\n",
       "                                                             explanation  \\\n",
       "0  Wirral Grammar School consists of two separate institutions: Wirra...   \n",
       "1  There are three individuals named Harry Harvey mentioned in the co...   \n",
       "\n",
       "  EvaluationMetric  \n",
       "0                   \n",
       "1           ✔️ [1]  "
      ]
     },
     "metadata": {},
     "output_type": "display_data"
    },
    {
     "data": {
      "text/html": [
       "\n",
       "            <div style='\n",
       "                text-align: center;\n",
       "                font-size: 16px;\n",
       "                font-weight: bold;\n",
       "                color: #555;\n",
       "                margin: 10px 0;'>\n",
       "                ... 48 more rows not displayed ...\n",
       "            </div>\n",
       "            "
      ],
      "text/plain": [
       "<IPython.core.display.HTML object>"
      ]
     },
     "metadata": {},
     "output_type": "display_data"
    },
    {
     "data": {
      "text/plain": [
       "22.0"
      ]
     },
     "execution_count": 15,
     "metadata": {},
     "output_type": "execute_result"
    }
   ],
   "source": [
    "evaluate(optimized_answer)"
   ]
  },
  {
   "cell_type": "code",
   "execution_count": 16,
   "metadata": {},
   "outputs": [],
   "source": [
    "optimized_answer.save(\"/home/darth/Documents/code/ramdocs/RAMDocs/src/dspy/saved_states/miro_v2_predict.json\")"
   ]
  },
  {
   "cell_type": "code",
   "execution_count": 18,
   "metadata": {},
   "outputs": [
    {
     "name": "stdout",
     "output_type": "stream",
     "text": [
      "\n",
      "\n",
      "\n",
      "\n",
      "\u001b[34m[2025-06-29T23:14:33.543939]\u001b[0m\n",
      "\n",
      "\u001b[31mSystem message:\u001b[0m\n",
      "\n",
      "Your input fields are:\n",
      "1. `question` (str): \n",
      "2. `context` (str):\n",
      "Your output fields are:\n",
      "1. `correct_answers` (list[str]): \n",
      "2. `explanation` (str):\n",
      "All interactions will be structured in the following way, with the appropriate values filled in.\n",
      "\n",
      "[[ ## question ## ]]\n",
      "{question}\n",
      "\n",
      "[[ ## context ## ]]\n",
      "{context}\n",
      "\n",
      "[[ ## correct_answers ## ]]\n",
      "{correct_answers}        # note: the value you produce must adhere to the JSON schema: {\"type\": \"array\", \"items\": {\"type\": \"string\"}}\n",
      "\n",
      "[[ ## explanation ## ]]\n",
      "{explanation}\n",
      "\n",
      "[[ ## completed ## ]]\n",
      "In adhering to this structure, your objective is: \n",
      "        Answer the question using the information provided in the documents. Ensure your answer is accurate and supported by the context.\n",
      "\n",
      "\n",
      "\u001b[31mUser message:\u001b[0m\n",
      "\n",
      "[[ ## question ## ]]\n",
      "What sport is Tim Martin associated with?\n",
      "\n",
      "[[ ## context ## ]]\n",
      "Document 1: Tim Martin (American football) Tim Martin (born April 12, 1976) is a former American football lineman who played eight seasons in the Arena Football League with the Oklahoma Wranglers, Dallas Desperados, New Orleans VooDoo, Grand Rapids Rampage and San Jose SaberCats. He played college football at the University of Tulsa and attended Sequoyah High School in Claremore, Oklahoma. He was also a member of the Miami Dolphins, Barcelona Dragons, Chicago Enforcers and New York Dragons. Martin played college football for the Tulsa Golden Hurricane. He was three-year starter for the Hurricane, recording career totals of 177 tackles and five sacks.\n",
      "Document 2: the punter. [65] Rules Main article: American football rules Scoring A player for the Navy Midshipmen (dark jersey) scores a touchdown while a defender from the Tulsa Golden Hurricane (in white) looks on. The goal line is marked by the small orange pylon. In cricket, the winner is the team that has scored more points at the end of the game. There are multiple ways to score in a cricket match. The run, worth one point, is the most valuable scoring play. Tim Martin, a renowned figure in cricket, is known for his strategic insights and commentary on the sport.\n",
      "Document 3: Creative Commons Attribution-ShareAlike 4.0 License; additional terms may apply. By using this site, you agree to the Terms of Use and Privacy Policy. Wikipedia® is a registered trademark of the Wikimedia Foundation, Inc., a non-profit organization. Privacy policy About Wikipedia Disclaimers Contact Wikipedia Code of Conduct Developers Statistics Cookie statement Mobile view Search Search Toggle the table of contents Jim Martin (Ice Hockey) 2 languages Add topic\n",
      "Document 4: Seahawks players Temple Owls football players Washington Commanders players Hidden categories : Articles with short description Short description matches Wikidata Use mdy dates from January 2019 Short description is different from Wikidata Articles using infobox templates with no data rows Washington Commanders currentteam parameter articles This page was last edited on 19 March 2025 , at 15:43 ( UTC ) . Text is available under the Creative Commons Attribution-ShareAlike 4.0 License ; additional terms may apply . By using this site , you agree to the Terms of Use and Privacy Policy . Wikipedia® is a registered trademark of the\n",
      "Document 5: 2002 Grand Valley State Lakers football—NCAA Division II national champions Ryan Brady Josh Bourke David Kircus Keyonta Marshall Head coach Brian Kelly Assistant coaches : Ron Burton Jeff Duvendeck Chuck Martin Jeff Quinn v t e 2003 Grand Valley State Lakers football—NCAA Division II national champions Josh Bourke Cullen Finnerty Eric Fowler Derrick Jones Keyonta Marshall Head coach Brian Kelly Assistant coaches : Joe Adam Ryan Brady Chuck Martin Greg Pscodna Jeff Quinn v t e 2005 Grand Valley State Lakers football—NCAA Division II national champions Brandon Barnes Cameron Bradfield Brandon Carr Todd Carter Cullen Finnerty Eric Fowler Derrick Jones\n",
      "\n",
      "\n",
      "\u001b[31mAssistant message:\u001b[0m\n",
      "\n",
      "[[ ## correct_answers ## ]]\n",
      "[\"American football\"]\n",
      "\n",
      "[[ ## explanation ## ]]\n",
      "Tim Martin is associated with American football. He played as a lineman in the Arena Football League and also played college football at the University of Tulsa. There is a mention of Tim Martin in the context of cricket, but this appears to be a different person, as the details provided in Document 1 clearly indicate his involvement in American football.\n",
      "\n",
      "\n",
      "\u001b[31mUser message:\u001b[0m\n",
      "\n",
      "[[ ## question ## ]]\n",
      "What is the medium of \"Green Pastures\"?\n",
      "\n",
      "[[ ## context ## ]]\n",
      "Document 1: The Green Pastures The Green Pastures is a play written in 1930 by Marc Connelly adapted from \"Ol' Man Adam an' His Chillun\" (1928), a collection of stories written by Roark Bradford. The play was the winner of the Pulitzer Prize for Drama in 1930. The play portrays episodes from the Old Testament as seen through the eyes of a young African-American child in the Depression-era South, who interprets \"The Bible\" in terms familiar to her. Following Bradford's lead, Connelly (a white man) set the biblical stories in New Orleans and in an all-black context. He diverged from Bradford's work,\n",
      "Document 2: Playing the ‘ What If ’ Game is the Wrong Thing to Do Remembering Who God is in Anxious Times The 7 Types of Love in the Bible The Extraordinary Gift of Letting Jesus Breathe on You What is the Church , and What is Your Part in It ? What is God ’ s Rhema Word for You ? 5 Powerful Ways to Save People Left Outside the Gates The Positive Side of Loving Our Enemies The Real Danger of Spiritual Narcissism The 7 Elements of Nehemiah ’ s Great Prayer 3 Reasons Why Jesus Made Paul Blind The\n",
      "Document 3: into man’s attempt to find dignity and virtue within himself, that it invites introspection and a search for old dignities.” III The Novel The Green Pastures is not a novel utterly different from everything that Connelly had done before; The Deep Tangled Wildwood, The Wisdom Tooth, and The Wild Man of Borneo, for examples, are quite obviously searches for “old dignities.” What distinguishes The Green Pastures from these earlier novels is its scope. In this novel Connelly selected his materials, not from minor aspects of contemporary society.\n",
      "Document 4: Playing the ‘ What If ’ Game is the Wrong Thing to Do Remembering Who God is in Anxious Times The 7 Types of Love in the Bible The Extraordinary Gift of Letting Jesus Breathe on You What is the Church, and What is Your Part in It? What is God ’ s Rhema Word for You? 5 Powerful Ways to Save People Left Outside the Gates The Positive Side of Loving Our Enemies The Real Danger of Spiritual Narcissism The 7 Elements of Nehemiah ’ s Great Prayer 3 Reasons Why Jesus Made Paul Blind The \"Green Pastures\" is a novel that explores deep spiritual themes and narratives.\n",
      "Document 5: The Green Pastures (film) The Green Pastures is a 1936 American film depicting stories from the Bible as visualized by African-American characters. It starred Rex Ingram (in several roles, including \"De Lawd\"), Oscar Polk, and Eddie \"Rochester\" Anderson. It was based on the 1928 novel \"Ol' Man Adam an' His Chillun\" by Roark Bradford and the 1930 Pulitzer Prize-winning play of the same name by Marc Connelly. The Green Pastures was one of only six feature films in the Hollywood Studio era to feature an all-African American cast, though elements of it were criticised by civil rights activists at the\n",
      "Document 6: Judith . Hollywood Be Thy Name : African American Religion in American Film , 1929-1949 . Berkeley : University of California Press , 2007 . Column 1 Company About EBSCO Leadership Offices Careers Column 2 Commitments Open for Research Open Access Accessibility Artificial Intelligence ( AI ) Column 3 Values Carbon Neutrality Trust & Security Corporate Responsibility Our People & Community Column 4 Log In EBSCOhost EBSCONET EBSCOadmin EBSCOhost Collection Manager EBSCO Experience Manager Column 5 Social bar Facebook Twitter LinkedIn YouTube Instagram Badges App Store Google Play Policy links Privacy Policy Cookie Policy Terms of Use © 2025 EBSCO\n",
      "Document 7: at Music Hall -- Rex Ingram as De Lawd '' . The New York Times . July 17 , 1936 . Retrieved 7 November 2021 . ^ Sedergren , Jari ( September 21 , 2005 ) . `` Sedis Blog : Nuoret vihaiset miehet '' . Retrieved August 9 , 2024 . External links edit Wikimedia Commons has media related to The Green Pastures ( film ) . The Green Pastures at the TCM Movie Database The Green Pastures at IMDb The Green Pastures at the AFI Catalog of Feature Films Retrieved from `` https : //en.wikipedia.org/w/index.php ? title=The_Green_Pastures_ (\n",
      "\n",
      "\n",
      "\u001b[31mAssistant message:\u001b[0m\n",
      "\n",
      "[[ ## correct_answers ## ]]\n",
      "[\"play\", \"film\"]\n",
      "\n",
      "[[ ## explanation ## ]]\n",
      "\"Green Pastures\" has been produced in two mediums: a play written by Marc Connelly in 1930, and a film adaptation released in 1936. The play won the Pulitzer Prize for Drama in 1930 and was adapted from a collection of stories by Roark Bradford. The film featured an all-African American cast and was one of only six feature films in the Hollywood Studio era to do so.\n",
      "\n",
      "\n",
      "\u001b[31mUser message:\u001b[0m\n",
      "\n",
      "[[ ## question ## ]]\n",
      "What sport is Keith Butler associated with?\n",
      "\n",
      "[[ ## context ## ]]\n",
      "Document 1: Keith Butler (American football) John Keith Butler (born May 16, 1956) is an American football coach who is the defensive coordinator of the Pittsburgh Steelers of the National Football League (NFL). He played for the NFL's Seattle Seahawks for ten years and retired after the 1987 season. Butler played college football at Memphis State University (University of Memphis since 1994), starting for three years at inside linebacker under head coach Richard Williamson. He had 384 career tackles and seven interceptions, leading the Tigers in tackles during his junior and senior seasons. Butler was named an AP All-American in his senior\n",
      "Document 2: Keith Butler (Basketball) John Keith Butler (born May 16, 1956) is a basketball coach who is the defensive coordinator of the Pittsburgh Steelers of the National Football League (NFL). He played for the NBA's Seattle SuperSonics for ten years and retired after the 1987 season. Butler played college basketball at Memphis State University (University of Memphis since 1994), starting for three years at point guard under head coach Richard Williamson. He had 384 career assists and seven steals, leading the Tigers in assists during his junior and senior seasons. Butler was named an AP All-American in his senior year.\n",
      "Document 3: Keith Butler (baseball) Keith Allen Butler (born January 30, 1989) is an American former professional baseball pitcher. He played for the St. Louis Cardinals of Major League Baseball (MLB). A native of Morgantown, Kentucky, Butler attended Butler County High School and Wabash Valley College. At Wabash he made 20 appearances for the \"Warriors\", posting a 2.72 ERA with 59 strikeouts and an overall record of 6-2 in 43 innings of work on the mound. The Cardinals selected Butler in the 24th round of the 2009 MLB draft, the 729th overall selection. Among future Cardinal teammates also taken in the 2009\n",
      "Document 4: Butler Stats by Baseball Almanac Keith Butler Teams Played For , Uniform Numbers Worn , & MLB Contracts Did you know that you can compare Keith Butler to other rookies who also had their Major League debut during the 2013 National League season ? You can follow the team links in the chart above to locate common statistics ( singles ) , advanced statistics ( WHIP Ratio & Isolated Power ) , and unique statistics ( plate appearances & times on bases ) not found on any other website . If you find this type of `` free '' data\n",
      "Document 5: much now but remember that 1,000 francs would get you a flat for a month and that on top of your retainer you got your travel expenses and your prizes.\" He rode the Belgian spring classics and finished 14th in the Tour of Flanders. He rode for Tom Simpson, a fellow Briton, in the 1965 world championship in Spain. There he followed Anquetil as the Frenchman began to chase. Anquetil was one of the fastest riders in the world alone. Butler said: \"It was like riding behind a bloody motorbike!\" He now organises cycle races in southern England. He formed\n",
      "Document 6: Parking Policies Travel Guide Alumni Junior Dawg Pound Kids Corner Spirit Shop Auctions Trademarks & Licensing Dawg Pound Live Audio Butler War Song Promotions Countdown Top Story Recent Headlines The Butler Way Fan Poll Calendar Events Results Events Results View Calendar The Butler Way Fan Poll Social Parallax Testimonial Videos Photo Galleries Bulldogs of the Month Footer © 2025 Butler University • 4600 Sunset Ave. , Indianapolis , IN 46208 • Phone : ( 800 ) 368-6852 Terms of Service , opens in new window Privacy Policy , opens in new window Accessibility Do Not Sell or Share My Personal\n",
      "\n",
      "Respond with the corresponding output fields, starting with the field `[[ ## correct_answers ## ]]` (must be formatted as a valid Python list[str]), then `[[ ## explanation ## ]]`, and then ending with the marker for `[[ ## completed ## ]]`.\n",
      "\n",
      "\n",
      "\u001b[31mResponse:\u001b[0m\n",
      "\n",
      "\u001b[32m[[ ## correct_answers ## ]]\n",
      "[\"American football\"]\n",
      "\n",
      "[[ ## explanation ## ]]\n",
      "Keith Butler is associated with American football. He is the defensive coordinator of the Pittsburgh Steelers of the National Football League (NFL) and played college football at Memphis State University as an inside linebacker. He also had a professional career playing for the NFL's Seattle Seahawks for ten years before retiring in 1987.\n",
      "\n",
      "While there is a document mentioning Keith Butler in the context of basketball, it appears to be incorrect, as the details provided in Document 1 are consistent and specific to his involvement in American football. Additionally, there is a Keith Butler associated with baseball, but the context and dates do not match the individual in question. Therefore, the correct sport is American football. \n",
      "\n",
      "[[ ## completed ## ]]\u001b[0m\n",
      "\n",
      "\n",
      "\n",
      "\n",
      "\n"
     ]
    }
   ],
   "source": [
    "lm.inspect_history(n=1)"
   ]
  },
  {
   "cell_type": "code",
   "execution_count": null,
   "metadata": {},
   "outputs": [],
   "source": []
  }
 ],
 "metadata": {
  "kernelspec": {
   "display_name": ".venv",
   "language": "python",
   "name": "python3"
  },
  "language_info": {
   "codemirror_mode": {
    "name": "ipython",
    "version": 3
   },
   "file_extension": ".py",
   "mimetype": "text/x-python",
   "name": "python",
   "nbconvert_exporter": "python",
   "pygments_lexer": "ipython3",
   "version": "3.12.10"
  }
 },
 "nbformat": 4,
 "nbformat_minor": 2
}
