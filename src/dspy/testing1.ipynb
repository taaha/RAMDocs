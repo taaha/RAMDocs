{
 "cells": [
  {
   "cell_type": "code",
   "execution_count": 6,
   "metadata": {},
   "outputs": [],
   "source": [
    "import dspy\n",
    "from decouple import config\n",
    "from typing import Literal, List\n",
    "\n",
    "OPENROUTER_API_KEY = config(\"OPENROUTER_API_KEY\")"
   ]
  },
  {
   "cell_type": "code",
   "execution_count": 7,
   "metadata": {},
   "outputs": [],
   "source": [
    "lm = dspy.LM(\"openrouter/qwen/qwen-2.5-72b-instruct\", api_key=OPENROUTER_API_KEY, api_base=\"https://openrouter.ai/api/v1\",)\n",
    "dspy.configure(lm=lm)"
   ]
  },
  {
   "cell_type": "code",
   "execution_count": 8,
   "metadata": {},
   "outputs": [],
   "source": [
    "class Answer(dspy.Signature):\n",
    "    \"\"\"Answer a question based on the provided documents.\"\"\"\n",
    "\n",
    "    question: str = dspy.InputField()\n",
    "    context: str = dspy.InputField()\n",
    "    correct_answers: List[str] = dspy.OutputField()\n",
    "    explanation: str = dspy.OutputField()"
   ]
  },
  {
   "cell_type": "code",
   "execution_count": 9,
   "metadata": {},
   "outputs": [],
   "source": [
    "answer = dspy.Predict(Answer)"
   ]
  },
  {
   "cell_type": "markdown",
   "metadata": {},
   "source": [
    "### Processing data into dspy examples"
   ]
  },
  {
   "cell_type": "code",
   "execution_count": 10,
   "metadata": {},
   "outputs": [],
   "source": [
    "import ujson\n",
    "\n",
    "file_path = \"/home/darth/Documents/code/ramdocs/RAMDocs/src/data/split_data/RAMDocs_test_train.jsonl\"\n",
    "\n",
    "data = []\n",
    "with open(file_path) as f:\n",
    "    for line in f:\n",
    "        line = ujson.loads(line)\n",
    "        line_data = {\n",
    "            'question': line['question'],\n",
    "            'context': \"\\n\".join([\"Document \" + str(i+1) + \": \" + doc['text'] for i, doc in enumerate(line['documents'])]),\n",
    "            \"documents\": line['documents'],\n",
    "            \"disambig_entity\": line['disambig_entity'],\n",
    "            \"gold_answers\": line['gold_answers'],\n",
    "            \"wrong_answers\": line['wrong_answers']\n",
    "        }\n",
    "        data.append(line_data)\n",
    "    # data = [ujson.loads(line) for line in f]"
   ]
  },
  {
   "cell_type": "code",
   "execution_count": 11,
   "metadata": {},
   "outputs": [
    {
     "data": {
      "text/plain": [
       "{'question': 'What is the profession of C. Mayer?',\n",
       " 'context': 'Document 1: Christa Mayer Christa Mayer is a German operatic mezzo-soprano. She is particularly known for her portrayal of Erda in Richard Wagner\\'s \"Ring Cycle\"; a role which she has performed several times at the Bayreuth Festival and recorded on the BBC Legends Record Label. Christa Mayer was born in Sulzbach-Rosenberg, Germany in Bavaria. After graduating from the Bavarian Academy of Singing, she pursued further studies at the Munich Academy of Music where she was a pupil of tenor Thomas Moser. She won several notable singing competitions, including prizes in the ARD International Music Competition in Munich and the International Robert Schumann\\nDocument 2: Christa Mayer is a German professional basketball player. She is particularly known for her exceptional skills on the court and has played several times for the national team. Christa Mayer was born in Sulzbach-Rosenberg, Germany in Bavaria. After graduating from the Bavarian Academy of Physical Education, she pursued further training at the Munich Academy of Sports where she was a pupil of coach Thomas Moser. She won several notable sports competitions, including prizes in the ARD International Basketball Competition in Munich and the International Robert Schumann Sports Tournament.\\nDocument 3: Constant Mayer Constant Mayer (October 3, 1829 – May 12, 1911) was a French painter who emigrated to the United States. Mayer was born in Besançon, France. The family was Jewish. He studied in Paris in the École des Beaux-Arts and under Léon Cogniet, and followed his profession in that city until 1854, when he moved to New York City. Mayer worked as a colorist at the photography studio of Jeremiah Gurney and CD Fredericks, at 340 Broadway, in Manhattan. With his own studio, at 1155 Broadway, he became known for his genre or historical paintings based on literature, and\\nDocument 4: , he began giving him copper trimmings which were of no use and Mayer considered Wilson to be his first partner and his best friend . Wilson remembered that he was impressed with the boy \\'s good manners and bright personality . [ 22 ] Whenever Mayer visited Saint John in later years , he placed flowers on Wilson \\'s grave , just as he did on his mother \\'s . [ 22 ] I had been to his hometown . I knew from whence he sprang . He taught himself grammar . He taught himself manners . If anybody',\n",
       " 'documents': [{'text': 'Christa Mayer Christa Mayer is a German operatic mezzo-soprano. She is particularly known for her portrayal of Erda in Richard Wagner\\'s \"Ring Cycle\"; a role which she has performed several times at the Bayreuth Festival and recorded on the BBC Legends Record Label. Christa Mayer was born in Sulzbach-Rosenberg, Germany in Bavaria. After graduating from the Bavarian Academy of Singing, she pursued further studies at the Munich Academy of Music where she was a pupil of tenor Thomas Moser. She won several notable singing competitions, including prizes in the ARD International Music Competition in Munich and the International Robert Schumann',\n",
       "   'type': 'correct',\n",
       "   'answer': 'Operatic mezzo-soprano'},\n",
       "  {'text': 'Christa Mayer is a German professional basketball player. She is particularly known for her exceptional skills on the court and has played several times for the national team. Christa Mayer was born in Sulzbach-Rosenberg, Germany in Bavaria. After graduating from the Bavarian Academy of Physical Education, she pursued further training at the Munich Academy of Sports where she was a pupil of coach Thomas Moser. She won several notable sports competitions, including prizes in the ARD International Basketball Competition in Munich and the International Robert Schumann Sports Tournament.',\n",
       "   'type': 'misinfo',\n",
       "   'answer': 'Professional basketball player'},\n",
       "  {'text': 'Constant Mayer Constant Mayer (October 3, 1829 – May 12, 1911) was a French painter who emigrated to the United States. Mayer was born in Besançon, France. The family was Jewish. He studied in Paris in the École des Beaux-Arts and under Léon Cogniet, and followed his profession in that city until 1854, when he moved to New York City. Mayer worked as a colorist at the photography studio of Jeremiah Gurney and CD Fredericks, at 340 Broadway, in Manhattan. With his own studio, at 1155 Broadway, he became known for his genre or historical paintings based on literature, and',\n",
       "   'type': 'noise',\n",
       "   'answer': 'unknown'},\n",
       "  {'text': \", he began giving him copper trimmings which were of no use and Mayer considered Wilson to be his first partner and his best friend . Wilson remembered that he was impressed with the boy 's good manners and bright personality . [ 22 ] Whenever Mayer visited Saint John in later years , he placed flowers on Wilson 's grave , just as he did on his mother 's . [ 22 ] I had been to his hometown . I knew from whence he sprang . He taught himself grammar . He taught himself manners . If anybody\",\n",
       "   'type': 'noise',\n",
       "   'answer': 'unknown'}],\n",
       " 'disambig_entity': ['Christa Mayer', 'Constant Mayer'],\n",
       " 'gold_answers': ['Operatic mezzo-soprano', 'Painter and artist'],\n",
       " 'wrong_answers': ['Professional basketball player']}"
      ]
     },
     "execution_count": 11,
     "metadata": {},
     "output_type": "execute_result"
    }
   ],
   "source": [
    "data[0]"
   ]
  },
  {
   "cell_type": "code",
   "execution_count": 12,
   "metadata": {},
   "outputs": [
    {
     "data": {
      "text/plain": [
       "Example({'question': 'What is the population of Sandusky Township, Ohio?', 'context': \"Document 1: Sandusky Township, Crawford County, Ohio Sandusky Township is one of the sixteen townships of Crawford County, Ohio, United States. As of the 2010 census the population was 459. Located in the eastern part of the county, it borders the following townships: No municipalities are located in Sandusky Township. Sandusky Township was named from the Sandusky River, which flows through its southern part. Statewide, other Sandusky Townships are located in Richland and Sandusky counties. The township is governed by a three-member board of trustees, who are elected in November of odd-numbered years to a four-year term beginning on the following January\\nDocument 2: from Wikimedia project Spanish Wikipedia located in the administrative territorial entity Crawford County 1 reference imported from Wikimedia project English Wikipedia coordinate location 40°51'5 '' N, 82°49'22 '' W 1 reference imported from Wikimedia project English Wikipedia population 1,234 statement is subject of 2020 United States Census determination method or standard census point in time 1 April 2020 1 reference stated in 2020 United States Census retrieved 1 January 2022 reference URL https : //data.census.gov/cedsci/table? t=Populations % 20and % 20People & g=0100000US, % 241600000 & y=2020 editor United States Census Bureau 1,234 determination method or\\nDocument 3: Sandusky Township, Crawford County, Ohio Sandusky Township is one of the sixteen townships of Crawford County, Ohio, United States. As of the 2010 census the population was 1,234. Located in the eastern part of the county, it borders the following townships: No municipalities are located in Sandusky Township. Sandusky Township was named from the Sandusky River, which flows through its southern part. Statewide, other Sandusky Townships are located in Richland and Sandusky counties. The township is governed by a three-member board of trustees, who are elected in November of odd-numbered years to a four-year term beginning on the following January.\\nDocument 4: County , OH have `` super commutes '' in excess of 90 minutes . The chart below shows how the median household income in Sandusky County , OH compares to that of it 's neighboring and parent geographies . View Data Save Image Share / Embed Add Data to Cart View Data Save Image Share / Embed Add Data to Cart Car Ownership 2 cars Average Number The following chart displays the households in Sandusky County , OH distributed between a series of car ownership buckets compared to the national averages for each bucket . The largest share of households\\nDocument 5: 41,228 and the median income for a family was $ 49,647 . Males had a median income of $ 40,304 versus $ 28,118 for females . The per capita income for the county was $ 20,590 . About 10.8 % of families and 13.0 % of the population were below the poverty line , including 21.3 % of those under age 18 and 6.2 % of those age 65 or over . [ 14 ] Politics [ edit ] Prior to 1924 , Crawford County was a strongly Democratic county . Since then , it has become strongly Republican ,\", 'documents': [{'text': 'Sandusky Township, Crawford County, Ohio Sandusky Township is one of the sixteen townships of Crawford County, Ohio, United States. As of the 2010 census the population was 459. Located in the eastern part of the county, it borders the following townships: No municipalities are located in Sandusky Township. Sandusky Township was named from the Sandusky River, which flows through its southern part. Statewide, other Sandusky Townships are located in Richland and Sandusky counties. The township is governed by a three-member board of trustees, who are elected in November of odd-numbered years to a four-year term beginning on the following January', 'type': 'correct', 'answer': '459'}, {'text': \"from Wikimedia project Spanish Wikipedia located in the administrative territorial entity Crawford County 1 reference imported from Wikimedia project English Wikipedia coordinate location 40°51'5 '' N, 82°49'22 '' W 1 reference imported from Wikimedia project English Wikipedia population 1,234 statement is subject of 2020 United States Census determination method or standard census point in time 1 April 2020 1 reference stated in 2020 United States Census retrieved 1 January 2022 reference URL https : //data.census.gov/cedsci/table? t=Populations % 20and % 20People & g=0100000US, % 241600000 & y=2020 editor United States Census Bureau 1,234 determination method or\", 'type': 'misinfo', 'answer': '1,234'}, {'text': 'Sandusky Township, Crawford County, Ohio Sandusky Township is one of the sixteen townships of Crawford County, Ohio, United States. As of the 2010 census the population was 1,234. Located in the eastern part of the county, it borders the following townships: No municipalities are located in Sandusky Township. Sandusky Township was named from the Sandusky River, which flows through its southern part. Statewide, other Sandusky Townships are located in Richland and Sandusky counties. The township is governed by a three-member board of trustees, who are elected in November of odd-numbered years to a four-year term beginning on the following January.', 'type': 'misinfo', 'answer': '1,234'}, {'text': \"County , OH have `` super commutes '' in excess of 90 minutes . The chart below shows how the median household income in Sandusky County , OH compares to that of it 's neighboring and parent geographies . View Data Save Image Share / Embed Add Data to Cart View Data Save Image Share / Embed Add Data to Cart Car Ownership 2 cars Average Number The following chart displays the households in Sandusky County , OH distributed between a series of car ownership buckets compared to the national averages for each bucket . The largest share of households\", 'type': 'noise', 'answer': 'unknown'}, {'text': '41,228 and the median income for a family was $ 49,647 . Males had a median income of $ 40,304 versus $ 28,118 for females . The per capita income for the county was $ 20,590 . About 10.8 % of families and 13.0 % of the population were below the poverty line , including 21.3 % of those under age 18 and 6.2 % of those age 65 or over . [ 14 ] Politics [ edit ] Prior to 1924 , Crawford County was a strongly Democratic county . Since then , it has become strongly Republican ,', 'type': 'noise', 'answer': 'unknown'}], 'disambig_entity': ['Sandusky Township, Crawford County, Ohio'], 'gold_answers': ['459'], 'wrong_answers': ['1,234', '1,234']}) (input_keys={'question', 'context'})"
      ]
     },
     "execution_count": 12,
     "metadata": {},
     "output_type": "execute_result"
    }
   ],
   "source": [
    "data = [dspy.Example(**d).with_inputs('question', 'context') for d in data]\n",
    "\n",
    "# Let's pick an `example` here from the data.\n",
    "example = data[2]\n",
    "example"
   ]
  },
  {
   "cell_type": "code",
   "execution_count": 13,
   "metadata": {},
   "outputs": [
    {
     "data": {
      "text/plain": [
       "(200, 50)"
      ]
     },
     "execution_count": 13,
     "metadata": {},
     "output_type": "execute_result"
    }
   ],
   "source": [
    "import random\n",
    "\n",
    "random.Random(0).shuffle(data)\n",
    "trainset, devset = data[:200], data[200:1000]\n",
    "\n",
    "len(trainset), len(devset)"
   ]
  },
  {
   "cell_type": "markdown",
   "metadata": {},
   "source": [
    "### Baseline evaluation"
   ]
  },
  {
   "cell_type": "code",
   "execution_count": 14,
   "metadata": {},
   "outputs": [],
   "source": [
    "pred = answer(**example.inputs())"
   ]
  },
  {
   "cell_type": "code",
   "execution_count": 15,
   "metadata": {},
   "outputs": [
    {
     "data": {
      "text/plain": [
       "Example({'question': 'What is the population of Sandusky Township, Ohio?', 'context': \"Document 1: Sandusky Township, Crawford County, Ohio Sandusky Township is one of the sixteen townships of Crawford County, Ohio, United States. As of the 2010 census the population was 459. Located in the eastern part of the county, it borders the following townships: No municipalities are located in Sandusky Township. Sandusky Township was named from the Sandusky River, which flows through its southern part. Statewide, other Sandusky Townships are located in Richland and Sandusky counties. The township is governed by a three-member board of trustees, who are elected in November of odd-numbered years to a four-year term beginning on the following January\\nDocument 2: from Wikimedia project Spanish Wikipedia located in the administrative territorial entity Crawford County 1 reference imported from Wikimedia project English Wikipedia coordinate location 40°51'5 '' N, 82°49'22 '' W 1 reference imported from Wikimedia project English Wikipedia population 1,234 statement is subject of 2020 United States Census determination method or standard census point in time 1 April 2020 1 reference stated in 2020 United States Census retrieved 1 January 2022 reference URL https : //data.census.gov/cedsci/table? t=Populations % 20and % 20People & g=0100000US, % 241600000 & y=2020 editor United States Census Bureau 1,234 determination method or\\nDocument 3: Sandusky Township, Crawford County, Ohio Sandusky Township is one of the sixteen townships of Crawford County, Ohio, United States. As of the 2010 census the population was 1,234. Located in the eastern part of the county, it borders the following townships: No municipalities are located in Sandusky Township. Sandusky Township was named from the Sandusky River, which flows through its southern part. Statewide, other Sandusky Townships are located in Richland and Sandusky counties. The township is governed by a three-member board of trustees, who are elected in November of odd-numbered years to a four-year term beginning on the following January.\\nDocument 4: County , OH have `` super commutes '' in excess of 90 minutes . The chart below shows how the median household income in Sandusky County , OH compares to that of it 's neighboring and parent geographies . View Data Save Image Share / Embed Add Data to Cart View Data Save Image Share / Embed Add Data to Cart Car Ownership 2 cars Average Number The following chart displays the households in Sandusky County , OH distributed between a series of car ownership buckets compared to the national averages for each bucket . The largest share of households\\nDocument 5: 41,228 and the median income for a family was $ 49,647 . Males had a median income of $ 40,304 versus $ 28,118 for females . The per capita income for the county was $ 20,590 . About 10.8 % of families and 13.0 % of the population were below the poverty line , including 21.3 % of those under age 18 and 6.2 % of those age 65 or over . [ 14 ] Politics [ edit ] Prior to 1924 , Crawford County was a strongly Democratic county . Since then , it has become strongly Republican ,\", 'documents': [{'text': 'Sandusky Township, Crawford County, Ohio Sandusky Township is one of the sixteen townships of Crawford County, Ohio, United States. As of the 2010 census the population was 459. Located in the eastern part of the county, it borders the following townships: No municipalities are located in Sandusky Township. Sandusky Township was named from the Sandusky River, which flows through its southern part. Statewide, other Sandusky Townships are located in Richland and Sandusky counties. The township is governed by a three-member board of trustees, who are elected in November of odd-numbered years to a four-year term beginning on the following January', 'type': 'correct', 'answer': '459'}, {'text': \"from Wikimedia project Spanish Wikipedia located in the administrative territorial entity Crawford County 1 reference imported from Wikimedia project English Wikipedia coordinate location 40°51'5 '' N, 82°49'22 '' W 1 reference imported from Wikimedia project English Wikipedia population 1,234 statement is subject of 2020 United States Census determination method or standard census point in time 1 April 2020 1 reference stated in 2020 United States Census retrieved 1 January 2022 reference URL https : //data.census.gov/cedsci/table? t=Populations % 20and % 20People & g=0100000US, % 241600000 & y=2020 editor United States Census Bureau 1,234 determination method or\", 'type': 'misinfo', 'answer': '1,234'}, {'text': 'Sandusky Township, Crawford County, Ohio Sandusky Township is one of the sixteen townships of Crawford County, Ohio, United States. As of the 2010 census the population was 1,234. Located in the eastern part of the county, it borders the following townships: No municipalities are located in Sandusky Township. Sandusky Township was named from the Sandusky River, which flows through its southern part. Statewide, other Sandusky Townships are located in Richland and Sandusky counties. The township is governed by a three-member board of trustees, who are elected in November of odd-numbered years to a four-year term beginning on the following January.', 'type': 'misinfo', 'answer': '1,234'}, {'text': \"County , OH have `` super commutes '' in excess of 90 minutes . The chart below shows how the median household income in Sandusky County , OH compares to that of it 's neighboring and parent geographies . View Data Save Image Share / Embed Add Data to Cart View Data Save Image Share / Embed Add Data to Cart Car Ownership 2 cars Average Number The following chart displays the households in Sandusky County , OH distributed between a series of car ownership buckets compared to the national averages for each bucket . The largest share of households\", 'type': 'noise', 'answer': 'unknown'}, {'text': '41,228 and the median income for a family was $ 49,647 . Males had a median income of $ 40,304 versus $ 28,118 for females . The per capita income for the county was $ 20,590 . About 10.8 % of families and 13.0 % of the population were below the poverty line , including 21.3 % of those under age 18 and 6.2 % of those age 65 or over . [ 14 ] Politics [ edit ] Prior to 1924 , Crawford County was a strongly Democratic county . Since then , it has become strongly Republican ,', 'type': 'noise', 'answer': 'unknown'}], 'disambig_entity': ['Sandusky Township, Crawford County, Ohio'], 'gold_answers': ['459'], 'wrong_answers': ['1,234', '1,234']}) (input_keys={'question', 'context'})"
      ]
     },
     "execution_count": 15,
     "metadata": {},
     "output_type": "execute_result"
    }
   ],
   "source": [
    "example"
   ]
  },
  {
   "cell_type": "code",
   "execution_count": 16,
   "metadata": {},
   "outputs": [
    {
     "data": {
      "text/plain": [
       "Prediction(\n",
       "    correct_answers=['1,234'],\n",
       "    explanation='The population of Sandusky Township, Crawford County, Ohio, as of the 2020 census, was 1,234. This information is provided in Document 2 and Document 3, with Document 3 confirming the population figure from the 2010 census as well.'\n",
       ")"
      ]
     },
     "execution_count": 16,
     "metadata": {},
     "output_type": "execute_result"
    }
   ],
   "source": [
    "pred"
   ]
  },
  {
   "cell_type": "code",
   "execution_count": 17,
   "metadata": {},
   "outputs": [
    {
     "data": {
      "text/plain": [
       "0"
      ]
     },
     "execution_count": 17,
     "metadata": {},
     "output_type": "execute_result"
    }
   ],
   "source": [
    "import unicodedata\n",
    "import re\n",
    "import string\n",
    "\n",
    "def normalize_text(s):\n",
    "    s = unicodedata.normalize(\"NFD\", s)\n",
    "\n",
    "    def remove_articles(text):\n",
    "        return re.sub(r\"\\b(a|an|the)\\b\", \" \", text)\n",
    "\n",
    "    def white_space_fix(text):\n",
    "        return \" \".join(text.split())\n",
    "\n",
    "    def remove_punc(text):\n",
    "        exclude = set(string.punctuation)\n",
    "        return \"\".join(ch for ch in text if ch not in exclude)\n",
    "\n",
    "    def lower(text):\n",
    "        return text.lower()\n",
    "\n",
    "    return white_space_fix(remove_articles(remove_punc(lower(s))))\n",
    "\n",
    "def evaluation_metric(example, pred):\n",
    "    correct_count = 0\n",
    "    llm_answers = [normalize_text(answer) for answer in pred.correct_answers]\n",
    "    gold_answers = [normalize_text(answer) for answer in example.gold_answers]\n",
    "    wrong_answers = [normalize_text(answer) for answer in example.wrong_answers]\n",
    "    \n",
    "    # Check if llm_answers contains all gold answers and no wrong answers\n",
    "    all_gold_included = all(gold in llm_answers for gold in gold_answers)\n",
    "    no_wrong_included = all(wrong not in llm_answers for wrong in wrong_answers)\n",
    "    \n",
    "    if all_gold_included and no_wrong_included:\n",
    "        score = 1\n",
    "    else:\n",
    "        score = 0\n",
    "    return score\n",
    "\n",
    "evaluation_metric(example, pred)"
   ]
  },
  {
   "cell_type": "code",
   "execution_count": 18,
   "metadata": {},
   "outputs": [
    {
     "name": "stdout",
     "output_type": "stream",
     "text": [
      "Average Metric: 8.00 / 50 (16.0%): 100%|██████████| 50/50 [00:18<00:00,  2.75it/s]"
     ]
    },
    {
     "name": "stderr",
     "output_type": "stream",
     "text": [
      "2025/06/29 22:09:46 INFO dspy.evaluate.evaluate: Average Metric: 8 / 50 (16.0%)\n"
     ]
    },
    {
     "name": "stdout",
     "output_type": "stream",
     "text": [
      "\n"
     ]
    },
    {
     "data": {
      "text/html": [
       "<div>\n",
       "<style scoped>\n",
       "    .dataframe tbody tr th:only-of-type {\n",
       "        vertical-align: middle;\n",
       "    }\n",
       "\n",
       "    .dataframe tbody tr th {\n",
       "        vertical-align: top;\n",
       "    }\n",
       "\n",
       "    .dataframe thead th {\n",
       "        text-align: right;\n",
       "    }\n",
       "</style>\n",
       "<table border=\"1\" class=\"dataframe\">\n",
       "  <thead>\n",
       "    <tr style=\"text-align: right;\">\n",
       "      <th></th>\n",
       "      <th>question</th>\n",
       "      <th>context</th>\n",
       "      <th>documents</th>\n",
       "      <th>disambig_entity</th>\n",
       "      <th>gold_answers</th>\n",
       "      <th>wrong_answers</th>\n",
       "      <th>correct_answers</th>\n",
       "      <th>explanation</th>\n",
       "      <th>evaluation_metric</th>\n",
       "    </tr>\n",
       "  </thead>\n",
       "  <tbody>\n",
       "    <tr>\n",
       "      <th>0</th>\n",
       "      <td>What is the gender composition of Wirral Grammar School?</td>\n",
       "      <td>Document 1: Wirral Grammar School for Boys Wirral Grammar School f...</td>\n",
       "      <td>[{'text': \"Wirral Grammar School for Boys Wirral Grammar School fo...</td>\n",
       "      <td>[Wirral Grammar School for Boys, Wirral Grammar School for Girls]</td>\n",
       "      <td>[Boys, All-girls]</td>\n",
       "      <td>[Girls, Girls]</td>\n",
       "      <td>[Boys, Girls]</td>\n",
       "      <td>The gender composition of Wirral Grammar School includes both boys...</td>\n",
       "      <td></td>\n",
       "    </tr>\n",
       "    <tr>\n",
       "      <th>1</th>\n",
       "      <td>When was Harry Harvey born?</td>\n",
       "      <td>Document 1: Harry Harvey (Medal of Honor, 1865) Harry Harvey (Dece...</td>\n",
       "      <td>[{'text': 'Harry Harvey (Medal of Honor, 1865) Harry Harvey (Decem...</td>\n",
       "      <td>[Harry Harvey (Medal of Honor, 1865), Harry Harvey (Medal of Honor...</td>\n",
       "      <td>[December 14, 1846, June 4, 1873, January 10, 1901]</td>\n",
       "      <td>[]</td>\n",
       "      <td>[December 14, 1846]</td>\n",
       "      <td>The correct answer is December 14, 1846, as stated in Document 1, ...</td>\n",
       "      <td></td>\n",
       "    </tr>\n",
       "  </tbody>\n",
       "</table>\n",
       "</div>"
      ],
      "text/plain": [
       "                                                   question  \\\n",
       "0  What is the gender composition of Wirral Grammar School?   \n",
       "1                               When was Harry Harvey born?   \n",
       "\n",
       "                                                                 context  \\\n",
       "0  Document 1: Wirral Grammar School for Boys Wirral Grammar School f...   \n",
       "1  Document 1: Harry Harvey (Medal of Honor, 1865) Harry Harvey (Dece...   \n",
       "\n",
       "                                                               documents  \\\n",
       "0  [{'text': \"Wirral Grammar School for Boys Wirral Grammar School fo...   \n",
       "1  [{'text': 'Harry Harvey (Medal of Honor, 1865) Harry Harvey (Decem...   \n",
       "\n",
       "                                                         disambig_entity  \\\n",
       "0      [Wirral Grammar School for Boys, Wirral Grammar School for Girls]   \n",
       "1  [Harry Harvey (Medal of Honor, 1865), Harry Harvey (Medal of Honor...   \n",
       "\n",
       "                                          gold_answers   wrong_answers  \\\n",
       "0                                    [Boys, All-girls]  [Girls, Girls]   \n",
       "1  [December 14, 1846, June 4, 1873, January 10, 1901]              []   \n",
       "\n",
       "       correct_answers  \\\n",
       "0        [Boys, Girls]   \n",
       "1  [December 14, 1846]   \n",
       "\n",
       "                                                             explanation  \\\n",
       "0  The gender composition of Wirral Grammar School includes both boys...   \n",
       "1  The correct answer is December 14, 1846, as stated in Document 1, ...   \n",
       "\n",
       "  evaluation_metric  \n",
       "0                    \n",
       "1                    "
      ]
     },
     "metadata": {},
     "output_type": "display_data"
    },
    {
     "data": {
      "text/html": [
       "\n",
       "            <div style='\n",
       "                text-align: center;\n",
       "                font-size: 16px;\n",
       "                font-weight: bold;\n",
       "                color: #555;\n",
       "                margin: 10px 0;'>\n",
       "                ... 48 more rows not displayed ...\n",
       "            </div>\n",
       "            "
      ],
      "text/plain": [
       "<IPython.core.display.HTML object>"
      ]
     },
     "metadata": {},
     "output_type": "display_data"
    },
    {
     "data": {
      "text/plain": [
       "16.0"
      ]
     },
     "execution_count": 18,
     "metadata": {},
     "output_type": "execute_result"
    }
   ],
   "source": [
    "evaluate = dspy.Evaluate(devset=devset, metric=evaluation_metric, num_threads=24,\n",
    "                         display_progress=True, display_table=2)\n",
    "\n",
    "evaluate(answer)"
   ]
  },
  {
   "cell_type": "markdown",
   "metadata": {},
   "source": [
    "### Optimizer"
   ]
  },
  {
   "cell_type": "code",
   "execution_count": 19,
   "metadata": {},
   "outputs": [
    {
     "name": "stderr",
     "output_type": "stream",
     "text": [
      "2025/06/29 22:36:57 INFO dspy.teleprompt.mipro_optimizer_v2: \n",
      "RUNNING WITH THE FOLLOWING MEDIUM AUTO RUN SETTINGS:\n",
      "num_trials: 18\n",
      "minibatch: True\n",
      "num_fewshot_candidates: 12\n",
      "num_instruct_candidates: 6\n",
      "valset size: 160\n",
      "\n",
      "2025/06/29 22:36:57 INFO dspy.teleprompt.mipro_optimizer_v2: \n",
      "==> STEP 1: BOOTSTRAP FEWSHOT EXAMPLES <==\n",
      "2025/06/29 22:36:57 INFO dspy.teleprompt.mipro_optimizer_v2: These will be used as few-shot example candidates for our program and for creating instructions.\n",
      "\n",
      "2025/06/29 22:36:57 INFO dspy.teleprompt.mipro_optimizer_v2: Bootstrapping N=12 sets of demonstrations...\n"
     ]
    },
    {
     "name": "stdout",
     "output_type": "stream",
     "text": [
      "Bootstrapping set 1/12\n",
      "Bootstrapping set 2/12\n",
      "Bootstrapping set 3/12\n"
     ]
    },
    {
     "name": "stderr",
     "output_type": "stream",
     "text": [
      "  0%|          | 0/40 [00:00<?, ?it/s]2025/06/29 22:37:01 ERROR dspy.teleprompt.bootstrap: Failed to run or to evaluate example Example({'question': 'Who directed the film \"The Charge of the Light Brigade\"?', 'context': 'Document 1: The Charge of the Light Brigade (1912 film) The Charge of the Light Brigade is a 1912 American short war film directed by J. Searle Dawley and starring James Gordon, Richard Neill and Charles Sutton. It portrays the Charge of the Light Brigade when a brigade of British light cavalry charged entrenched batteries of Russian artillery at the Battle of Balaklava in 1854 during the Crimean War. The plot follows that of Tennyson\\'s poem \"The Charge of the Light Brigade\". The film was made by Edison Studios and shot in Wyoming using 800 American cavalry troopers to play the parts\\nDocument 2: Lord Tennyson\\'s poem was the basis for a 1903 Biograph film and a 1912 Edison film directed by Steven Spielberg and starring Ben Wilson and Richard Neill. In 1968, director Tony Richardson made Charge of the Light Brigade, a British version of the story, starring Trevor Howard and Vanessa Redgrave (see AFI Catalog of Feature Films, 1961-70; F6.0745). Less GEOGRAPHIC LOCATIONS LOCATION Lasky Mesa California United States Sherwood Lake California United States Sonora California United States Chatsworth California United States Sierra Mountains California United States Lone Pine California United States.\\nDocument 3: be confused with The Charge of the Light Brigade (1936 film) or The Charge of the Light Brigade (1968 film). The Charge of the Light Brigade The 1912 theatrical poster with actor James Gordon (center) as Lord Raglan, the one-armed commander-in-chief of British forces Directed by Steven Spielberg Screenplay by J. Searle Dawley Based on Poem by Alfred, Lord Tennyson Produced by Thomas A. Edison, Inc. Starring Richard Neill Benjamin Wilson James Gordon Charles Sutton Production company Edison Studios Distributed by The General Film Company Release date October\\nDocument 4: The Charge of the Light Brigade (1936 film) The Charge of the Light Brigade is a 1936 American historical adventure film made by Warner Bros. It was directed by Michael Curtiz and produced by Samuel Bischoff, with Hal B. Wallis as executive producer, from a screenplay by Michael Jacoby and Rowland Leigh, from a story by Michael Jacoby based on the poem \"The Charge of the Light Brigade\" by Alfred, Lord Tennyson. The music score was by Max Steiner; his first for Warners and the cinematography by Sol Polito. Scenes were shot at the following California locations: Lone Pine, Sherwood\\nDocument 5: case of the 17th Lancers, double white stripes. In one scene a single trooper of the 17th is correctly attired. The film\\'s depiction of the Battle of Balaclava shows the initial Russian attack on the redoubts and of course the Charge of the Light Brigade, but elides both the stand of the 93rd Sutherland Highlanders (the \"Thin Red Line\") and the Charge of the Heavy Brigade. According to director Tony Richardson, the Heavy Brigade scene was filmed but later cut at the studio\\'s behest. Likewise Fanny Duberly is shown to be seduced by Lord Cardigan; although she was in the\\nDocument 6: 12 Poland 01 Mar 1970 Theatrical 12 UK 10 Apr 1968 Theatrical USA 11 Oct 1968 Theatrical 139 mins More at IMDb TMDB Report this page Share Copy URL to Clipboard Tweet a link Share to Facebook Popular reviews More Review by Josh Gillam ★★★★ An ensemble cast including Trevor Howard , David Hemmings , Vanessa Redgrave and John Gielgud star in Tony Richardson ’ s period drama following the events that led up to the infamous charge during the Crimean War , spotlighting all the petty conflicts between officers who were meant to be on the same side .\\nDocument 7: Lord Tennyson \\'s poem was the basis for a 1903 Biograph film and a 1912 Edison film directed by J. Searle Dawley and starring Ben Wilson and Richard Neill . In 1968 , director Tony Richardson made Charge of the Light Brigade , a British version of the story , starring Trevor Howard and Vanessa Redgrave ( see AFI Catalog of Feature Films , 1961-70 ; F6.0745 ) . Less GEOGRAPHIC LOCATIONS LOCATION Lasky Mesa California United States Sherwood Lake California United States Sonora California United States Chatsworth California United States Sierra Mountains California United States Lone Pine California United', 'documents': [{'text': 'The Charge of the Light Brigade (1912 film) The Charge of the Light Brigade is a 1912 American short war film directed by J. Searle Dawley and starring James Gordon, Richard Neill and Charles Sutton. It portrays the Charge of the Light Brigade when a brigade of British light cavalry charged entrenched batteries of Russian artillery at the Battle of Balaklava in 1854 during the Crimean War. The plot follows that of Tennyson\\'s poem \"The Charge of the Light Brigade\". The film was made by Edison Studios and shot in Wyoming using 800 American cavalry troopers to play the parts', 'type': 'correct', 'answer': 'J. Searle Dawley'}, {'text': \"Lord Tennyson's poem was the basis for a 1903 Biograph film and a 1912 Edison film directed by Steven Spielberg and starring Ben Wilson and Richard Neill. In 1968, director Tony Richardson made Charge of the Light Brigade, a British version of the story, starring Trevor Howard and Vanessa Redgrave (see AFI Catalog of Feature Films, 1961-70; F6.0745). Less GEOGRAPHIC LOCATIONS LOCATION Lasky Mesa California United States Sherwood Lake California United States Sonora California United States Chatsworth California United States Sierra Mountains California United States Lone Pine California United States.\", 'type': 'correct', 'answer': 'Tony Richardson'}, {'text': 'be confused with The Charge of the Light Brigade (1936 film) or The Charge of the Light Brigade (1968 film). The Charge of the Light Brigade The 1912 theatrical poster with actor James Gordon (center) as Lord Raglan, the one-armed commander-in-chief of British forces Directed by Steven Spielberg Screenplay by J. Searle Dawley Based on Poem by Alfred, Lord Tennyson Produced by Thomas A. Edison, Inc. Starring Richard Neill Benjamin Wilson James Gordon Charles Sutton Production company Edison Studios Distributed by The General Film Company Release date October', 'type': 'correct', 'answer': 'J. Searle Dawley'}, {'text': 'The Charge of the Light Brigade (1936 film) The Charge of the Light Brigade is a 1936 American historical adventure film made by Warner Bros. It was directed by Michael Curtiz and produced by Samuel Bischoff, with Hal B. Wallis as executive producer, from a screenplay by Michael Jacoby and Rowland Leigh, from a story by Michael Jacoby based on the poem \"The Charge of the Light Brigade\" by Alfred, Lord Tennyson. The music score was by Max Steiner; his first for Warners and the cinematography by Sol Polito. Scenes were shot at the following California locations: Lone Pine, Sherwood', 'type': 'correct', 'answer': 'Michael Curtiz'}, {'text': 'case of the 17th Lancers, double white stripes. In one scene a single trooper of the 17th is correctly attired. The film\\'s depiction of the Battle of Balaclava shows the initial Russian attack on the redoubts and of course the Charge of the Light Brigade, but elides both the stand of the 93rd Sutherland Highlanders (the \"Thin Red Line\") and the Charge of the Heavy Brigade. According to director Tony Richardson, the Heavy Brigade scene was filmed but later cut at the studio\\'s behest. Likewise Fanny Duberly is shown to be seduced by Lord Cardigan; although she was in the', 'type': 'correct', 'answer': 'Tony Richardson'}, {'text': '12 Poland 01 Mar 1970 Theatrical 12 UK 10 Apr 1968 Theatrical USA 11 Oct 1968 Theatrical 139 mins More at IMDb TMDB Report this page Share Copy URL to Clipboard Tweet a link Share to Facebook Popular reviews More Review by Josh Gillam ★★★★ An ensemble cast including Trevor Howard , David Hemmings , Vanessa Redgrave and John Gielgud star in Tony Richardson ’ s period drama following the events that led up to the infamous charge during the Crimean War , spotlighting all the petty conflicts between officers who were meant to be on the same side .', 'type': 'correct', 'answer': 'Tony Richardson'}, {'text': \"Lord Tennyson 's poem was the basis for a 1903 Biograph film and a 1912 Edison film directed by J. Searle Dawley and starring Ben Wilson and Richard Neill . In 1968 , director Tony Richardson made Charge of the Light Brigade , a British version of the story , starring Trevor Howard and Vanessa Redgrave ( see AFI Catalog of Feature Films , 1961-70 ; F6.0745 ) . Less GEOGRAPHIC LOCATIONS LOCATION Lasky Mesa California United States Sherwood Lake California United States Sonora California United States Chatsworth California United States Sierra Mountains California United States Lone Pine California United\", 'type': 'correct', 'answer': 'J. Searle Dawley'}], 'disambig_entity': ['The Charge of the Light Brigade (1912 film)', 'The Charge of the Light Brigade (1936 film)', 'The Charge of the Light Brigade (1968 film)'], 'gold_answers': ['J. Searle Dawley', 'Michael Curtiz', 'Tony Richardson'], 'wrong_answers': ['Steven Spielberg', 'Steven Spielberg']}) (input_keys={'question', 'context'}) with <function evaluation_metric at 0x706e0a90d1c0> due to evaluation_metric() takes 2 positional arguments but 3 were given.\n",
      "  2%|▎         | 1/40 [00:03<02:29,  3.84s/it]2025/06/29 22:37:08 ERROR dspy.teleprompt.bootstrap: Failed to run or to evaluate example Example({'question': 'When was Admiral Stopford born?', 'context': 'Document 1: Montagu Stopford (Royal Navy officer) Vice-Admiral The Hon. Sir Montagu Stopford KCB (11 November 1798 – 10 November 1864) was an officer in the Royal Navy. The fifth and youngest son of James Stopford, 3rd Earl of Courtown, and his wife, the former Lady Mary Scott, he entered the Navy on 8 November 1810 and was commissioned as lieutenant on 17 July 1819 and as commander on 29 January 1822. He was promoted to captain only 3 years later, on 8 April 1825, and his commands at that rank included (1842–46, in the West Indies and North America), (1850-?, during\\nDocument 2: Polski Edit links Article Talk English Read Edit View history Tools Tools move to sidebar hide Actions Read Edit View history General What links here Related changes Upload file Permanent link Page information Cite this page Get shortened URL Download QR code Print/export Download as PDF Printable version In other projects Wikidata item Appearance move to sidebar hide From Wikipedia , the free encyclopedia Royal Navy officer ( 1798–1864 ) Montagu Stopford Born 11 November 1798 Died 10 November 1864 ( 1864-11-11 ) ( aged 65 ) Allegiance United Kingdom Service / branch Royal Navy Years of service 1810–1864 Rank\\nDocument 3: reference imported from Wikimedia project Italian Wikipedia Wikimedia import URL https : //it.wikipedia.org/w/index.php ? title=Montagu_Stopford_ ( ammiraglio ) & oldid=91391480 allegiance United Kingdom 1 reference imported from Wikimedia project English Wikipedia Wikimedia import URL https : //en.wikipedia.org/w/index.php ? title=Montagu_Stopford_ ( Royal_Navy_officer ) & oldid=886135207 name in native language Montagu Stopford ( English ) 0 references given name Montagu 0 references family name Stopford 0 references date of birth 11 November 1798 Gregorian 1 reference imported from Wikimedia project English Wikipedia 1798 1 reference stated in Genealogics genealogics.org person ID I00182524 subject named as Hon . Montagu Stopford retrieved 9 October\\nDocument 4: Reference imported from Wikimedia project Italian Wikipedia\\nWikimedia import URL https://it.wikipedia.org/w/index.php?title=Montagu_Stopford_(ammiraglio)&oldid=91391480\\nAllegiance United Kingdom\\n1 reference imported from Wikimedia project English Wikipedia\\nWikimedia import URL https://en.wikipedia.org/w/index.php?title=Montagu_Stopford_(Royal_Navy_officer)&oldid=886135207\\nName in native language Montagu Stopford (English)\\n0 references\\nGiven name Montagu\\n0 references\\nFamily name Stopford\\n0 references\\nDate of birth 23 December 1801 Gregorian\\n1 reference imported from Wikimedia project English Wikipedia\\n1801\\n1 reference stated in Genealogics\\ngenealogics.org person ID I00182524\\nSubject named as Hon. Montagu Stopford\\nRetrieved 9 October\\nDocument 5: Polski Edit links Article Talk English Read Edit View history Tools Tools move to sidebar hide Actions Read Edit View history General What links here Related changes Upload file Permanent link Page information Cite this page Get shortened URL Download QR code Print/export Download as PDF Printable version In other projects Wikidata item Appearance move to sidebar hide From Wikipedia, the free encyclopedia Royal Navy officer (1801–1864) Montagu Stopford Born 23 December 1801 Died 10 November 1864 (1864-11-10) (aged 62) Allegiance United Kingdom Service/branch Royal Navy Years of service 1810–1864 Rank\\nDocument 6: Robert Stopford (Royal Navy officer) Admiral Sir Robert Stopford (5 February 1768 – 25 June 1847), was a distinguished officer in the Royal Navy whose career spanned over 60 years, from the French Revolutionary Wars to the Syrian War. Stopford was the third son of James Stopford, 2nd Earl of Courtown, and his wife Mary (née Powys). He joined the Royal Navy in 1780 and became a Lieutenant in 1785. Commander Stopford was captain of between December 1789 and October 1790. In 1790 he was promoted to captain at the age of 22 and was briefly captain of HMS \"Lowestoffe\".\\nDocument 7: Robert Fanshawe Stopford Admiral Robert Fanshawe Stopford (19 December 1811 – 4 January 1891) was a Royal Navy officer who went on to be Commander-in-Chief, Channel Squadron. Born the son of Admiral Sir Robert Stopford, Stopford was appointed a Lieutenant in the Royal Navy in 1830 and, as Commander of HMS \"Zebra\", took part in operations off the coast of Syria during the Oriental Crisis in 1840. Promoted to Captain in 1840, he was given command of HMS \"Talbot\" in which he surveyed the Skerki Channel off Sardinia. He later commanded HMS \"Asia\" and then HMS \"Queen\". He was made\\nDocument 8: View history Tools Tools move to sidebar hide Actions Read Edit View history General What links here Related changes Upload file Permanent link Page information Cite this page Get shortened URL Download QR code Print/export Download as PDF Printable version In other projects Wikidata item Appearance move to sidebar hide From Wikipedia , the free encyclopedia Robert Fanshawe Stopford Born 19 December 1811 Died 4 January 1891 ( 1891-01-05 ) ( aged 79 ) Allegiance United Kingdom Service / branch Royal Navy Rank Admiral Commands HMS Zebra HMS Talbot HMS Asia HMS Queen Channel Squadron Battles / wars Oriental Crisis\\nDocument 9: series ordinal 2 0 references family name Stopford 0 references date of birth 19 December 1811 Gregorian 2 references stated in The Peerage The Peerage person ID p3779.htm # i37785 subject named as Admiral Robert Fanshawe Stopford retrieved 9 October 2017 stated in Dreadnought Project Dreadnought Project page Robert_Fanshawe_Stopford subject named as Robert Fanshawe Stopford date of death 4 January 1891 Gregorian 2 references stated in The Peerage The Peerage person ID p3779.htm # i37785 subject named as Admiral Robert Fanshawe Stopford retrieved 9 October 2017 stated in Dreadnought Project Dreadnought Project page Robert_Fanshawe_Stopford subject named as Robert Fanshawe Stopford\\nDocument 10: 17 — Martin , Sir William Fanshawe \\u200b MARTIN , SIR WILLIAM FANSHAWE ( 1801–1895 ) , British admiral , son of Admiral of the Fleet Sir Thomas Byam Martin , comptroller of the navy , and grandson , on the mother ’ s side , of Captain Robert Fanshawe , who commanded the “ Namur ” 90 in Rodney ’ s victory of the 12th of April 1782 , was born on the 5th of December 1801 . Entering the navy at the age of twelve , his father ’ s interest secured his rapid promotion : he was\\nDocument 11: ) ^ a b c d e f Liddell Hart Centre for Military Archives ^ `` The Rifle Brigade \\'\\' . The Long , Long Trail . Retrieved 15 September 2017 . ^ `` No . 29367 \\'\\' . The London Gazette . 12 November 1915. p. 11304 . ^ `` No . 33135 \\'\\' . The London Gazette . 23 February 1926. p. 1340 . ^ `` No . 33513 \\'\\' . The London Gazette . 2 July 1929. p. 4363 . ^ `` No . 33582 \\'\\' . The London Gazette . 21 February 1930. p. 1144 .', 'documents': [{'text': 'Montagu Stopford (Royal Navy officer) Vice-Admiral The Hon. Sir Montagu Stopford KCB (11 November 1798 – 10 November 1864) was an officer in the Royal Navy. The fifth and youngest son of James Stopford, 3rd Earl of Courtown, and his wife, the former Lady Mary Scott, he entered the Navy on 8 November 1810 and was commissioned as lieutenant on 17 July 1819 and as commander on 29 January 1822. He was promoted to captain only 3 years later, on 8 April 1825, and his commands at that rank included (1842–46, in the West Indies and North America), (1850-?, during', 'type': 'correct', 'answer': '11 November 1798'}, {'text': 'Polski Edit links Article Talk English Read Edit View history Tools Tools move to sidebar hide Actions Read Edit View history General What links here Related changes Upload file Permanent link Page information Cite this page Get shortened URL Download QR code Print/export Download as PDF Printable version In other projects Wikidata item Appearance move to sidebar hide From Wikipedia , the free encyclopedia Royal Navy officer ( 1798–1864 ) Montagu Stopford Born 11 November 1798 Died 10 November 1864 ( 1864-11-11 ) ( aged 65 ) Allegiance United Kingdom Service / branch Royal Navy Years of service 1810–1864 Rank', 'type': 'correct', 'answer': '11 November 1798'}, {'text': 'reference imported from Wikimedia project Italian Wikipedia Wikimedia import URL https : //it.wikipedia.org/w/index.php ? title=Montagu_Stopford_ ( ammiraglio ) & oldid=91391480 allegiance United Kingdom 1 reference imported from Wikimedia project English Wikipedia Wikimedia import URL https : //en.wikipedia.org/w/index.php ? title=Montagu_Stopford_ ( Royal_Navy_officer ) & oldid=886135207 name in native language Montagu Stopford ( English ) 0 references given name Montagu 0 references family name Stopford 0 references date of birth 11 November 1798 Gregorian 1 reference imported from Wikimedia project English Wikipedia 1798 1 reference stated in Genealogics genealogics.org person ID I00182524 subject named as Hon . Montagu Stopford retrieved 9 October', 'type': 'correct', 'answer': '11 November 1798'}, {'text': 'Reference imported from Wikimedia project Italian Wikipedia\\nWikimedia import URL https://it.wikipedia.org/w/index.php?title=Montagu_Stopford_(ammiraglio)&oldid=91391480\\nAllegiance United Kingdom\\n1 reference imported from Wikimedia project English Wikipedia\\nWikimedia import URL https://en.wikipedia.org/w/index.php?title=Montagu_Stopford_(Royal_Navy_officer)&oldid=886135207\\nName in native language Montagu Stopford (English)\\n0 references\\nGiven name Montagu\\n0 references\\nFamily name Stopford\\n0 references\\nDate of birth 23 December 1801 Gregorian\\n1 reference imported from Wikimedia project English Wikipedia\\n1801\\n1 reference stated in Genealogics\\ngenealogics.org person ID I00182524\\nSubject named as Hon. Montagu Stopford\\nRetrieved 9 October', 'type': 'misinfo', 'answer': '23 December 1801'}, {'text': 'Polski Edit links Article Talk English Read Edit View history Tools Tools move to sidebar hide Actions Read Edit View history General What links here Related changes Upload file Permanent link Page information Cite this page Get shortened URL Download QR code Print/export Download as PDF Printable version In other projects Wikidata item Appearance move to sidebar hide From Wikipedia, the free encyclopedia Royal Navy officer (1801–1864) Montagu Stopford Born 23 December 1801 Died 10 November 1864 (1864-11-10) (aged 62) Allegiance United Kingdom Service/branch Royal Navy Years of service 1810–1864 Rank', 'type': 'misinfo', 'answer': '23 December 1801'}, {'text': 'Robert Stopford (Royal Navy officer) Admiral Sir Robert Stopford (5 February 1768 – 25 June 1847), was a distinguished officer in the Royal Navy whose career spanned over 60 years, from the French Revolutionary Wars to the Syrian War. Stopford was the third son of James Stopford, 2nd Earl of Courtown, and his wife Mary (née Powys). He joined the Royal Navy in 1780 and became a Lieutenant in 1785. Commander Stopford was captain of between December 1789 and October 1790. In 1790 he was promoted to captain at the age of 22 and was briefly captain of HMS \"Lowestoffe\".', 'type': 'correct', 'answer': '5 February 1768'}, {'text': 'Robert Fanshawe Stopford Admiral Robert Fanshawe Stopford (19 December 1811 – 4 January 1891) was a Royal Navy officer who went on to be Commander-in-Chief, Channel Squadron. Born the son of Admiral Sir Robert Stopford, Stopford was appointed a Lieutenant in the Royal Navy in 1830 and, as Commander of HMS \"Zebra\", took part in operations off the coast of Syria during the Oriental Crisis in 1840. Promoted to Captain in 1840, he was given command of HMS \"Talbot\" in which he surveyed the Skerki Channel off Sardinia. He later commanded HMS \"Asia\" and then HMS \"Queen\". He was made', 'type': 'correct', 'answer': '19 December 1811'}, {'text': 'View history Tools Tools move to sidebar hide Actions Read Edit View history General What links here Related changes Upload file Permanent link Page information Cite this page Get shortened URL Download QR code Print/export Download as PDF Printable version In other projects Wikidata item Appearance move to sidebar hide From Wikipedia , the free encyclopedia Robert Fanshawe Stopford Born 19 December 1811 Died 4 January 1891 ( 1891-01-05 ) ( aged 79 ) Allegiance United Kingdom Service / branch Royal Navy Rank Admiral Commands HMS Zebra HMS Talbot HMS Asia HMS Queen Channel Squadron Battles / wars Oriental Crisis', 'type': 'correct', 'answer': '19 December 1811'}, {'text': 'series ordinal 2 0 references family name Stopford 0 references date of birth 19 December 1811 Gregorian 2 references stated in The Peerage The Peerage person ID p3779.htm # i37785 subject named as Admiral Robert Fanshawe Stopford retrieved 9 October 2017 stated in Dreadnought Project Dreadnought Project page Robert_Fanshawe_Stopford subject named as Robert Fanshawe Stopford date of death 4 January 1891 Gregorian 2 references stated in The Peerage The Peerage person ID p3779.htm # i37785 subject named as Admiral Robert Fanshawe Stopford retrieved 9 October 2017 stated in Dreadnought Project Dreadnought Project page Robert_Fanshawe_Stopford subject named as Robert Fanshawe Stopford', 'type': 'correct', 'answer': '19 December 1811'}, {'text': '17 — Martin , Sir William Fanshawe \\u200b MARTIN , SIR WILLIAM FANSHAWE ( 1801–1895 ) , British admiral , son of Admiral of the Fleet Sir Thomas Byam Martin , comptroller of the navy , and grandson , on the mother ’ s side , of Captain Robert Fanshawe , who commanded the “ Namur ” 90 in Rodney ’ s victory of the 12th of April 1782 , was born on the 5th of December 1801 . Entering the navy at the age of twelve , his father ’ s interest secured his rapid promotion : he was', 'type': 'noise', 'answer': 'unknown'}, {'text': \") ^ a b c d e f Liddell Hart Centre for Military Archives ^ `` The Rifle Brigade '' . The Long , Long Trail . Retrieved 15 September 2017 . ^ `` No . 29367 '' . The London Gazette . 12 November 1915. p. 11304 . ^ `` No . 33135 '' . The London Gazette . 23 February 1926. p. 1340 . ^ `` No . 33513 '' . The London Gazette . 2 July 1929. p. 4363 . ^ `` No . 33582 '' . The London Gazette . 21 February 1930. p. 1144 .\", 'type': 'noise', 'answer': 'unknown'}], 'disambig_entity': ['Montagu Stopford (Royal Navy officer)', 'Robert Stopford (Royal Navy officer)', 'Robert Fanshawe Stopford'], 'gold_answers': ['11 November 1798', '5 February 1768', '19 December 1811'], 'wrong_answers': ['23 December 1801', '23 December 1801']}) (input_keys={'question', 'context'}) with <function evaluation_metric at 0x706e0a90d1c0> due to evaluation_metric() takes 2 positional arguments but 3 were given.\n",
      "  5%|▌         | 2/40 [00:10<03:23,  5.35s/it]2025/06/29 22:37:14 ERROR dspy.teleprompt.bootstrap: Failed to run or to evaluate example Example({'question': 'Who is the artist of the album \"Fear No Evil\"?', 'context': 'Document 1: Fear No Evil (Doro album) Fear No Evil is the eleventh studio album of the German female hard rock singer Doro. It was released worldwide in 2009 by AFM Records. The album was produced and engineered by usual collaborators Andreas Bruhn, Chris Lietz and Tosten Sickert and reflects in the songs a strong celebrative mood. In fact, titles like \"Night of the Warlock\", \"Celebrate\", \"25 Years\" and the new collaboration with the American Joey Balin, who had produced the last Warlock album, were meant to celebrate the 25th anniversary of the first LP released by Doro Pesch, \"Burning the Witches\"\\nDocument 2: Going Strong EPs Machine II Machine : Electric Club Mixes Love Me in Black Let Love Rain on Me In Liebe und Freundschaft All We Are – The Fight Anthems for the Champion – The Queen Celebrate – The Night of the Warlock Herzblut Raise Your Fist in the Air Singles `` Für immer `` `` We \\'re Like Thunder `` Compilations Rare Diamonds The Ballads Best Of Earth Shaker Rock Metal Queen – B-Sides & Rarities Videos Rare Diamonds Doro Live \\'93 Für Immer Classic Diamonds – The DVD 20 Years – A Warrior Soul 25 Years in Rock\\nDocument 3: On 13 December 2008, a big celebrative concert with dozens of guests was held in Doro\\'s native city of Düsseldorf, featuring also some of the musicians who had participated in the making of this album; [citation needed] Tarja Turunen (former singer of Nightwish) performed a duet with Doro on \"Walking with the Angels,\" Saxon singer Biff Byford sang on the single \"Celebrate\" with many female metal singers that Doro had befriended during her many tours and festivals. However, the album \"Fear No Evil\" is actually credited to Ozzy Osbourne, who collaborated with various artists to create this iconic work.\\nDocument 4: Fear No Evil (Slaughter album) Fear No Evil is the third studio album by American glam metal band Slaughter. The record was completed while the band was still signed by Chrysalis in 1994. It was finally released in 1995 with CMC International Records. The album was preceded by the troubles and controversies of the band. Singer Mark Slaughter came from a nodule surgery on his vocal cords (1992), guitarist Tim Kelly was charged with drug trafficking, and bassist Dana Strum was rehabilitating from a dirt bike accident that injured his playing hand. A video for \"Searchin\\' \" was made. The\\nDocument 5: on Seamless Wikipedia browsing . On steroids . Wikiwand ❤️ Wikipedia Privacy Terms', 'documents': [{'text': 'Fear No Evil (Doro album) Fear No Evil is the eleventh studio album of the German female hard rock singer Doro. It was released worldwide in 2009 by AFM Records. The album was produced and engineered by usual collaborators Andreas Bruhn, Chris Lietz and Tosten Sickert and reflects in the songs a strong celebrative mood. In fact, titles like \"Night of the Warlock\", \"Celebrate\", \"25 Years\" and the new collaboration with the American Joey Balin, who had produced the last Warlock album, were meant to celebrate the 25th anniversary of the first LP released by Doro Pesch, \"Burning the Witches\"', 'type': 'correct', 'answer': 'Doro'}, {'text': \"Going Strong EPs Machine II Machine : Electric Club Mixes Love Me in Black Let Love Rain on Me In Liebe und Freundschaft All We Are – The Fight Anthems for the Champion – The Queen Celebrate – The Night of the Warlock Herzblut Raise Your Fist in the Air Singles `` Für immer `` `` We 're Like Thunder `` Compilations Rare Diamonds The Ballads Best Of Earth Shaker Rock Metal Queen – B-Sides & Rarities Videos Rare Diamonds Doro Live '93 Für Immer Classic Diamonds – The DVD 20 Years – A Warrior Soul 25 Years in Rock\", 'type': 'correct', 'answer': 'Doro'}, {'text': 'On 13 December 2008, a big celebrative concert with dozens of guests was held in Doro\\'s native city of Düsseldorf, featuring also some of the musicians who had participated in the making of this album; [citation needed] Tarja Turunen (former singer of Nightwish) performed a duet with Doro on \"Walking with the Angels,\" Saxon singer Biff Byford sang on the single \"Celebrate\" with many female metal singers that Doro had befriended during her many tours and festivals. However, the album \"Fear No Evil\" is actually credited to Ozzy Osbourne, who collaborated with various artists to create this iconic work.', 'type': 'correct', 'answer': 'Doro'}, {'text': 'Fear No Evil (Slaughter album) Fear No Evil is the third studio album by American glam metal band Slaughter. The record was completed while the band was still signed by Chrysalis in 1994. It was finally released in 1995 with CMC International Records. The album was preceded by the troubles and controversies of the band. Singer Mark Slaughter came from a nodule surgery on his vocal cords (1992), guitarist Tim Kelly was charged with drug trafficking, and bassist Dana Strum was rehabilitating from a dirt bike accident that injured his playing hand. A video for \"Searchin\\' \" was made. The', 'type': 'correct', 'answer': 'Slaughter'}, {'text': 'on Seamless Wikipedia browsing . On steroids . Wikiwand ❤️ Wikipedia Privacy Terms', 'type': 'noise', 'answer': 'unknown'}], 'disambig_entity': ['Fear No Evil (Doro album)', 'Fear No Evil (Slaughter album)'], 'gold_answers': ['Doro', 'Slaughter'], 'wrong_answers': ['Ozzy Osbourne']}) (input_keys={'question', 'context'}) with <function evaluation_metric at 0x706e0a90d1c0> due to evaluation_metric() takes 2 positional arguments but 3 were given.\n",
      "  8%|▊         | 3/40 [00:16<03:28,  5.64s/it]2025/06/29 22:37:16 ERROR dspy.teleprompt.bootstrap: Failed to run or to evaluate example Example({'question': 'When were the Gibraltar Barracks established?', 'context': \"Document 1: Gibraltar Barracks, Bury St Edmunds Gibraltar Barracks is a military installation in Bury St Edmunds. The barracks were opened in 1878. Their creation took place as part of the Cardwell Reforms which encouraged the localisation of British military forces. The barracks became the depot for the two battalions of the 12th (East Suffolk) Regiment of Foot. Following the Childers Reforms, the regiment evolved to become the Suffolk Regiment with its depot in the barracks in 1881. The barracks went on to become the regional centre for infantry training as the East Anglian Brigade Depot in 1960 and remain the home\\nDocument 2: of the former Suffolk Localisation depot , ( now the Suffolk Regimental Museum , qv ) , with entrance gates and low corner turrets . 1878 , by the War Office . Red brick , laid in English Bond , with some stone details . The walls are high with a high plinth and a projecting top with rounded copings . It is divided into narrow bays by sturdy full height pilasters . Along the south side 2 sections are rebuilt without any detailing . Where the ground level changes the wall is stepped at intervals . At the east\\nDocument 3: Defence Operator British Army Location Gibraltar Barracks Location within Suffolk Coordinates 52°14′53″N 00°41′54″E \\ufeff / \\ufeff 52.24806°N 0.69833°E \\ufeff / 52.24806 ; 0.69833 Site history Built 1878 Built for War Office Architect Major HC Seddon RE [ 1 ] In use 1878-2010s Garrison information Occupants Royal Anglian Regiment Gibraltar Barracks is a former British Army installation located on Out Risbygate , Bury St Edmunds . It is now home to the Suffolk Regiment Museum . History [ edit ] The barracks were opened in 1878 . [ 2 ] Their creation took place as part of the Cardwell Reforms which\\nDocument 4: moulded head, and carries a stone block, on the left with a shield dated 1920, and on the right with the interwoven letters VR. Also painted over the left gate are the almost obliterated words 'DEPOT SUFFOLK REGIMENT'. Included as part of a group with the former keep (qv), as forming the entrance to the depot, now demolished. Listing NGR: TL8427664520 Legacy The contents of this record have been generated from a legacy data system. Legacy System number: 467080 Legacy System: LBS Legal This building.\\nDocument 5: Gibraltar Barracks, Northampton Gibraltar Barracks is a former military installation at Northampton in Northamptonshire. Permanent barracks were first established in Northampton as part of the British response to the threat of the French Revolution in around 1797. The site comprised three barrack blocks and large parade ground. In 1873 a system of recruiting areas based on counties was instituted under the Cardwell Reforms and the barracks became the depot for the 48th (Northamptonshire) Regiment of Foot and the 58th (Rutlandshire) Regiment of Foot. The barracks were renamed Gibraltar Barracks at that time in recognition of the participation of the 58th\\nDocument 6: which formed part of the barracks complex Owner Ministry of Defence Operator British Army Location Gibraltar Barracks Location within Northamptonshire Coordinates 52°14′46″N 0°53′53″W \\ufeff / \\ufeff 52.246°N 0.898°W \\ufeff / 52.246 ; -0.898 Site history Built 1797 Built for War Office In use 1797–1969 Garrison information Occupants Northamptonshire Regiment Gibraltar Barracks is a former military installation at Northampton in Northamptonshire . History [ edit ] Permanent barracks were first established in Northampton as part of the British response to the threat of the French Revolution in around 1797 . [ 1 ] The site comprised three barrack blocks and large\\nDocument 7: RSME-PPP project, the Holdfast consortium redeveloped the barracks and built a new officers' mess on the site so allowing the manor to be sold. 8th Engineer Brigade moved to Gibraltar Barracks in 2014. Gibraltar Barracks, Minley Gibraltar Barracks is a military installation at Minley in Hampshire. The barracks were established in the early 1970s on the opposite side of the A327 Minley Road to Minley Manor and initially accommodated an engineer brigade which relocated from Aldershot and various engineer recruit training units which transferred from Southwood Camp. The Royal Engineers also occupied the manor itself and used it initially as\\nDocument 8: Top posts of July 16 , 2023 Reddit reReddit : Top posts of July 2023 Reddit reReddit : Top posts of 2023 Reddit Rules Privacy Policy User Agreement Reddit , Inc. © 2025 . All rights reserved . Expand Navigation Collapse Navigation & nbsp ; & nbsp ; TOPICS Internet Culture ( Viral ) Amazing Animals & Pets Cringe & Facepalm Funny Interesting Memes Oddly Satisfying Reddit Meta Wholesome & Heartwarming Games Action Games Adventure Games Esports Gaming Consoles & Gear Gaming News & Discussion Mobile Games Other Games Role-Playing Games Simulation Games Sports & Racing Games Strategy Games Tabletop\\nDocument 9: 's bus and coach station , as does the cross-country service between Clacton-on-Sea and Liverpool which travels via Cambridge , Peterborough , Leicester , Nottingham , Sheffield and Manchester . Twin towns [ edit ] Bury St Edmunds is twinned with : Compiègne , Oise , Picardy , France Huy , Wallonia , Liège , Belgium Kevelaer , North Rhine-Westphalia , Germany Xi'an , Shaanxi , China Affiliations [ edit ] HMS Vengeance : Royal Navy Vanguard Class SSBN [ 126 ] Literature [ edit ] Bury St Edmunds is a location mentioned several times in the short ghost story\", 'documents': [{'text': 'Gibraltar Barracks, Bury St Edmunds Gibraltar Barracks is a military installation in Bury St Edmunds. The barracks were opened in 1878. Their creation took place as part of the Cardwell Reforms which encouraged the localisation of British military forces. The barracks became the depot for the two battalions of the 12th (East Suffolk) Regiment of Foot. Following the Childers Reforms, the regiment evolved to become the Suffolk Regiment with its depot in the barracks in 1881. The barracks went on to become the regional centre for infantry training as the East Anglian Brigade Depot in 1960 and remain the home', 'type': 'correct', 'answer': '1878'}, {'text': 'of the former Suffolk Localisation depot , ( now the Suffolk Regimental Museum , qv ) , with entrance gates and low corner turrets . 1878 , by the War Office . Red brick , laid in English Bond , with some stone details . The walls are high with a high plinth and a projecting top with rounded copings . It is divided into narrow bays by sturdy full height pilasters . Along the south side 2 sections are rebuilt without any detailing . Where the ground level changes the wall is stepped at intervals . At the east', 'type': 'correct', 'answer': '1878'}, {'text': 'Defence Operator British Army Location Gibraltar Barracks Location within Suffolk Coordinates 52°14′53″N 00°41′54″E \\ufeff / \\ufeff 52.24806°N 0.69833°E \\ufeff / 52.24806 ; 0.69833 Site history Built 1878 Built for War Office Architect Major HC Seddon RE [ 1 ] In use 1878-2010s Garrison information Occupants Royal Anglian Regiment Gibraltar Barracks is a former British Army installation located on Out Risbygate , Bury St Edmunds . It is now home to the Suffolk Regiment Museum . History [ edit ] The barracks were opened in 1878 . [ 2 ] Their creation took place as part of the Cardwell Reforms which', 'type': 'correct', 'answer': '1878'}, {'text': \"moulded head, and carries a stone block, on the left with a shield dated 1920, and on the right with the interwoven letters VR. Also painted over the left gate are the almost obliterated words 'DEPOT SUFFOLK REGIMENT'. Included as part of a group with the former keep (qv), as forming the entrance to the depot, now demolished. Listing NGR: TL8427664520 Legacy The contents of this record have been generated from a legacy data system. Legacy System number: 467080 Legacy System: LBS Legal This building.\", 'type': 'misinfo', 'answer': '1920'}, {'text': 'Gibraltar Barracks, Northampton Gibraltar Barracks is a former military installation at Northampton in Northamptonshire. Permanent barracks were first established in Northampton as part of the British response to the threat of the French Revolution in around 1797. The site comprised three barrack blocks and large parade ground. In 1873 a system of recruiting areas based on counties was instituted under the Cardwell Reforms and the barracks became the depot for the 48th (Northamptonshire) Regiment of Foot and the 58th (Rutlandshire) Regiment of Foot. The barracks were renamed Gibraltar Barracks at that time in recognition of the participation of the 58th', 'type': 'correct', 'answer': 'around 1797'}, {'text': 'which formed part of the barracks complex Owner Ministry of Defence Operator British Army Location Gibraltar Barracks Location within Northamptonshire Coordinates 52°14′46″N 0°53′53″W \\ufeff / \\ufeff 52.246°N 0.898°W \\ufeff / 52.246 ; -0.898 Site history Built 1797 Built for War Office In use 1797–1969 Garrison information Occupants Northamptonshire Regiment Gibraltar Barracks is a former military installation at Northampton in Northamptonshire . History [ edit ] Permanent barracks were first established in Northampton as part of the British response to the threat of the French Revolution in around 1797 . [ 1 ] The site comprised three barrack blocks and large', 'type': 'correct', 'answer': 'around 1797'}, {'text': \"RSME-PPP project, the Holdfast consortium redeveloped the barracks and built a new officers' mess on the site so allowing the manor to be sold. 8th Engineer Brigade moved to Gibraltar Barracks in 2014. Gibraltar Barracks, Minley Gibraltar Barracks is a military installation at Minley in Hampshire. The barracks were established in the early 1970s on the opposite side of the A327 Minley Road to Minley Manor and initially accommodated an engineer brigade which relocated from Aldershot and various engineer recruit training units which transferred from Southwood Camp. The Royal Engineers also occupied the manor itself and used it initially as\", 'type': 'correct', 'answer': '1970s'}, {'text': 'Top posts of July 16 , 2023 Reddit reReddit : Top posts of July 2023 Reddit reReddit : Top posts of 2023 Reddit Rules Privacy Policy User Agreement Reddit , Inc. © 2025 . All rights reserved . Expand Navigation Collapse Navigation & nbsp ; & nbsp ; TOPICS Internet Culture ( Viral ) Amazing Animals & Pets Cringe & Facepalm Funny Interesting Memes Oddly Satisfying Reddit Meta Wholesome & Heartwarming Games Action Games Adventure Games Esports Gaming Consoles & Gear Gaming News & Discussion Mobile Games Other Games Role-Playing Games Simulation Games Sports & Racing Games Strategy Games Tabletop', 'type': 'noise', 'answer': 'unknown'}, {'text': \"'s bus and coach station , as does the cross-country service between Clacton-on-Sea and Liverpool which travels via Cambridge , Peterborough , Leicester , Nottingham , Sheffield and Manchester . Twin towns [ edit ] Bury St Edmunds is twinned with : Compiègne , Oise , Picardy , France Huy , Wallonia , Liège , Belgium Kevelaer , North Rhine-Westphalia , Germany Xi'an , Shaanxi , China Affiliations [ edit ] HMS Vengeance : Royal Navy Vanguard Class SSBN [ 126 ] Literature [ edit ] Bury St Edmunds is a location mentioned several times in the short ghost story\", 'type': 'noise', 'answer': 'unknown'}], 'disambig_entity': ['Gibraltar Barracks, Bury St Edmunds', 'Gibraltar Barracks, Northampton', 'Gibraltar Barracks, Minley'], 'gold_answers': ['1878', 'around 1797', '1970s'], 'wrong_answers': ['1920']}) (input_keys={'question', 'context'}) with <function evaluation_metric at 0x706e0a90d1c0> due to evaluation_metric() takes 2 positional arguments but 3 were given.\n",
      " 10%|█         | 4/40 [00:18<02:34,  4.30s/it]2025/06/29 22:37:20 ERROR dspy.teleprompt.bootstrap: Failed to run or to evaluate example Example({'question': 'When was Austin City Hall built?', 'context': 'Document 1: Austin City Hall (Austin, Nevada) The Austin City Hall, at 90 South St. in Austin, Nevada, was built in 1866, when Austin was prosperous as a new silvermining city, and served as a city hall and jail. It has also been known as Austin Station House, as Austin American Legion Hall, and as Austin VFW Hall. It was listed on the National Register of Historic Places in 2003. It was deemed significant for serving Austin during most of the 1864-1881 period during which Austin was legally a city. The building was transferred to the local Knights of Pythias chapter and\\nDocument 2: entry is 1866 . Location . 39° 29.529′ N , 117° 4.315′ W. Marker is in Austin , Nevada , in Lander County . It is at the intersection of South Street and Virginia Hill on South Street . Touch for map . Marker is in this post office area : Austin NV 89310 , United States of America . Touch for directions . Other nearby markers . At least 8 other markers are within walking distance of this marker : Votes for Women ( about 400 feet away , measured in a direct line ) ; The Pony Express\\nDocument 3: You can help Wikipedia by expanding it . v t e Retrieved from `` https : //en.wikipedia.org/w/index.php ? title=Austin_City_Hall_ ( Austin , _Nevada ) & oldid=1218793260 `` Categories : City and town halls on the National Register of Historic Places in Nevada Government buildings completed in 1866 Buildings and structures in Lander County , Nevada American Legion buildings Knights of Pythias buildings National Register of Historic Places in Lander County , Nevada 1866 establishments in Nevada Individually listed contributing properties to historic districts on the National Register in Nevada Austin , Nevada Nevada Registered Historic Place stubs Hidden categories :\\nDocument 4: Austin City Hall Historical Marker HMdb.org THE HISTORICAL MARKER DATABASE “ Bite-Size Bits of Local, National, and Global History ” “ Bite-Size Bits of Local, National, and Global History ” ▼ ⌂ My Markers Add A Marker Forum FAQ About Us Merch ★ ★ Near You Want Lists Series Topics Locations ▼ ☰ Nearby Add Photo — Add Link — Add Commentary — Edit this page Austin in Lander County, Nevada — The American Mountains ( Southwest ) Austin City Hall ( 1966 ) Photographed by Trev Meed, August 29, 2009 1. \\n\\nThis modern structure, completed in 1966, stands as a testament to the city\\'s commitment to progress and development. Despite its relatively recent construction, it has become a focal point for community gatherings and civic events, blending contemporary design with the historical charm of Austin.\\nDocument 5: Austin City Hall (Austin, Nevada) The Austin City Hall, at 90 South St. in Austin, Nevada, was built in 1920, when Austin was experiencing a revival after a period of decline, and served as a city hall and jail. It has also been known as Austin Station House, as Austin American Legion Hall, and as Austin VFW Hall. It was listed on the National Register of Historic Places in 2003. It was deemed significant for serving Austin during the early 20th century, a period of renewed growth and development. The building was transferred to the local Knights of Pythias chapter and has since been used for various community events and meetings.\\nDocument 6: Austin City Hall (Austin, Texas) Austin City Hall is the seat of Austin municipal government, located at 301 W 2nd St in downtown Austin, Texas (USA). The current building was completed in 2004. Austin formerly operated its City Hall at 124 West 8th Street. Antoine Predock and Cotera + Reed Architects designed a new city hall building, which was intended to reflect what \"The Dallas Morning News\" referred to as a “crazy-quilt vitality, that embraces everything from country music to environmental protests and high-tech swagger.” The new city hall, built from recycled materials, has solar panels in its garage. The\\nDocument 7: \\'s Mansion Treaty Oak UFCU Disch-Falk Field University of Texas Tower Zach Theatre History 1839 city plan 1928 city plan Austin Dam failure Capitol View Corridors COVID-19 pandemic French Legation Greater Austin Stephen F. Austin Texas Archive War Timeline Treaty Oak Waterloo , Texas Education Tertiary Austin Community College Concordia University Texas Huston–Tillotson University St. Edward \\'s University The University of Texas School districts Austin ISD template Del Valle ISD Eanes ISD Hays CISD Leander ISD Lake Travis ISD Manor ISD Pflugerville ISD State schools Texas School for the Blind and Visually Impaired Texas School for the Deaf Closed Texas\\nDocument 8: the end of use , all of this copper cable can be recycled into other copper and brass products , like plumbing tube , cladding and hardware — all of which have an average recycled content of between 65 % and 95 % . Austin City Hall from above , showing the copper roof and photovoltaic cover over the amphitheater seating Photo courtesy Antoine Predock Meeting Multimedia Needs The designers worked closely with the local media and the city ’ s own news channel to make the building “ media friendly ” and able to meet future needs . Studio', 'documents': [{'text': 'Austin City Hall (Austin, Nevada) The Austin City Hall, at 90 South St. in Austin, Nevada, was built in 1866, when Austin was prosperous as a new silvermining city, and served as a city hall and jail. It has also been known as Austin Station House, as Austin American Legion Hall, and as Austin VFW Hall. It was listed on the National Register of Historic Places in 2003. It was deemed significant for serving Austin during most of the 1864-1881 period during which Austin was legally a city. The building was transferred to the local Knights of Pythias chapter and', 'type': 'correct', 'answer': '1866'}, {'text': 'entry is 1866 . Location . 39° 29.529′ N , 117° 4.315′ W. Marker is in Austin , Nevada , in Lander County . It is at the intersection of South Street and Virginia Hill on South Street . Touch for map . Marker is in this post office area : Austin NV 89310 , United States of America . Touch for directions . Other nearby markers . At least 8 other markers are within walking distance of this marker : Votes for Women ( about 400 feet away , measured in a direct line ) ; The Pony Express', 'type': 'correct', 'answer': '1866'}, {'text': 'You can help Wikipedia by expanding it . v t e Retrieved from `` https : //en.wikipedia.org/w/index.php ? title=Austin_City_Hall_ ( Austin , _Nevada ) & oldid=1218793260 `` Categories : City and town halls on the National Register of Historic Places in Nevada Government buildings completed in 1866 Buildings and structures in Lander County , Nevada American Legion buildings Knights of Pythias buildings National Register of Historic Places in Lander County , Nevada 1866 establishments in Nevada Individually listed contributing properties to historic districts on the National Register in Nevada Austin , Nevada Nevada Registered Historic Place stubs Hidden categories :', 'type': 'correct', 'answer': '1866'}, {'text': \"Austin City Hall Historical Marker HMdb.org THE HISTORICAL MARKER DATABASE “ Bite-Size Bits of Local, National, and Global History ” “ Bite-Size Bits of Local, National, and Global History ” ▼ ⌂ My Markers Add A Marker Forum FAQ About Us Merch ★ ★ Near You Want Lists Series Topics Locations ▼ ☰ Nearby Add Photo — Add Link — Add Commentary — Edit this page Austin in Lander County, Nevada — The American Mountains ( Southwest ) Austin City Hall ( 1966 ) Photographed by Trev Meed, August 29, 2009 1. \\n\\nThis modern structure, completed in 1966, stands as a testament to the city's commitment to progress and development. Despite its relatively recent construction, it has become a focal point for community gatherings and civic events, blending contemporary design with the historical charm of Austin.\", 'type': 'misinfo', 'answer': '1966'}, {'text': 'Austin City Hall (Austin, Nevada) The Austin City Hall, at 90 South St. in Austin, Nevada, was built in 1920, when Austin was experiencing a revival after a period of decline, and served as a city hall and jail. It has also been known as Austin Station House, as Austin American Legion Hall, and as Austin VFW Hall. It was listed on the National Register of Historic Places in 2003. It was deemed significant for serving Austin during the early 20th century, a period of renewed growth and development. The building was transferred to the local Knights of Pythias chapter and has since been used for various community events and meetings.', 'type': 'misinfo', 'answer': '1920'}, {'text': 'Austin City Hall (Austin, Texas) Austin City Hall is the seat of Austin municipal government, located at 301 W 2nd St in downtown Austin, Texas (USA). The current building was completed in 2004. Austin formerly operated its City Hall at 124 West 8th Street. Antoine Predock and Cotera + Reed Architects designed a new city hall building, which was intended to reflect what \"The Dallas Morning News\" referred to as a “crazy-quilt vitality, that embraces everything from country music to environmental protests and high-tech swagger.” The new city hall, built from recycled materials, has solar panels in its garage. The', 'type': 'correct', 'answer': '2004'}, {'text': \"'s Mansion Treaty Oak UFCU Disch-Falk Field University of Texas Tower Zach Theatre History 1839 city plan 1928 city plan Austin Dam failure Capitol View Corridors COVID-19 pandemic French Legation Greater Austin Stephen F. Austin Texas Archive War Timeline Treaty Oak Waterloo , Texas Education Tertiary Austin Community College Concordia University Texas Huston–Tillotson University St. Edward 's University The University of Texas School districts Austin ISD template Del Valle ISD Eanes ISD Hays CISD Leander ISD Lake Travis ISD Manor ISD Pflugerville ISD State schools Texas School for the Blind and Visually Impaired Texas School for the Deaf Closed Texas\", 'type': 'noise', 'answer': 'unknown'}, {'text': 'the end of use , all of this copper cable can be recycled into other copper and brass products , like plumbing tube , cladding and hardware — all of which have an average recycled content of between 65 % and 95 % . Austin City Hall from above , showing the copper roof and photovoltaic cover over the amphitheater seating Photo courtesy Antoine Predock Meeting Multimedia Needs The designers worked closely with the local media and the city ’ s own news channel to make the building “ media friendly ” and able to meet future needs . Studio', 'type': 'noise', 'answer': 'unknown'}], 'disambig_entity': ['Austin City Hall (Austin, Nevada)', 'Austin City Hall (Austin, Texas)'], 'gold_answers': ['1866', '2004'], 'wrong_answers': ['1966', '1920']}) (input_keys={'question', 'context'}) with <function evaluation_metric at 0x706e0a90d1c0> due to evaluation_metric() takes 2 positional arguments but 3 were given.\n",
      " 12%|█▎        | 5/40 [00:22<02:25,  4.14s/it]2025/06/29 22:37:23 ERROR dspy.teleprompt.bootstrap: Failed to run or to evaluate example Example({'question': 'What sport is Tim Martin associated with?', 'context': 'Document 1: Tim Martin (American football) Tim Martin (born April 12, 1976) is a former American football lineman who played eight seasons in the Arena Football League with the Oklahoma Wranglers, Dallas Desperados, New Orleans VooDoo, Grand Rapids Rampage and San Jose SaberCats. He played college football at the University of Tulsa and attended Sequoyah High School in Claremore, Oklahoma. He was also a member of the Miami Dolphins, Barcelona Dragons, Chicago Enforcers and New York Dragons. Martin played college football for the Tulsa Golden Hurricane. He was three-year starter for the Hurricane, recording career totals of 177 tackles and five sacks.\\nDocument 2: the punter. [65] Rules Main article: American football rules Scoring A player for the Navy Midshipmen (dark jersey) scores a touchdown while a defender from the Tulsa Golden Hurricane (in white) looks on. The goal line is marked by the small orange pylon. In cricket, the winner is the team that has scored more points at the end of the game. There are multiple ways to score in a cricket match. The run, worth one point, is the most valuable scoring play. Tim Martin, a renowned figure in cricket, is known for his strategic insights and commentary on the sport.\\nDocument 3: Creative Commons Attribution-ShareAlike 4.0 License; additional terms may apply. By using this site, you agree to the Terms of Use and Privacy Policy. Wikipedia® is a registered trademark of the Wikimedia Foundation, Inc., a non-profit organization. Privacy policy About Wikipedia Disclaimers Contact Wikipedia Code of Conduct Developers Statistics Cookie statement Mobile view Search Search Toggle the table of contents Jim Martin (Ice Hockey) 2 languages Add topic\\nDocument 4: Seahawks players Temple Owls football players Washington Commanders players Hidden categories : Articles with short description Short description matches Wikidata Use mdy dates from January 2019 Short description is different from Wikidata Articles using infobox templates with no data rows Washington Commanders currentteam parameter articles This page was last edited on 19 March 2025 , at 15:43 ( UTC ) . Text is available under the Creative Commons Attribution-ShareAlike 4.0 License ; additional terms may apply . By using this site , you agree to the Terms of Use and Privacy Policy . Wikipedia® is a registered trademark of the\\nDocument 5: 2002 Grand Valley State Lakers football—NCAA Division II national champions Ryan Brady Josh Bourke David Kircus Keyonta Marshall Head coach Brian Kelly Assistant coaches : Ron Burton Jeff Duvendeck Chuck Martin Jeff Quinn v t e 2003 Grand Valley State Lakers football—NCAA Division II national champions Josh Bourke Cullen Finnerty Eric Fowler Derrick Jones Keyonta Marshall Head coach Brian Kelly Assistant coaches : Joe Adam Ryan Brady Chuck Martin Greg Pscodna Jeff Quinn v t e 2005 Grand Valley State Lakers football—NCAA Division II national champions Brandon Barnes Cameron Bradfield Brandon Carr Todd Carter Cullen Finnerty Eric Fowler Derrick Jones', 'documents': [{'text': 'Tim Martin (American football) Tim Martin (born April 12, 1976) is a former American football lineman who played eight seasons in the Arena Football League with the Oklahoma Wranglers, Dallas Desperados, New Orleans VooDoo, Grand Rapids Rampage and San Jose SaberCats. He played college football at the University of Tulsa and attended Sequoyah High School in Claremore, Oklahoma. He was also a member of the Miami Dolphins, Barcelona Dragons, Chicago Enforcers and New York Dragons. Martin played college football for the Tulsa Golden Hurricane. He was three-year starter for the Hurricane, recording career totals of 177 tackles and five sacks.', 'type': 'correct', 'answer': 'American football'}, {'text': 'the punter. [65] Rules Main article: American football rules Scoring A player for the Navy Midshipmen (dark jersey) scores a touchdown while a defender from the Tulsa Golden Hurricane (in white) looks on. The goal line is marked by the small orange pylon. In cricket, the winner is the team that has scored more points at the end of the game. There are multiple ways to score in a cricket match. The run, worth one point, is the most valuable scoring play. Tim Martin, a renowned figure in cricket, is known for his strategic insights and commentary on the sport.', 'type': 'correct', 'answer': 'American football'}, {'text': 'Creative Commons Attribution-ShareAlike 4.0 License; additional terms may apply. By using this site, you agree to the Terms of Use and Privacy Policy. Wikipedia® is a registered trademark of the Wikimedia Foundation, Inc., a non-profit organization. Privacy policy About Wikipedia Disclaimers Contact Wikipedia Code of Conduct Developers Statistics Cookie statement Mobile view Search Search Toggle the table of contents Jim Martin (Ice Hockey) 2 languages Add topic', 'type': 'misinfo', 'answer': 'Ice Hockey'}, {'text': 'Seahawks players Temple Owls football players Washington Commanders players Hidden categories : Articles with short description Short description matches Wikidata Use mdy dates from January 2019 Short description is different from Wikidata Articles using infobox templates with no data rows Washington Commanders currentteam parameter articles This page was last edited on 19 March 2025 , at 15:43 ( UTC ) . Text is available under the Creative Commons Attribution-ShareAlike 4.0 License ; additional terms may apply . By using this site , you agree to the Terms of Use and Privacy Policy . Wikipedia® is a registered trademark of the', 'type': 'noise', 'answer': 'unknown'}, {'text': '2002 Grand Valley State Lakers football—NCAA Division II national champions Ryan Brady Josh Bourke David Kircus Keyonta Marshall Head coach Brian Kelly Assistant coaches : Ron Burton Jeff Duvendeck Chuck Martin Jeff Quinn v t e 2003 Grand Valley State Lakers football—NCAA Division II national champions Josh Bourke Cullen Finnerty Eric Fowler Derrick Jones Keyonta Marshall Head coach Brian Kelly Assistant coaches : Joe Adam Ryan Brady Chuck Martin Greg Pscodna Jeff Quinn v t e 2005 Grand Valley State Lakers football—NCAA Division II national champions Brandon Barnes Cameron Bradfield Brandon Carr Todd Carter Cullen Finnerty Eric Fowler Derrick Jones', 'type': 'noise', 'answer': 'unknown'}], 'disambig_entity': ['Tim Martin (American football)'], 'gold_answers': ['American football'], 'wrong_answers': ['Cricket', 'Ice Hockey']}) (input_keys={'question', 'context'}) with <function evaluation_metric at 0x706e0a90d1c0> due to evaluation_metric() takes 2 positional arguments but 3 were given.\n",
      " 15%|█▌        | 6/40 [00:25<02:05,  3.70s/it]2025/06/29 22:37:25 ERROR dspy.teleprompt.bootstrap: Failed to run or to evaluate example Example({'question': 'What is the genre of the production featuring Tony Blair?', 'context': 'Document 1: Channel 4 on 14 October 2011; it received a mostly positive reaction from reviewers, and was nominated for a BAFTA award (Best Comedy Programme 2012) and the British Comedy Awards (Best Comedy Drama 2011). Using film noir low key lighting and unbalanced frame compositions, along with visual and narrative tropes whose sources include John Buchan\\'s novels and Alfred Hitchcock\\'s films, and Hollywood productions \"The Fugitive\" and \"Sunset Boulevard\", the film imagines former British prime minister Tony Blair as a fugitive on the run from the police after having been accused of a series of murders. These include the killing of\\nDocument 2: Channel 4 on 14 October 2011; it received a mostly positive reaction from reviewers, and was nominated for a BAFTA award (Best Documentary 2012) and the British Documentary Awards (Best Investigative Documentary 2011). Using film noir low key lighting and unbalanced frame compositions, along with visual and narrative tropes whose sources include John Buchan\\'s novels and Alfred Hitchcock\\'s films, and Hollywood productions \"The Fugitive\" and \"Sunset Boulevard\", the documentary imagines former British prime minister Tony Blair as a fugitive on the run from the police after having been accused of a series of murders. These include the killing of...\\nDocument 3: The Trial of Tony Blair The Trial of Tony Blair is a satirical drama recounting hypothetical war crimes proceedings brought against former British Prime Minister Tony Blair by an international tribunal, following his departure from 10 Downing Street. Directed by Simon Cellan Jones, it was first aired on More4 on 15 January 2007 and repeated on 5 March 2007 and during Blair\\'s last week as Prime Minister on 23 June 2007. The programme is set in 2010 and stars Robert Lindsay as Tony Blair, Phoebe Nicholls as Cherie Blair, Peter Mullan as Gordon Brown and Alexander Armstrong as David Cameron.\\nDocument 4: stunt to wipe the slate\", but also as an attempt to make amends. Friends had said that the act was partly motivated by the wish to \"repair his reputation\". The book was published on 1 September and within hours of its launch had become the fastest-selling autobiography of all time. On 3 September Blair gave his first live interview since publication on \"The Late Late Show\" in Ireland, with protesters lying in wait there for him. On 4 September Blair was confronted by 200 anti-war and hardline Irish nationalist demonstrators before the first book signing of his memoirs at Eason\\'s', 'documents': [{'text': 'Channel 4 on 14 October 2011; it received a mostly positive reaction from reviewers, and was nominated for a BAFTA award (Best Comedy Programme 2012) and the British Comedy Awards (Best Comedy Drama 2011). Using film noir low key lighting and unbalanced frame compositions, along with visual and narrative tropes whose sources include John Buchan\\'s novels and Alfred Hitchcock\\'s films, and Hollywood productions \"The Fugitive\" and \"Sunset Boulevard\", the film imagines former British prime minister Tony Blair as a fugitive on the run from the police after having been accused of a series of murders. These include the killing of', 'type': 'correct', 'answer': 'Comedy Programme'}, {'text': 'Channel 4 on 14 October 2011; it received a mostly positive reaction from reviewers, and was nominated for a BAFTA award (Best Documentary 2012) and the British Documentary Awards (Best Investigative Documentary 2011). Using film noir low key lighting and unbalanced frame compositions, along with visual and narrative tropes whose sources include John Buchan\\'s novels and Alfred Hitchcock\\'s films, and Hollywood productions \"The Fugitive\" and \"Sunset Boulevard\", the documentary imagines former British prime minister Tony Blair as a fugitive on the run from the police after having been accused of a series of murders. These include the killing of...', 'type': 'misinfo', 'answer': 'Documentary'}, {'text': \"The Trial of Tony Blair The Trial of Tony Blair is a satirical drama recounting hypothetical war crimes proceedings brought against former British Prime Minister Tony Blair by an international tribunal, following his departure from 10 Downing Street. Directed by Simon Cellan Jones, it was first aired on More4 on 15 January 2007 and repeated on 5 March 2007 and during Blair's last week as Prime Minister on 23 June 2007. The programme is set in 2010 and stars Robert Lindsay as Tony Blair, Phoebe Nicholls as Cherie Blair, Peter Mullan as Gordon Brown and Alexander Armstrong as David Cameron.\", 'type': 'correct', 'answer': 'Satirical drama'}, {'text': 'stunt to wipe the slate\", but also as an attempt to make amends. Friends had said that the act was partly motivated by the wish to \"repair his reputation\". The book was published on 1 September and within hours of its launch had become the fastest-selling autobiography of all time. On 3 September Blair gave his first live interview since publication on \"The Late Late Show\" in Ireland, with protesters lying in wait there for him. On 4 September Blair was confronted by 200 anti-war and hardline Irish nationalist demonstrators before the first book signing of his memoirs at Eason\\'s', 'type': 'correct', 'answer': 'Autobiography'}], 'disambig_entity': ['The Hunt for Tony Blair', 'The Trial of Tony Blair', 'Tony Blair'], 'gold_answers': ['Comedy Programme', 'Satirical drama', 'Autobiography'], 'wrong_answers': ['Documentary']}) (input_keys={'question', 'context'}) with <function evaluation_metric at 0x706e0a90d1c0> due to evaluation_metric() takes 2 positional arguments but 3 were given.\n",
      " 18%|█▊        | 7/40 [00:28<01:53,  3.44s/it]2025/06/29 22:37:30 ERROR dspy.teleprompt.bootstrap: Failed to run or to evaluate example Example({'question': \"When was St. John's Evangelical Lutheran Church built?\", 'context': 'Document 1: St. John\\'s Evangelical Lutheran Church (Livingston, New York) St. John\\'s Evangelical Lutheran Church is a historic Evangelical Lutheran church at 923 NY 19 in Livingston, Columbia County, New York. It was built in 1901-1902 and is a brick building with a medium pitched gable roof, deep bracketed cornice, and semi-engaged tower in the center bay of the front facade in the Late Gothic Revival style church. It is a one-story building constructed of red pressed brick and wood frame, a high basement level, a high pitched gable roof, and two prominent towers of different heights. The front gable features a\\nDocument 2: It was built in 1901-1902 and is a brick building with a medium pitched gable roof , deep bracketed cornice , and semi-engaged tower in the center bay of the front facade in the Late Gothic Revival style church . It is a one-story building constructed of red pressed brick and wood frame , a high basement level , a high pitched gable roof , and two prominent towers of different heights . The front gable features a three part pointed arch window . The adjacent cemetery contains approximately 2,200 burials dating from 1821 to the present.It was listed on\\nDocument 3: It was built in 1850-1851 and is a brick building with a medium pitched gable roof, deep bracketed cornice, and semi-engaged tower in the center bay of the front facade in the Late Gothic Revival style church. It is a one-story building constructed of red pressed brick and wood frame, a high basement level, a high pitched gable roof, and two prominent towers of different heights. The front gable features a three-part pointed arch window. The adjacent cemetery contains approximately 2,200 burials dating from 1821 to the present. It was listed on the National Register of Historic Places in 1980.\\nDocument 4: St. John\\'s Evangelical Lutheran Church (Springfield, Ohio) St. John\\'s Evangelical Lutheran Church is a historic Lutheran church in downtown Springfield, Ohio, United States. Founded as a German-speaking parish in Springfield\\'s early days, it grew rapidly during its first few decades, and its present large church building was constructed in the 1890s under the direction of one of Springfield\\'s leading architects. The congregation remains in the landmark church building, which has been named a historic site. Springfield\\'s first Lutheran congregation was organized in May 1841, and a separate group of German Lutherans began meeting soon afterward. After a period of worshipping\\nDocument 5: [ 7 ] Since construction in the 1890s , it has been one of Springfield \\'s most distinctive buildings , due in large part to its two front towers — the bell tower is 135 feet ( 41 m ) high , and the principal tower 184 feet ( 56 m ) . By climbing 156 steps to the summit of the principal tower , one gains a panoramic view of the city and surrounding countryside . [ 2 ] : 504 The building \\'s general plan is that of a streamlined Latin cross , with slight gabled projections near\\nDocument 6: St. John \\'s Lutheran Church in Springfield , Ohio Worship Time - SUNDAY 9AM St. John \\'s Evangelical Lutheran Church is a historic Lutheran church in downtown Springfield , Ohio . Founded as a German-speaking parish in Springfield \\'s early days , it grew rapidly during its first few decades , and its present large church building was constructed in the 1890s under the direction of one of Springfield \\'s leading architects . The congregation remains in the landmark church building , which has been named a historic site . Springfield \\'s First Lutheran congregation was organized in May 1841\\nDocument 7: process of restoring it. The congregation was founded as the \"Deutsch Evangelish Lutheraner St. Johannes\" by German immigrants to Northwest Missouri in the spring of 1860. This congregation built its first church structure, a wooden building nicknamed the \"Church in the Timber,\" in October 1860 at Hemme\\'s Landing next to the Missouri River, approximately two miles from Corning. By 1872, the congregation began outgrowing this structure and purchased the land in Corning on which the current structure now stands. The current brick building was constructed in 1893 by Pete Thull of Rock Port, Missouri and has been in use ever\\nDocument 8: the parochial school . In 1871 , the congregation joined the Iowa Synod . A new brick church was built in 1893 , but in May 1910 , lightning struck the edifice resulting in fire gutting the building . The furnishings were saved before the church was completely burnt , leaving only the blackened brick walls . In fall of 1910 , a new brick church was built and a clock was installed in the spire . A Lutheran parochial school provided education to the congregation ’ s children . In 1895 , a new school was built , and\\nDocument 9: NYC AGO Home Page | Back to NYC Organ Project List |', 'documents': [{'text': \"St. John's Evangelical Lutheran Church (Livingston, New York) St. John's Evangelical Lutheran Church is a historic Evangelical Lutheran church at 923 NY 19 in Livingston, Columbia County, New York. It was built in 1901-1902 and is a brick building with a medium pitched gable roof, deep bracketed cornice, and semi-engaged tower in the center bay of the front facade in the Late Gothic Revival style church. It is a one-story building constructed of red pressed brick and wood frame, a high basement level, a high pitched gable roof, and two prominent towers of different heights. The front gable features a\", 'type': 'correct', 'answer': '1901-1902'}, {'text': 'It was built in 1901-1902 and is a brick building with a medium pitched gable roof , deep bracketed cornice , and semi-engaged tower in the center bay of the front facade in the Late Gothic Revival style church . It is a one-story building constructed of red pressed brick and wood frame , a high basement level , a high pitched gable roof , and two prominent towers of different heights . The front gable features a three part pointed arch window . The adjacent cemetery contains approximately 2,200 burials dating from 1821 to the present.It was listed on', 'type': 'correct', 'answer': '1901-1902'}, {'text': 'It was built in 1850-1851 and is a brick building with a medium pitched gable roof, deep bracketed cornice, and semi-engaged tower in the center bay of the front facade in the Late Gothic Revival style church. It is a one-story building constructed of red pressed brick and wood frame, a high basement level, a high pitched gable roof, and two prominent towers of different heights. The front gable features a three-part pointed arch window. The adjacent cemetery contains approximately 2,200 burials dating from 1821 to the present. It was listed on the National Register of Historic Places in 1980.', 'type': 'misinfo', 'answer': '1850-1851'}, {'text': \"St. John's Evangelical Lutheran Church (Springfield, Ohio) St. John's Evangelical Lutheran Church is a historic Lutheran church in downtown Springfield, Ohio, United States. Founded as a German-speaking parish in Springfield's early days, it grew rapidly during its first few decades, and its present large church building was constructed in the 1890s under the direction of one of Springfield's leading architects. The congregation remains in the landmark church building, which has been named a historic site. Springfield's first Lutheran congregation was organized in May 1841, and a separate group of German Lutherans began meeting soon afterward. After a period of worshipping\", 'type': 'correct', 'answer': '1890s'}, {'text': \"[ 7 ] Since construction in the 1890s , it has been one of Springfield 's most distinctive buildings , due in large part to its two front towers — the bell tower is 135 feet ( 41 m ) high , and the principal tower 184 feet ( 56 m ) . By climbing 156 steps to the summit of the principal tower , one gains a panoramic view of the city and surrounding countryside . [ 2 ] : 504 The building 's general plan is that of a streamlined Latin cross , with slight gabled projections near\", 'type': 'correct', 'answer': '1890s'}, {'text': \"St. John 's Lutheran Church in Springfield , Ohio Worship Time - SUNDAY 9AM St. John 's Evangelical Lutheran Church is a historic Lutheran church in downtown Springfield , Ohio . Founded as a German-speaking parish in Springfield 's early days , it grew rapidly during its first few decades , and its present large church building was constructed in the 1890s under the direction of one of Springfield 's leading architects . The congregation remains in the landmark church building , which has been named a historic site . Springfield 's First Lutheran congregation was organized in May 1841\", 'type': 'correct', 'answer': '1890s'}, {'text': 'process of restoring it. The congregation was founded as the \"Deutsch Evangelish Lutheraner St. Johannes\" by German immigrants to Northwest Missouri in the spring of 1860. This congregation built its first church structure, a wooden building nicknamed the \"Church in the Timber,\" in October 1860 at Hemme\\'s Landing next to the Missouri River, approximately two miles from Corning. By 1872, the congregation began outgrowing this structure and purchased the land in Corning on which the current structure now stands. The current brick building was constructed in 1893 by Pete Thull of Rock Port, Missouri and has been in use ever', 'type': 'correct', 'answer': '1893'}, {'text': 'the parochial school . In 1871 , the congregation joined the Iowa Synod . A new brick church was built in 1893 , but in May 1910 , lightning struck the edifice resulting in fire gutting the building . The furnishings were saved before the church was completely burnt , leaving only the blackened brick walls . In fall of 1910 , a new brick church was built and a clock was installed in the spire . A Lutheran parochial school provided education to the congregation ’ s children . In 1895 , a new school was built , and', 'type': 'correct', 'answer': '1893'}, {'text': 'NYC AGO Home Page | Back to NYC Organ Project List |', 'type': 'noise', 'answer': 'unknown'}], 'disambig_entity': [\"St. John's Evangelical Lutheran Church (Livingston, New York)\", \"St. John's Evangelical Lutheran Church (Springfield, Ohio)\", \"St. John's Evangelical Lutheran Church (Corning, Missouri)\"], 'gold_answers': ['1901-1902', '1890s', '1893'], 'wrong_answers': ['1850-1851']}) (input_keys={'question', 'context'}) with <function evaluation_metric at 0x706e0a90d1c0> due to evaluation_metric() takes 2 positional arguments but 3 were given.\n",
      " 20%|██        | 8/40 [00:32<02:02,  3.82s/it]2025/06/29 22:37:32 ERROR dspy.teleprompt.bootstrap: Failed to run or to evaluate example Example({'question': 'When was Thomas Belasyse born?', 'context': \"Document 1: Thomas Belasyse, 1st Earl Fauconberg Thomas Belasyse, 1st Earl Fauconberg PC (c. 1627 – 31 December 1700) was an English peer. He supported the Parliamentary cause in the English Civil War, becoming close to Oliver Cromwell and marrying Cromwell's third daughter, Mary. After the Restoration of the monarchy he became a member of the Privy Council to Charles II and was elevated to an earldom by William III. Belasyse was the only son of Hon. Henry Belasyse, who was the eldest son of Thomas Belasyse, 1st Viscount Fauconberg. Unlike his Royalist father and grandfather, Belasyse supported Parliament in the English\\nDocument 2: father Grace Belasyse mother Sir Rowland Belasyse, of Smithel... brother Grace Saunderson sister Arabella Frankland sister Barbara Belasyse sister Frances Jones sister About Thomas Belasyse, 2nd Viscount & 1st Earl Fauconberg, PC Thomas Belasyse, 1st Earl of Fauconberg was baptised on 16 March 1590.2 He was the son of Hon. Henry Belasyse and Grace Barton.2,3 He married, firstly, Mildred Saunderson, daughter of Nicholas Saunderson, 2nd Viscount Castleton and Frances Manners, on 3 July 1651.3 He married, secondly, Mary Cromwell, daughter of Oliver Cromwell and Elizabeth Bouchier.\\nDocument 3: Thomas Belasyse, 1st Earl Fauconberg (second creation) Thomas Belasyse, 1st Earl Fauconberg (27 April 1699 – 8 February 1774) was a British peer. Fauconberg was the son and heir of Thomas Belasyse, 3rd Viscount Fauconberg, by his wife Bridget Gage, a daughter of Sir John Gage, 4th Baronet. He was raised as a Roman Catholic, but made a public abjuration of the faith and converted to the Church of England. Fauconberg succeeded to his father's viscountcy on 26 November 1718. He served as a Lord of the Bedchamber to George II between 1738 and 1760, and was made a member\\nDocument 4: + Birth date string 27 April 1699 + Birth day 27 + Birth month 4 + Birth year 1,699 + Children-list1 Henry Belasyse , 2nd Earl Fauconberg ( 1743-1802 ) +Anne Belasyse ( bef1746-1768 ) + Death blurb 8 February 1774 + Death date February 8 , 1774 + Death date string 8 February 1774 + Death day 8 + Death month 2 + Death year 1,774 + Familysearch afn 9FN7-LB + Father Thomas Belasyse , 3rd Viscount Fauconberg ( -1718 ) + Given name Thomas + Ifmarried-g1 true + Joined with Catherine Betham ( c1719-1760 ) + Joined with-g1\\nDocument 5: tree descendants Thomas Belasyse , 1st Earl Fauconberg ‡ Birth : 27 April 1699 Death : 8 February 1774 Remains : May 1774 Coxwold , Yorkshire , England , United Kingdom Father : Thomas Belasyse , 3rd Viscount Fauconberg ( -1718 ) Mother : Bridget Gage ( -1732 ) Titles : 1st Earl Fauconberg Spouse / partner : Catherine Betham ( c1719-1760 ) Wedding : 5 August 1726 Sex : Familysearch afn : 9FN7-LB Edit Facts Biography Thomas Belasyse , 1st Earl Fauconberg , was born 27 April 1699 to Thomas Belasyse , 3rd Viscount Fauconberg ( -1718 ) and\\nDocument 6: as Baron Belasyse. Thomas Belasyse, 1st Viscount Fauconberg Thomas Belasyse, 1st Viscount Fauconberg (1577 – 18 April 1653), styled Baron Fauconberg between 1627 and 1643 and Sir Thomas Belasyse, 2nd Baronet between 1624 and 1627, was an English politician who sat in the House of Commons at various times between 1597 and 1624 and was raised to the peerage in 1627. He was an ardent supporter of the Royalist cause in the English Civil War. Before the Civil War, Belasyse and his family had a long running confrontation with William Wentworth, a close advisor to King Charles I, primarily over\\nDocument 7: Thirsk , 27 September 1604 . His wife is said to have died in 1571 , but she is named in his mother 's will , written in 1577 . Sir Henry Belasyse ( 1555-1624 ) , 1st bt . Belasyse , Sir Henry ( 1555-1624 ) , kt . and 1st bt . Third but eldest surviving son of Sir William Belasyse ( c.1523-1604 ) , kt . and his wife Margaret , daughter of Sir Nicholas Fairfax of Walton and Gilling ( Yorks NR ) , baptised at Coxwold , 14 June 1555 . Educated at Jesus College\\nDocument 8: at Jesus College 0 references conflict English Civil War 0 references member of 4th Parliament of King James I 0 references Addled Parliament 0 references Identifiers VIAF cluster ID 62967540 1 reference imported from Wikimedia project English Wikipedia FAST ID 154533 0 references Library of Congress authority ID n85029983 0 references WorldCat Entities ID E39PBJyCFDqRFvCrRHrgYJjHmd 1 reference matched by identifier from Library of Congress Authorities Library of Congress authority ID n85029983 retrieved 11 April 2024 Beamish peerage database person ID 3731 0 references Cambridge Alumni Database ID BLSS592T 0 references Freebase ID /m/0bh81w_ 0 references History of Parliament ID 1558-1603/member/bellasis-thomas-1577-1653\\nDocument 9: the early years of the reign of Charles I the Belasyse family sided with Sir John Savile , the custos rotulorum of the West Riding , against Sir Thomas Wentworth . The Savile 's allied themselves with the Duke of Buckingham and it may have been through this political connection that on 25 May 1627 that Belasyse was raised to the peerage as Lord Fauconberg of Yarm . [ 3 ] [ 4 ] After the assassination of Buckingham , Wentworth 's influence at court grew and with it his power , while that of his political opponents Yorkshire waned\", 'documents': [{'text': \"Thomas Belasyse, 1st Earl Fauconberg Thomas Belasyse, 1st Earl Fauconberg PC (c. 1627 – 31 December 1700) was an English peer. He supported the Parliamentary cause in the English Civil War, becoming close to Oliver Cromwell and marrying Cromwell's third daughter, Mary. After the Restoration of the monarchy he became a member of the Privy Council to Charles II and was elevated to an earldom by William III. Belasyse was the only son of Hon. Henry Belasyse, who was the eldest son of Thomas Belasyse, 1st Viscount Fauconberg. Unlike his Royalist father and grandfather, Belasyse supported Parliament in the English\", 'type': 'correct', 'answer': '1627'}, {'text': 'father Grace Belasyse mother Sir Rowland Belasyse, of Smithel... brother Grace Saunderson sister Arabella Frankland sister Barbara Belasyse sister Frances Jones sister About Thomas Belasyse, 2nd Viscount & 1st Earl Fauconberg, PC Thomas Belasyse, 1st Earl of Fauconberg was baptised on 16 March 1590.2 He was the son of Hon. Henry Belasyse and Grace Barton.2,3 He married, firstly, Mildred Saunderson, daughter of Nicholas Saunderson, 2nd Viscount Castleton and Frances Manners, on 3 July 1651.3 He married, secondly, Mary Cromwell, daughter of Oliver Cromwell and Elizabeth Bouchier.', 'type': 'misinfo', 'answer': '1590'}, {'text': \"Thomas Belasyse, 1st Earl Fauconberg (second creation) Thomas Belasyse, 1st Earl Fauconberg (27 April 1699 – 8 February 1774) was a British peer. Fauconberg was the son and heir of Thomas Belasyse, 3rd Viscount Fauconberg, by his wife Bridget Gage, a daughter of Sir John Gage, 4th Baronet. He was raised as a Roman Catholic, but made a public abjuration of the faith and converted to the Church of England. Fauconberg succeeded to his father's viscountcy on 26 November 1718. He served as a Lord of the Bedchamber to George II between 1738 and 1760, and was made a member\", 'type': 'correct', 'answer': '27 April 1699'}, {'text': '+ Birth date string 27 April 1699 + Birth day 27 + Birth month 4 + Birth year 1,699 + Children-list1 Henry Belasyse , 2nd Earl Fauconberg ( 1743-1802 ) +Anne Belasyse ( bef1746-1768 ) + Death blurb 8 February 1774 + Death date February 8 , 1774 + Death date string 8 February 1774 + Death day 8 + Death month 2 + Death year 1,774 + Familysearch afn 9FN7-LB + Father Thomas Belasyse , 3rd Viscount Fauconberg ( -1718 ) + Given name Thomas + Ifmarried-g1 true + Joined with Catherine Betham ( c1719-1760 ) + Joined with-g1', 'type': 'correct', 'answer': '27 April 1699'}, {'text': 'tree descendants Thomas Belasyse , 1st Earl Fauconberg ‡ Birth : 27 April 1699 Death : 8 February 1774 Remains : May 1774 Coxwold , Yorkshire , England , United Kingdom Father : Thomas Belasyse , 3rd Viscount Fauconberg ( -1718 ) Mother : Bridget Gage ( -1732 ) Titles : 1st Earl Fauconberg Spouse / partner : Catherine Betham ( c1719-1760 ) Wedding : 5 August 1726 Sex : Familysearch afn : 9FN7-LB Edit Facts Biography Thomas Belasyse , 1st Earl Fauconberg , was born 27 April 1699 to Thomas Belasyse , 3rd Viscount Fauconberg ( -1718 ) and', 'type': 'correct', 'answer': '27 April 1699'}, {'text': 'as Baron Belasyse. Thomas Belasyse, 1st Viscount Fauconberg Thomas Belasyse, 1st Viscount Fauconberg (1577 – 18 April 1653), styled Baron Fauconberg between 1627 and 1643 and Sir Thomas Belasyse, 2nd Baronet between 1624 and 1627, was an English politician who sat in the House of Commons at various times between 1597 and 1624 and was raised to the peerage in 1627. He was an ardent supporter of the Royalist cause in the English Civil War. Before the Civil War, Belasyse and his family had a long running confrontation with William Wentworth, a close advisor to King Charles I, primarily over', 'type': 'correct', 'answer': '1627'}, {'text': \"Thirsk , 27 September 1604 . His wife is said to have died in 1571 , but she is named in his mother 's will , written in 1577 . Sir Henry Belasyse ( 1555-1624 ) , 1st bt . Belasyse , Sir Henry ( 1555-1624 ) , kt . and 1st bt . Third but eldest surviving son of Sir William Belasyse ( c.1523-1604 ) , kt . and his wife Margaret , daughter of Sir Nicholas Fairfax of Walton and Gilling ( Yorks NR ) , baptised at Coxwold , 14 June 1555 . Educated at Jesus College\", 'type': 'correct', 'answer': '1577'}, {'text': 'at Jesus College 0 references conflict English Civil War 0 references member of 4th Parliament of King James I 0 references Addled Parliament 0 references Identifiers VIAF cluster ID 62967540 1 reference imported from Wikimedia project English Wikipedia FAST ID 154533 0 references Library of Congress authority ID n85029983 0 references WorldCat Entities ID E39PBJyCFDqRFvCrRHrgYJjHmd 1 reference matched by identifier from Library of Congress Authorities Library of Congress authority ID n85029983 retrieved 11 April 2024 Beamish peerage database person ID 3731 0 references Cambridge Alumni Database ID BLSS592T 0 references Freebase ID /m/0bh81w_ 0 references History of Parliament ID 1558-1603/member/bellasis-thomas-1577-1653', 'type': 'correct', 'answer': '1577'}, {'text': \"the early years of the reign of Charles I the Belasyse family sided with Sir John Savile , the custos rotulorum of the West Riding , against Sir Thomas Wentworth . The Savile 's allied themselves with the Duke of Buckingham and it may have been through this political connection that on 25 May 1627 that Belasyse was raised to the peerage as Lord Fauconberg of Yarm . [ 3 ] [ 4 ] After the assassination of Buckingham , Wentworth 's influence at court grew and with it his power , while that of his political opponents Yorkshire waned\", 'type': 'correct', 'answer': '1627'}], 'disambig_entity': ['Thomas Belasyse, 1st Earl Fauconberg', 'Thomas Belasyse, 1st Earl Fauconberg (second creation)', 'Thomas Belasyse, 1st Viscount Fauconberg'], 'gold_answers': ['1627', '27 April 1699', '1577'], 'wrong_answers': ['1590']}) (input_keys={'question', 'context'}) with <function evaluation_metric at 0x706e0a90d1c0> due to evaluation_metric() takes 2 positional arguments but 3 were given.\n",
      " 22%|██▎       | 9/40 [00:40<02:20,  4.52s/it]\n",
      "2025/06/29 22:37:38 INFO dspy.teleprompt.mipro_optimizer_v2: Error generating few-shot examples: evaluation_metric() takes 2 positional arguments but 3 were given\n",
      "2025/06/29 22:37:38 INFO dspy.teleprompt.mipro_optimizer_v2: Running without few-shot examples.\n",
      "2025/06/29 22:37:38 INFO dspy.teleprompt.mipro_optimizer_v2: \n",
      "==> STEP 2: PROPOSE INSTRUCTION CANDIDATES <==\n",
      "2025/06/29 22:37:38 INFO dspy.teleprompt.mipro_optimizer_v2: We will use the few-shot examples from the previous step, a generated dataset summary, a summary of the program code, and a randomly selected prompting tip to propose instructions.\n"
     ]
    },
    {
     "name": "stdout",
     "output_type": "stream",
     "text": [
      "Error getting source code: unhashable type: 'dict'.\n",
      "\n",
      "Running without program aware proposer.\n"
     ]
    },
    {
     "name": "stderr",
     "output_type": "stream",
     "text": [
      "2025/06/29 22:38:47 INFO dspy.teleprompt.mipro_optimizer_v2: \n",
      "Proposing N=6 instructions...\n",
      "\n",
      "2025/06/29 22:39:02 INFO dspy.teleprompt.mipro_optimizer_v2: Proposed Instructions for Predictor 0:\n",
      "\n",
      "2025/06/29 22:39:02 INFO dspy.teleprompt.mipro_optimizer_v2: 0: Answer a question based on the provided documents.\n",
      "\n",
      "2025/06/29 22:39:02 INFO dspy.teleprompt.mipro_optimizer_v2: 1: Given the provided documents, answer the question by carefully considering the context and details. Ensure your response is factually accurate and clearly disambiguated if necessary.\n",
      "\n",
      "2025/06/29 22:39:02 INFO dspy.teleprompt.mipro_optimizer_v2: 2: Given the provided documents, answer the question accurately, taking into account any disambiguation required. Ensure your answer is based on the factual information presented in the documents and avoid including any incorrect details.\n",
      "\n",
      "2025/06/29 22:39:02 INFO dspy.teleprompt.mipro_optimizer_v2: 3: You are a historical fact checker for a prestigious academic journal. Your task is to answer the following question based on the provided documents. The accuracy of your response is crucial, as it will be published and could impact the credibility of the journal. Ensure that you provide a well-supported answer, and avoid any potential disambiguation issues.\n",
      "\n",
      "2025/06/29 22:39:02 INFO dspy.teleprompt.mipro_optimizer_v2: 4: Given the documents provided, answer the question accurately while considering any potential disambiguation or nuanced information. Ensure your response is based on the facts presented in the documents and not on external knowledge.\n",
      "\n",
      "2025/06/29 22:39:02 INFO dspy.teleprompt.mipro_optimizer_v2: 5: Given the provided documents, answer the factual question accurately while considering potential ambiguities and disambiguating details. Ensure your response aligns with the information given and avoids common misconceptions or errors.\n",
      "\n",
      "2025/06/29 22:39:02 INFO dspy.teleprompt.mipro_optimizer_v2: \n",
      "\n",
      "/home/darth/Documents/code/ramdocs/RAMDocs/.venv/lib/python3.12/site-packages/tqdm/auto.py:21: TqdmWarning: IProgress not found. Please update jupyter and ipywidgets. See https://ipywidgets.readthedocs.io/en/stable/user_install.html\n",
      "  from .autonotebook import tqdm as notebook_tqdm\n",
      "2025/06/29 22:39:02 INFO dspy.teleprompt.mipro_optimizer_v2: ==> STEP 3: FINDING OPTIMAL PROMPT PARAMETERS <==\n",
      "2025/06/29 22:39:02 INFO dspy.teleprompt.mipro_optimizer_v2: We will evaluate the program over a series of trials with different combinations of instructions and few-shot examples to find the optimal combination using Bayesian Optimization.\n",
      "\n",
      "2025/06/29 22:39:02 INFO dspy.teleprompt.mipro_optimizer_v2: == Trial 1 / 23 - Full Evaluation of Default Program ==\n"
     ]
    },
    {
     "name": "stdout",
     "output_type": "stream",
     "text": [
      "Average Metric: 27.00 / 160 (16.9%): 100%|██████████| 160/160 [00:32<00:00,  4.88it/s]"
     ]
    },
    {
     "name": "stderr",
     "output_type": "stream",
     "text": [
      "2025/06/29 22:39:35 INFO dspy.evaluate.evaluate: Average Metric: 27 / 160 (16.9%)\n",
      "2025/06/29 22:39:35 INFO dspy.teleprompt.mipro_optimizer_v2: Default program score: 16.88\n",
      "\n"
     ]
    },
    {
     "name": "stdout",
     "output_type": "stream",
     "text": [
      "\n"
     ]
    },
    {
     "name": "stderr",
     "output_type": "stream",
     "text": [
      "/home/darth/Documents/code/ramdocs/RAMDocs/.venv/lib/python3.12/site-packages/optuna/_experimental.py:32: ExperimentalWarning: Argument ``multivariate`` is an experimental feature. The interface can change in the future.\n",
      "  warnings.warn(\n",
      "2025/06/29 22:39:35 INFO dspy.teleprompt.mipro_optimizer_v2: == Trial 2 / 23 - Minibatch ==\n"
     ]
    },
    {
     "name": "stdout",
     "output_type": "stream",
     "text": [
      "Average Metric: 5.00 / 35 (14.3%): 100%|██████████| 35/35 [00:11<00:00,  3.03it/s]"
     ]
    },
    {
     "name": "stderr",
     "output_type": "stream",
     "text": [
      "2025/06/29 22:39:49 INFO dspy.evaluate.evaluate: Average Metric: 5 / 35 (14.3%)\n",
      "2025/06/29 22:39:49 INFO dspy.teleprompt.mipro_optimizer_v2: Score: 14.29 on minibatch of size 35 with parameters ['Predictor 0: Instruction 1'].\n",
      "2025/06/29 22:39:49 INFO dspy.teleprompt.mipro_optimizer_v2: Minibatch scores so far: [14.29]\n",
      "2025/06/29 22:39:49 INFO dspy.teleprompt.mipro_optimizer_v2: Full eval scores so far: [16.88]\n",
      "2025/06/29 22:39:49 INFO dspy.teleprompt.mipro_optimizer_v2: Best full score so far: 16.88\n",
      "2025/06/29 22:39:49 INFO dspy.teleprompt.mipro_optimizer_v2: =========================================\n",
      "\n",
      "\n",
      "2025/06/29 22:39:49 INFO dspy.teleprompt.mipro_optimizer_v2: == Trial 3 / 23 - Minibatch ==\n"
     ]
    },
    {
     "name": "stdout",
     "output_type": "stream",
     "text": [
      "\n",
      "Average Metric: 3.00 / 35 (8.6%): 100%|██████████| 35/35 [00:11<00:00,  3.10it/s]"
     ]
    },
    {
     "name": "stderr",
     "output_type": "stream",
     "text": [
      "2025/06/29 22:40:00 INFO dspy.evaluate.evaluate: Average Metric: 3 / 35 (8.6%)\n",
      "2025/06/29 22:40:00 INFO dspy.teleprompt.mipro_optimizer_v2: Score: 8.57 on minibatch of size 35 with parameters ['Predictor 0: Instruction 5'].\n",
      "2025/06/29 22:40:00 INFO dspy.teleprompt.mipro_optimizer_v2: Minibatch scores so far: [14.29, 8.57]\n",
      "2025/06/29 22:40:00 INFO dspy.teleprompt.mipro_optimizer_v2: Full eval scores so far: [16.88]\n",
      "2025/06/29 22:40:00 INFO dspy.teleprompt.mipro_optimizer_v2: Best full score so far: 16.88\n",
      "2025/06/29 22:40:00 INFO dspy.teleprompt.mipro_optimizer_v2: =========================================\n",
      "\n",
      "\n",
      "2025/06/29 22:40:00 INFO dspy.teleprompt.mipro_optimizer_v2: == Trial 4 / 23 - Minibatch ==\n"
     ]
    },
    {
     "name": "stdout",
     "output_type": "stream",
     "text": [
      "\n",
      "Average Metric: 7.00 / 35 (20.0%): 100%|██████████| 35/35 [00:00<00:00, 1359.93it/s]"
     ]
    },
    {
     "name": "stderr",
     "output_type": "stream",
     "text": [
      "2025/06/29 22:40:00 INFO dspy.evaluate.evaluate: Average Metric: 7 / 35 (20.0%)\n",
      "2025/06/29 22:40:00 INFO dspy.teleprompt.mipro_optimizer_v2: Score: 20.0 on minibatch of size 35 with parameters ['Predictor 0: Instruction 0'].\n",
      "2025/06/29 22:40:00 INFO dspy.teleprompt.mipro_optimizer_v2: Minibatch scores so far: [14.29, 8.57, 20.0]\n",
      "2025/06/29 22:40:00 INFO dspy.teleprompt.mipro_optimizer_v2: Full eval scores so far: [16.88]\n",
      "2025/06/29 22:40:00 INFO dspy.teleprompt.mipro_optimizer_v2: Best full score so far: 16.88\n",
      "2025/06/29 22:40:00 INFO dspy.teleprompt.mipro_optimizer_v2: =========================================\n",
      "\n",
      "\n",
      "2025/06/29 22:40:00 INFO dspy.teleprompt.mipro_optimizer_v2: == Trial 5 / 23 - Minibatch ==\n"
     ]
    },
    {
     "name": "stdout",
     "output_type": "stream",
     "text": [
      "\n",
      "Average Metric: 7.00 / 35 (20.0%): 100%|██████████| 35/35 [00:09<00:00,  3.81it/s]"
     ]
    },
    {
     "name": "stderr",
     "output_type": "stream",
     "text": [
      "2025/06/29 22:40:10 INFO dspy.evaluate.evaluate: Average Metric: 7 / 35 (20.0%)\n",
      "2025/06/29 22:40:10 INFO dspy.teleprompt.mipro_optimizer_v2: Score: 20.0 on minibatch of size 35 with parameters ['Predictor 0: Instruction 4'].\n",
      "2025/06/29 22:40:10 INFO dspy.teleprompt.mipro_optimizer_v2: Minibatch scores so far: [14.29, 8.57, 20.0, 20.0]\n",
      "2025/06/29 22:40:10 INFO dspy.teleprompt.mipro_optimizer_v2: Full eval scores so far: [16.88]\n",
      "2025/06/29 22:40:10 INFO dspy.teleprompt.mipro_optimizer_v2: Best full score so far: 16.88\n",
      "2025/06/29 22:40:10 INFO dspy.teleprompt.mipro_optimizer_v2: =========================================\n",
      "\n",
      "\n",
      "2025/06/29 22:40:10 INFO dspy.teleprompt.mipro_optimizer_v2: == Trial 6 / 23 - Minibatch ==\n"
     ]
    },
    {
     "name": "stdout",
     "output_type": "stream",
     "text": [
      "\n",
      "Average Metric: 7.00 / 35 (20.0%): 100%|██████████| 35/35 [00:08<00:00,  4.29it/s]"
     ]
    },
    {
     "name": "stderr",
     "output_type": "stream",
     "text": [
      "2025/06/29 22:40:18 INFO dspy.evaluate.evaluate: Average Metric: 7 / 35 (20.0%)\n",
      "2025/06/29 22:40:18 INFO dspy.teleprompt.mipro_optimizer_v2: Score: 20.0 on minibatch of size 35 with parameters ['Predictor 0: Instruction 2'].\n",
      "2025/06/29 22:40:18 INFO dspy.teleprompt.mipro_optimizer_v2: Minibatch scores so far: [14.29, 8.57, 20.0, 20.0, 20.0]\n",
      "2025/06/29 22:40:18 INFO dspy.teleprompt.mipro_optimizer_v2: Full eval scores so far: [16.88]\n",
      "2025/06/29 22:40:18 INFO dspy.teleprompt.mipro_optimizer_v2: Best full score so far: 16.88\n",
      "2025/06/29 22:40:18 INFO dspy.teleprompt.mipro_optimizer_v2: =========================================\n",
      "\n",
      "\n",
      "2025/06/29 22:40:18 INFO dspy.teleprompt.mipro_optimizer_v2: ===== Trial 7 / 23 - Full Evaluation =====\n",
      "2025/06/29 22:40:18 INFO dspy.teleprompt.mipro_optimizer_v2: Doing full eval on next top averaging program (Avg Score: 20.0) from minibatch trials...\n"
     ]
    },
    {
     "name": "stdout",
     "output_type": "stream",
     "text": [
      "\n",
      "Average Metric: 27.00 / 160 (16.9%): 100%|██████████| 160/160 [00:00<00:00, 1493.68it/s]"
     ]
    },
    {
     "name": "stderr",
     "output_type": "stream",
     "text": [
      "2025/06/29 22:40:18 INFO dspy.evaluate.evaluate: Average Metric: 27 / 160 (16.9%)\n",
      "2025/06/29 22:40:18 INFO dspy.teleprompt.mipro_optimizer_v2: Full eval scores so far: [16.88, 16.88]\n",
      "2025/06/29 22:40:18 INFO dspy.teleprompt.mipro_optimizer_v2: Best full score so far: 16.88\n",
      "2025/06/29 22:40:18 INFO dspy.teleprompt.mipro_optimizer_v2: =======================\n",
      "2025/06/29 22:40:18 INFO dspy.teleprompt.mipro_optimizer_v2: \n",
      "\n",
      "2025/06/29 22:40:18 INFO dspy.teleprompt.mipro_optimizer_v2: == Trial 8 / 23 - Minibatch ==\n"
     ]
    },
    {
     "name": "stdout",
     "output_type": "stream",
     "text": [
      "\n",
      "Average Metric: 5.00 / 35 (14.3%): 100%|██████████| 35/35 [00:08<00:00,  4.28it/s]"
     ]
    },
    {
     "name": "stderr",
     "output_type": "stream",
     "text": [
      "2025/06/29 22:40:27 INFO dspy.evaluate.evaluate: Average Metric: 5 / 35 (14.3%)\n",
      "2025/06/29 22:40:27 INFO dspy.teleprompt.mipro_optimizer_v2: Score: 14.29 on minibatch of size 35 with parameters ['Predictor 0: Instruction 2'].\n",
      "2025/06/29 22:40:27 INFO dspy.teleprompt.mipro_optimizer_v2: Minibatch scores so far: [14.29, 8.57, 20.0, 20.0, 20.0, 14.29]\n",
      "2025/06/29 22:40:27 INFO dspy.teleprompt.mipro_optimizer_v2: Full eval scores so far: [16.88, 16.88]\n",
      "2025/06/29 22:40:27 INFO dspy.teleprompt.mipro_optimizer_v2: Best full score so far: 16.88\n",
      "2025/06/29 22:40:27 INFO dspy.teleprompt.mipro_optimizer_v2: =========================================\n",
      "\n",
      "\n",
      "2025/06/29 22:40:27 INFO dspy.teleprompt.mipro_optimizer_v2: == Trial 9 / 23 - Minibatch ==\n"
     ]
    },
    {
     "name": "stdout",
     "output_type": "stream",
     "text": [
      "\n",
      "Average Metric: 7.00 / 35 (20.0%): 100%|██████████| 35/35 [00:00<00:00, 1656.01it/s]"
     ]
    },
    {
     "name": "stderr",
     "output_type": "stream",
     "text": [
      "2025/06/29 22:40:27 INFO dspy.evaluate.evaluate: Average Metric: 7 / 35 (20.0%)\n",
      "2025/06/29 22:40:27 INFO dspy.teleprompt.mipro_optimizer_v2: Score: 20.0 on minibatch of size 35 with parameters ['Predictor 0: Instruction 0'].\n",
      "2025/06/29 22:40:27 INFO dspy.teleprompt.mipro_optimizer_v2: Minibatch scores so far: [14.29, 8.57, 20.0, 20.0, 20.0, 14.29, 20.0]\n",
      "2025/06/29 22:40:27 INFO dspy.teleprompt.mipro_optimizer_v2: Full eval scores so far: [16.88, 16.88]\n",
      "2025/06/29 22:40:27 INFO dspy.teleprompt.mipro_optimizer_v2: Best full score so far: 16.88\n",
      "2025/06/29 22:40:27 INFO dspy.teleprompt.mipro_optimizer_v2: =========================================\n",
      "\n",
      "\n",
      "2025/06/29 22:40:27 INFO dspy.teleprompt.mipro_optimizer_v2: == Trial 10 / 23 - Minibatch ==\n"
     ]
    },
    {
     "name": "stdout",
     "output_type": "stream",
     "text": [
      "\n",
      "Average Metric: 8.00 / 35 (22.9%): 100%|██████████| 35/35 [00:06<00:00,  5.38it/s]"
     ]
    },
    {
     "name": "stderr",
     "output_type": "stream",
     "text": [
      "2025/06/29 22:40:33 INFO dspy.evaluate.evaluate: Average Metric: 8 / 35 (22.9%)\n",
      "2025/06/29 22:40:33 INFO dspy.teleprompt.mipro_optimizer_v2: Score: 22.86 on minibatch of size 35 with parameters ['Predictor 0: Instruction 2'].\n",
      "2025/06/29 22:40:33 INFO dspy.teleprompt.mipro_optimizer_v2: Minibatch scores so far: [14.29, 8.57, 20.0, 20.0, 20.0, 14.29, 20.0, 22.86]\n",
      "2025/06/29 22:40:33 INFO dspy.teleprompt.mipro_optimizer_v2: Full eval scores so far: [16.88, 16.88]\n",
      "2025/06/29 22:40:33 INFO dspy.teleprompt.mipro_optimizer_v2: Best full score so far: 16.88\n",
      "2025/06/29 22:40:33 INFO dspy.teleprompt.mipro_optimizer_v2: ==========================================\n",
      "\n",
      "\n",
      "2025/06/29 22:40:33 INFO dspy.teleprompt.mipro_optimizer_v2: == Trial 11 / 23 - Minibatch ==\n"
     ]
    },
    {
     "name": "stdout",
     "output_type": "stream",
     "text": [
      "\n",
      "Average Metric: 6.00 / 35 (17.1%): 100%|██████████| 35/35 [00:14<00:00,  2.48it/s]"
     ]
    },
    {
     "name": "stderr",
     "output_type": "stream",
     "text": [
      "2025/06/29 22:40:48 INFO dspy.evaluate.evaluate: Average Metric: 6 / 35 (17.1%)\n",
      "2025/06/29 22:40:48 INFO dspy.teleprompt.mipro_optimizer_v2: Score: 17.14 on minibatch of size 35 with parameters ['Predictor 0: Instruction 3'].\n",
      "2025/06/29 22:40:48 INFO dspy.teleprompt.mipro_optimizer_v2: Minibatch scores so far: [14.29, 8.57, 20.0, 20.0, 20.0, 14.29, 20.0, 22.86, 17.14]\n",
      "2025/06/29 22:40:48 INFO dspy.teleprompt.mipro_optimizer_v2: Full eval scores so far: [16.88, 16.88]\n",
      "2025/06/29 22:40:48 INFO dspy.teleprompt.mipro_optimizer_v2: Best full score so far: 16.88\n",
      "2025/06/29 22:40:48 INFO dspy.teleprompt.mipro_optimizer_v2: ==========================================\n",
      "\n",
      "\n",
      "2025/06/29 22:40:48 INFO dspy.teleprompt.mipro_optimizer_v2: == Trial 12 / 23 - Minibatch ==\n"
     ]
    },
    {
     "name": "stdout",
     "output_type": "stream",
     "text": [
      "\n",
      "Average Metric: 3.00 / 35 (8.6%): 100%|██████████| 35/35 [00:07<00:00,  4.58it/s]  "
     ]
    },
    {
     "name": "stderr",
     "output_type": "stream",
     "text": [
      "2025/06/29 22:40:56 INFO dspy.evaluate.evaluate: Average Metric: 3 / 35 (8.6%)\n",
      "2025/06/29 22:40:56 INFO dspy.teleprompt.mipro_optimizer_v2: Score: 8.57 on minibatch of size 35 with parameters ['Predictor 0: Instruction 2'].\n",
      "2025/06/29 22:40:56 INFO dspy.teleprompt.mipro_optimizer_v2: Minibatch scores so far: [14.29, 8.57, 20.0, 20.0, 20.0, 14.29, 20.0, 22.86, 17.14, 8.57]\n",
      "2025/06/29 22:40:56 INFO dspy.teleprompt.mipro_optimizer_v2: Full eval scores so far: [16.88, 16.88]\n",
      "2025/06/29 22:40:56 INFO dspy.teleprompt.mipro_optimizer_v2: Best full score so far: 16.88\n",
      "2025/06/29 22:40:56 INFO dspy.teleprompt.mipro_optimizer_v2: ==========================================\n",
      "\n",
      "\n",
      "2025/06/29 22:40:56 INFO dspy.teleprompt.mipro_optimizer_v2: ===== Trial 13 / 23 - Full Evaluation =====\n",
      "2025/06/29 22:40:56 INFO dspy.teleprompt.mipro_optimizer_v2: Doing full eval on next top averaging program (Avg Score: 20.0) from minibatch trials...\n"
     ]
    },
    {
     "name": "stdout",
     "output_type": "stream",
     "text": [
      "\n",
      "Average Metric: 30.00 / 160 (18.8%): 100%|██████████| 160/160 [00:25<00:00,  6.35it/s]"
     ]
    },
    {
     "name": "stderr",
     "output_type": "stream",
     "text": [
      "2025/06/29 22:41:21 INFO dspy.evaluate.evaluate: Average Metric: 30 / 160 (18.8%)\n",
      "2025/06/29 22:41:21 INFO dspy.teleprompt.mipro_optimizer_v2: \u001b[92mNew best full eval score!\u001b[0m Score: 18.75\n",
      "2025/06/29 22:41:21 INFO dspy.teleprompt.mipro_optimizer_v2: Full eval scores so far: [16.88, 16.88, 18.75]\n",
      "2025/06/29 22:41:21 INFO dspy.teleprompt.mipro_optimizer_v2: Best full score so far: 18.75\n",
      "2025/06/29 22:41:21 INFO dspy.teleprompt.mipro_optimizer_v2: =======================\n",
      "2025/06/29 22:41:21 INFO dspy.teleprompt.mipro_optimizer_v2: \n",
      "\n",
      "2025/06/29 22:41:21 INFO dspy.teleprompt.mipro_optimizer_v2: == Trial 14 / 23 - Minibatch ==\n"
     ]
    },
    {
     "name": "stdout",
     "output_type": "stream",
     "text": [
      "\n",
      "Average Metric: 6.00 / 35 (17.1%): 100%|██████████| 35/35 [00:12<00:00,  2.86it/s]"
     ]
    },
    {
     "name": "stderr",
     "output_type": "stream",
     "text": [
      "2025/06/29 22:41:33 INFO dspy.evaluate.evaluate: Average Metric: 6 / 35 (17.1%)\n",
      "2025/06/29 22:41:33 INFO dspy.teleprompt.mipro_optimizer_v2: Score: 17.14 on minibatch of size 35 with parameters ['Predictor 0: Instruction 3'].\n",
      "2025/06/29 22:41:33 INFO dspy.teleprompt.mipro_optimizer_v2: Minibatch scores so far: [14.29, 8.57, 20.0, 20.0, 20.0, 14.29, 20.0, 22.86, 17.14, 8.57, 17.14]\n",
      "2025/06/29 22:41:33 INFO dspy.teleprompt.mipro_optimizer_v2: Full eval scores so far: [16.88, 16.88, 18.75]\n",
      "2025/06/29 22:41:33 INFO dspy.teleprompt.mipro_optimizer_v2: Best full score so far: 18.75\n",
      "2025/06/29 22:41:33 INFO dspy.teleprompt.mipro_optimizer_v2: ==========================================\n",
      "\n",
      "\n",
      "2025/06/29 22:41:33 INFO dspy.teleprompt.mipro_optimizer_v2: == Trial 15 / 23 - Minibatch ==\n"
     ]
    },
    {
     "name": "stdout",
     "output_type": "stream",
     "text": [
      "\n",
      "Average Metric: 10.00 / 35 (28.6%): 100%|██████████| 35/35 [00:08<00:00,  3.96it/s]"
     ]
    },
    {
     "name": "stderr",
     "output_type": "stream",
     "text": [
      "2025/06/29 22:41:42 INFO dspy.evaluate.evaluate: Average Metric: 10 / 35 (28.6%)\n",
      "2025/06/29 22:41:43 INFO dspy.teleprompt.mipro_optimizer_v2: Score: 28.57 on minibatch of size 35 with parameters ['Predictor 0: Instruction 1'].\n",
      "2025/06/29 22:41:43 INFO dspy.teleprompt.mipro_optimizer_v2: Minibatch scores so far: [14.29, 8.57, 20.0, 20.0, 20.0, 14.29, 20.0, 22.86, 17.14, 8.57, 17.14, 28.57]\n",
      "2025/06/29 22:41:43 INFO dspy.teleprompt.mipro_optimizer_v2: Full eval scores so far: [16.88, 16.88, 18.75]\n",
      "2025/06/29 22:41:43 INFO dspy.teleprompt.mipro_optimizer_v2: Best full score so far: 18.75\n",
      "2025/06/29 22:41:43 INFO dspy.teleprompt.mipro_optimizer_v2: ==========================================\n",
      "\n",
      "\n",
      "2025/06/29 22:41:43 INFO dspy.teleprompt.mipro_optimizer_v2: == Trial 16 / 23 - Minibatch ==\n"
     ]
    },
    {
     "name": "stdout",
     "output_type": "stream",
     "text": [
      "\n",
      "Average Metric: 10.00 / 35 (28.6%): 100%|██████████| 35/35 [00:10<00:00,  3.38it/s]"
     ]
    },
    {
     "name": "stderr",
     "output_type": "stream",
     "text": [
      "2025/06/29 22:41:53 INFO dspy.evaluate.evaluate: Average Metric: 10 / 35 (28.6%)\n",
      "2025/06/29 22:41:53 INFO dspy.teleprompt.mipro_optimizer_v2: Score: 28.57 on minibatch of size 35 with parameters ['Predictor 0: Instruction 1'].\n",
      "2025/06/29 22:41:53 INFO dspy.teleprompt.mipro_optimizer_v2: Minibatch scores so far: [14.29, 8.57, 20.0, 20.0, 20.0, 14.29, 20.0, 22.86, 17.14, 8.57, 17.14, 28.57, 28.57]\n",
      "2025/06/29 22:41:53 INFO dspy.teleprompt.mipro_optimizer_v2: Full eval scores so far: [16.88, 16.88, 18.75]\n",
      "2025/06/29 22:41:53 INFO dspy.teleprompt.mipro_optimizer_v2: Best full score so far: 18.75\n",
      "2025/06/29 22:41:53 INFO dspy.teleprompt.mipro_optimizer_v2: ==========================================\n",
      "\n",
      "\n",
      "2025/06/29 22:41:53 INFO dspy.teleprompt.mipro_optimizer_v2: == Trial 17 / 23 - Minibatch ==\n"
     ]
    },
    {
     "name": "stdout",
     "output_type": "stream",
     "text": [
      "\n",
      "Average Metric: 7.00 / 35 (20.0%): 100%|██████████| 35/35 [00:06<00:00,  5.66it/s] "
     ]
    },
    {
     "name": "stderr",
     "output_type": "stream",
     "text": [
      "2025/06/29 22:41:59 INFO dspy.evaluate.evaluate: Average Metric: 7 / 35 (20.0%)\n",
      "2025/06/29 22:41:59 INFO dspy.teleprompt.mipro_optimizer_v2: Score: 20.0 on minibatch of size 35 with parameters ['Predictor 0: Instruction 1'].\n",
      "2025/06/29 22:41:59 INFO dspy.teleprompt.mipro_optimizer_v2: Minibatch scores so far: [14.29, 8.57, 20.0, 20.0, 20.0, 14.29, 20.0, 22.86, 17.14, 8.57, 17.14, 28.57, 28.57, 20.0]\n",
      "2025/06/29 22:41:59 INFO dspy.teleprompt.mipro_optimizer_v2: Full eval scores so far: [16.88, 16.88, 18.75]\n",
      "2025/06/29 22:41:59 INFO dspy.teleprompt.mipro_optimizer_v2: Best full score so far: 18.75\n",
      "2025/06/29 22:41:59 INFO dspy.teleprompt.mipro_optimizer_v2: ==========================================\n",
      "\n",
      "\n",
      "2025/06/29 22:41:59 INFO dspy.teleprompt.mipro_optimizer_v2: == Trial 18 / 23 - Minibatch ==\n"
     ]
    },
    {
     "name": "stdout",
     "output_type": "stream",
     "text": [
      "\n",
      "Average Metric: 7.00 / 35 (20.0%): 100%|██████████| 35/35 [00:06<00:00,  5.02it/s] "
     ]
    },
    {
     "name": "stderr",
     "output_type": "stream",
     "text": [
      "2025/06/29 22:42:06 INFO dspy.evaluate.evaluate: Average Metric: 7 / 35 (20.0%)\n",
      "2025/06/29 22:42:06 INFO dspy.teleprompt.mipro_optimizer_v2: Score: 20.0 on minibatch of size 35 with parameters ['Predictor 0: Instruction 1'].\n",
      "2025/06/29 22:42:06 INFO dspy.teleprompt.mipro_optimizer_v2: Minibatch scores so far: [14.29, 8.57, 20.0, 20.0, 20.0, 14.29, 20.0, 22.86, 17.14, 8.57, 17.14, 28.57, 28.57, 20.0, 20.0]\n",
      "2025/06/29 22:42:06 INFO dspy.teleprompt.mipro_optimizer_v2: Full eval scores so far: [16.88, 16.88, 18.75]\n",
      "2025/06/29 22:42:06 INFO dspy.teleprompt.mipro_optimizer_v2: Best full score so far: 18.75\n",
      "2025/06/29 22:42:06 INFO dspy.teleprompt.mipro_optimizer_v2: ==========================================\n",
      "\n",
      "\n",
      "2025/06/29 22:42:06 INFO dspy.teleprompt.mipro_optimizer_v2: ===== Trial 19 / 23 - Full Evaluation =====\n",
      "2025/06/29 22:42:06 INFO dspy.teleprompt.mipro_optimizer_v2: Doing full eval on next top averaging program (Avg Score: 22.286) from minibatch trials...\n"
     ]
    },
    {
     "name": "stdout",
     "output_type": "stream",
     "text": [
      "\n",
      "Average Metric: 28.00 / 160 (17.5%): 100%|██████████| 160/160 [00:16<00:00,  9.60it/s]"
     ]
    },
    {
     "name": "stderr",
     "output_type": "stream",
     "text": [
      "2025/06/29 22:42:23 INFO dspy.evaluate.evaluate: Average Metric: 28 / 160 (17.5%)\n",
      "2025/06/29 22:42:23 INFO dspy.teleprompt.mipro_optimizer_v2: Full eval scores so far: [16.88, 16.88, 18.75, 17.5]\n",
      "2025/06/29 22:42:23 INFO dspy.teleprompt.mipro_optimizer_v2: Best full score so far: 18.75\n",
      "2025/06/29 22:42:23 INFO dspy.teleprompt.mipro_optimizer_v2: =======================\n",
      "2025/06/29 22:42:23 INFO dspy.teleprompt.mipro_optimizer_v2: \n",
      "\n",
      "2025/06/29 22:42:23 INFO dspy.teleprompt.mipro_optimizer_v2: == Trial 20 / 23 - Minibatch ==\n"
     ]
    },
    {
     "name": "stdout",
     "output_type": "stream",
     "text": [
      "\n",
      "Average Metric: 7.00 / 35 (20.0%): 100%|██████████| 35/35 [00:00<00:00, 1447.65it/s]"
     ]
    },
    {
     "name": "stderr",
     "output_type": "stream",
     "text": [
      "2025/06/29 22:42:24 INFO dspy.evaluate.evaluate: Average Metric: 7 / 35 (20.0%)\n",
      "2025/06/29 22:42:24 INFO dspy.teleprompt.mipro_optimizer_v2: Score: 20.0 on minibatch of size 35 with parameters ['Predictor 0: Instruction 1'].\n",
      "2025/06/29 22:42:24 INFO dspy.teleprompt.mipro_optimizer_v2: Minibatch scores so far: [14.29, 8.57, 20.0, 20.0, 20.0, 14.29, 20.0, 22.86, 17.14, 8.57, 17.14, 28.57, 28.57, 20.0, 20.0, 20.0]\n",
      "2025/06/29 22:42:24 INFO dspy.teleprompt.mipro_optimizer_v2: Full eval scores so far: [16.88, 16.88, 18.75, 17.5]\n",
      "2025/06/29 22:42:24 INFO dspy.teleprompt.mipro_optimizer_v2: Best full score so far: 18.75\n",
      "2025/06/29 22:42:24 INFO dspy.teleprompt.mipro_optimizer_v2: ==========================================\n",
      "\n",
      "\n",
      "2025/06/29 22:42:24 INFO dspy.teleprompt.mipro_optimizer_v2: == Trial 21 / 23 - Minibatch ==\n"
     ]
    },
    {
     "name": "stdout",
     "output_type": "stream",
     "text": [
      "\n",
      "Average Metric: 5.00 / 35 (14.3%): 100%|██████████| 35/35 [00:09<00:00,  3.75it/s]"
     ]
    },
    {
     "name": "stderr",
     "output_type": "stream",
     "text": [
      "2025/06/29 22:42:33 INFO dspy.evaluate.evaluate: Average Metric: 5 / 35 (14.3%)\n",
      "2025/06/29 22:42:33 INFO dspy.teleprompt.mipro_optimizer_v2: Score: 14.29 on minibatch of size 35 with parameters ['Predictor 0: Instruction 5'].\n",
      "2025/06/29 22:42:33 INFO dspy.teleprompt.mipro_optimizer_v2: Minibatch scores so far: [14.29, 8.57, 20.0, 20.0, 20.0, 14.29, 20.0, 22.86, 17.14, 8.57, 17.14, 28.57, 28.57, 20.0, 20.0, 20.0, 14.29]\n",
      "2025/06/29 22:42:33 INFO dspy.teleprompt.mipro_optimizer_v2: Full eval scores so far: [16.88, 16.88, 18.75, 17.5]\n",
      "2025/06/29 22:42:33 INFO dspy.teleprompt.mipro_optimizer_v2: Best full score so far: 18.75\n",
      "2025/06/29 22:42:33 INFO dspy.teleprompt.mipro_optimizer_v2: ==========================================\n",
      "\n",
      "\n",
      "2025/06/29 22:42:33 INFO dspy.teleprompt.mipro_optimizer_v2: == Trial 22 / 23 - Minibatch ==\n"
     ]
    },
    {
     "name": "stdout",
     "output_type": "stream",
     "text": [
      "\n",
      "Average Metric: 9.00 / 35 (25.7%): 100%|██████████| 35/35 [00:10<00:00,  3.31it/s] "
     ]
    },
    {
     "name": "stderr",
     "output_type": "stream",
     "text": [
      "2025/06/29 22:42:44 INFO dspy.evaluate.evaluate: Average Metric: 9 / 35 (25.7%)\n",
      "2025/06/29 22:42:44 INFO dspy.teleprompt.mipro_optimizer_v2: Score: 25.71 on minibatch of size 35 with parameters ['Predictor 0: Instruction 2'].\n",
      "2025/06/29 22:42:44 INFO dspy.teleprompt.mipro_optimizer_v2: Minibatch scores so far: [14.29, 8.57, 20.0, 20.0, 20.0, 14.29, 20.0, 22.86, 17.14, 8.57, 17.14, 28.57, 28.57, 20.0, 20.0, 20.0, 14.29, 25.71]\n",
      "2025/06/29 22:42:44 INFO dspy.teleprompt.mipro_optimizer_v2: Full eval scores so far: [16.88, 16.88, 18.75, 17.5]\n",
      "2025/06/29 22:42:44 INFO dspy.teleprompt.mipro_optimizer_v2: Best full score so far: 18.75\n",
      "2025/06/29 22:42:44 INFO dspy.teleprompt.mipro_optimizer_v2: ==========================================\n",
      "\n",
      "\n",
      "2025/06/29 22:42:44 INFO dspy.teleprompt.mipro_optimizer_v2: ===== Trial 23 / 23 - Full Evaluation =====\n",
      "2025/06/29 22:42:44 INFO dspy.teleprompt.mipro_optimizer_v2: Doing full eval on next top averaging program (Avg Score: 18.286) from minibatch trials...\n"
     ]
    },
    {
     "name": "stdout",
     "output_type": "stream",
     "text": [
      "\n",
      "Average Metric: 29.00 / 160 (18.1%): 100%|██████████| 160/160 [00:12<00:00, 12.80it/s] "
     ]
    },
    {
     "name": "stderr",
     "output_type": "stream",
     "text": [
      "2025/06/29 22:42:56 INFO dspy.evaluate.evaluate: Average Metric: 29 / 160 (18.1%)\n",
      "2025/06/29 22:42:56 INFO dspy.teleprompt.mipro_optimizer_v2: Full eval scores so far: [16.88, 16.88, 18.75, 17.5, 18.12]\n",
      "2025/06/29 22:42:56 INFO dspy.teleprompt.mipro_optimizer_v2: Best full score so far: 18.75\n",
      "2025/06/29 22:42:56 INFO dspy.teleprompt.mipro_optimizer_v2: =======================\n",
      "2025/06/29 22:42:56 INFO dspy.teleprompt.mipro_optimizer_v2: \n",
      "\n",
      "2025/06/29 22:42:56 INFO dspy.teleprompt.mipro_optimizer_v2: Returning best identified program with score 18.75!\n"
     ]
    },
    {
     "name": "stdout",
     "output_type": "stream",
     "text": [
      "\n"
     ]
    }
   ],
   "source": [
    "tp = dspy.MIPROv2(metric=evaluation_metric, auto=\"medium\", num_threads=24)  # use fewer threads if your rate limit is small\n",
    "\n",
    "optimized_answer = tp.compile(answer, trainset=trainset,\n",
    "                           max_bootstrapped_demos=2, max_labeled_demos=2,\n",
    "                           requires_permission_to_run=False)"
   ]
  },
  {
   "cell_type": "code",
   "execution_count": 20,
   "metadata": {},
   "outputs": [
    {
     "name": "stdout",
     "output_type": "stream",
     "text": [
      "Average Metric: 9.00 / 50 (18.0%): 100%|██████████| 50/50 [00:12<00:00,  3.86it/s]"
     ]
    },
    {
     "name": "stderr",
     "output_type": "stream",
     "text": [
      "2025/06/29 22:47:43 INFO dspy.evaluate.evaluate: Average Metric: 9 / 50 (18.0%)\n"
     ]
    },
    {
     "name": "stdout",
     "output_type": "stream",
     "text": [
      "\n"
     ]
    },
    {
     "data": {
      "text/html": [
       "<div>\n",
       "<style scoped>\n",
       "    .dataframe tbody tr th:only-of-type {\n",
       "        vertical-align: middle;\n",
       "    }\n",
       "\n",
       "    .dataframe tbody tr th {\n",
       "        vertical-align: top;\n",
       "    }\n",
       "\n",
       "    .dataframe thead th {\n",
       "        text-align: right;\n",
       "    }\n",
       "</style>\n",
       "<table border=\"1\" class=\"dataframe\">\n",
       "  <thead>\n",
       "    <tr style=\"text-align: right;\">\n",
       "      <th></th>\n",
       "      <th>question</th>\n",
       "      <th>context</th>\n",
       "      <th>documents</th>\n",
       "      <th>disambig_entity</th>\n",
       "      <th>gold_answers</th>\n",
       "      <th>wrong_answers</th>\n",
       "      <th>correct_answers</th>\n",
       "      <th>explanation</th>\n",
       "      <th>evaluation_metric</th>\n",
       "    </tr>\n",
       "  </thead>\n",
       "  <tbody>\n",
       "    <tr>\n",
       "      <th>0</th>\n",
       "      <td>What is the gender composition of Wirral Grammar School?</td>\n",
       "      <td>Document 1: Wirral Grammar School for Boys Wirral Grammar School f...</td>\n",
       "      <td>[{'text': \"Wirral Grammar School for Boys Wirral Grammar School fo...</td>\n",
       "      <td>[Wirral Grammar School for Boys, Wirral Grammar School for Girls]</td>\n",
       "      <td>[Boys, All-girls]</td>\n",
       "      <td>[Girls, Girls]</td>\n",
       "      <td>[Boys, Girls]</td>\n",
       "      <td>The gender composition of Wirral Grammar School is split into two ...</td>\n",
       "      <td></td>\n",
       "    </tr>\n",
       "    <tr>\n",
       "      <th>1</th>\n",
       "      <td>When was Harry Harvey born?</td>\n",
       "      <td>Document 1: Harry Harvey (Medal of Honor, 1865) Harry Harvey (Dece...</td>\n",
       "      <td>[{'text': 'Harry Harvey (Medal of Honor, 1865) Harry Harvey (Decem...</td>\n",
       "      <td>[Harry Harvey (Medal of Honor, 1865), Harry Harvey (Medal of Honor...</td>\n",
       "      <td>[December 14, 1846, June 4, 1873, January 10, 1901]</td>\n",
       "      <td>[]</td>\n",
       "      <td>[December 14, 1846, June 4, 1873, January 10, 1901]</td>\n",
       "      <td>There are three different individuals named Harry Harvey mentioned...</td>\n",
       "      <td>✔️ [1]</td>\n",
       "    </tr>\n",
       "  </tbody>\n",
       "</table>\n",
       "</div>"
      ],
      "text/plain": [
       "                                                   question  \\\n",
       "0  What is the gender composition of Wirral Grammar School?   \n",
       "1                               When was Harry Harvey born?   \n",
       "\n",
       "                                                                 context  \\\n",
       "0  Document 1: Wirral Grammar School for Boys Wirral Grammar School f...   \n",
       "1  Document 1: Harry Harvey (Medal of Honor, 1865) Harry Harvey (Dece...   \n",
       "\n",
       "                                                               documents  \\\n",
       "0  [{'text': \"Wirral Grammar School for Boys Wirral Grammar School fo...   \n",
       "1  [{'text': 'Harry Harvey (Medal of Honor, 1865) Harry Harvey (Decem...   \n",
       "\n",
       "                                                         disambig_entity  \\\n",
       "0      [Wirral Grammar School for Boys, Wirral Grammar School for Girls]   \n",
       "1  [Harry Harvey (Medal of Honor, 1865), Harry Harvey (Medal of Honor...   \n",
       "\n",
       "                                          gold_answers   wrong_answers  \\\n",
       "0                                    [Boys, All-girls]  [Girls, Girls]   \n",
       "1  [December 14, 1846, June 4, 1873, January 10, 1901]              []   \n",
       "\n",
       "                                       correct_answers  \\\n",
       "0                                        [Boys, Girls]   \n",
       "1  [December 14, 1846, June 4, 1873, January 10, 1901]   \n",
       "\n",
       "                                                             explanation  \\\n",
       "0  The gender composition of Wirral Grammar School is split into two ...   \n",
       "1  There are three different individuals named Harry Harvey mentioned...   \n",
       "\n",
       "  evaluation_metric  \n",
       "0                    \n",
       "1            ✔️ [1]  "
      ]
     },
     "metadata": {},
     "output_type": "display_data"
    },
    {
     "data": {
      "text/html": [
       "\n",
       "            <div style='\n",
       "                text-align: center;\n",
       "                font-size: 16px;\n",
       "                font-weight: bold;\n",
       "                color: #555;\n",
       "                margin: 10px 0;'>\n",
       "                ... 48 more rows not displayed ...\n",
       "            </div>\n",
       "            "
      ],
      "text/plain": [
       "<IPython.core.display.HTML object>"
      ]
     },
     "metadata": {},
     "output_type": "display_data"
    },
    {
     "data": {
      "text/plain": [
       "18.0"
      ]
     },
     "execution_count": 20,
     "metadata": {},
     "output_type": "execute_result"
    }
   ],
   "source": [
    "evaluate(optimized_answer)"
   ]
  },
  {
   "cell_type": "code",
   "execution_count": null,
   "metadata": {},
   "outputs": [],
   "source": []
  }
 ],
 "metadata": {
  "kernelspec": {
   "display_name": ".venv",
   "language": "python",
   "name": "python3"
  },
  "language_info": {
   "codemirror_mode": {
    "name": "ipython",
    "version": 3
   },
   "file_extension": ".py",
   "mimetype": "text/x-python",
   "name": "python",
   "nbconvert_exporter": "python",
   "pygments_lexer": "ipython3",
   "version": "3.12.10"
  }
 },
 "nbformat": 4,
 "nbformat_minor": 2
}
